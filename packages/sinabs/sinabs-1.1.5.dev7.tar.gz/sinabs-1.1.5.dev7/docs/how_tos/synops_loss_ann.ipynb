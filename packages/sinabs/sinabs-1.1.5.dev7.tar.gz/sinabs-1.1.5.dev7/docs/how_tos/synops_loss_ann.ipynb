{
 "cells": [
  {
   "cell_type": "markdown",
   "metadata": {},
   "source": [
    "# Training an ANN with fewer synops\n",
    "As described in [Sorbaro et al. 2020](https://www.frontiersin.org/articles/10.3389/fnins.2020.00662/full), it can be beneficial for power consumption and latency in the network to reduce the number of synaptic operations (synops). This number is essentially the output activation multiplied by the number of outward connections (fan-out) to the next layer. We describe how using Sinabs' synops counters it's possible to easily add a term to your loss function which then can be minimised.\n",
    "\n",
    "Let's start by defining our ANN. Keep in mind that we use NeuromorphicRelus here as we need to discretize the output in the forward pass to simulate the number of spikes that layer would emit. In the backward pass the derivative of the ReLU function is used. "
   ]
  },
  {
   "cell_type": "code",
   "execution_count": 1,
   "metadata": {},
   "outputs": [],
   "source": [
    "import torch\n",
    "import torch.nn as nn\n",
    "import sinabs\n",
    "import sinabs.layers as sl\n",
    "\n",
    "\n",
    "ann = nn.Sequential(\n",
    "    nn.Conv2d(1, 16, 5, bias=False),\n",
    "    sl.NeuromorphicReLU(),\n",
    "    sl.SumPool2d(2),\n",
    "    nn.Conv2d(16, 32, 5, bias=False),\n",
    "    sl.NeuromorphicReLU(),\n",
    "    sl.SumPool2d(2),\n",
    "    nn.Conv2d(32, 120, 4, bias=False),\n",
    "    sl.NeuromorphicReLU(),\n",
    "    nn.Flatten(),\n",
    "    nn.Linear(120, 10, bias=False),\n",
    ")"
   ]
  },
  {
   "cell_type": "markdown",
   "metadata": {},
   "source": [
    "Let's apply a SynopsCounter to our ANN to track how many synaptic operations it would need in an SNN."
   ]
  },
  {
   "cell_type": "code",
   "execution_count": 2,
   "metadata": {},
   "outputs": [
    {
     "name": "stdout",
     "output_type": "stream",
     "text": [
      "Synops after feeding input: 13311.7998046875\n"
     ]
    }
   ],
   "source": [
    "batch_size = 5\n",
    "\n",
    "synops_counter_ann = sinabs.SynOpCounter(ann.modules(), sum_activations=True)\n",
    "\n",
    "rand_input = torch.rand((batch_size, 1, 28, 28)) * 10\n",
    "ann(rand_input)\n",
    "print(f\"Synops after feeding input: {synops_counter_ann()}\")"
   ]
  },
  {
   "cell_type": "code",
   "execution_count": null,
   "metadata": {},
   "outputs": [],
   "source": []
  }
 ],
 "metadata": {
  "kernelspec": {
   "display_name": "Python 3.8.13 ('base')",
   "language": "python",
   "name": "python3"
  },
  "language_info": {
   "codemirror_mode": {
    "name": "ipython",
    "version": 3
   },
   "file_extension": ".py",
   "mimetype": "text/x-python",
   "name": "python",
   "nbconvert_exporter": "python",
   "pygments_lexer": "ipython3",
   "version": "3.8.13"
  },
  "vscode": {
   "interpreter": {
    "hash": "caf264bf03997fa53b380c84044763293a7a6f8ebb5555ee5243fd4d1f495be6"
   }
  }
 },
 "nbformat": 4,
 "nbformat_minor": 2
}
