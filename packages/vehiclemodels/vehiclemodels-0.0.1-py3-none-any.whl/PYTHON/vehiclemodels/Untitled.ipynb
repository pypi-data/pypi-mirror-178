{
 "cells": [
  {
   "cell_type": "code",
   "execution_count": 1,
   "id": "313fee8f",
   "metadata": {},
   "outputs": [
    {
     "ename": "ModuleNotFoundError",
     "evalue": "No module named 'vehiclemodels'",
     "output_type": "error",
     "traceback": [
      "\u001b[1;31m---------------------------------------------------------------------------\u001b[0m",
      "\u001b[1;31mModuleNotFoundError\u001b[0m                       Traceback (most recent call last)",
      "\u001b[1;32m~\\AppData\\Local\\Temp/ipykernel_28812/2662546025.py\u001b[0m in \u001b[0;36m<module>\u001b[1;34m\u001b[0m\n\u001b[0;32m      3\u001b[0m \u001b[1;31m# from vehiclemodels.steeringConstraints import steering_constraints\u001b[0m\u001b[1;33m\u001b[0m\u001b[1;33m\u001b[0m\u001b[0m\n\u001b[0;32m      4\u001b[0m \u001b[1;31m# from vehiclemodels.utils.accelerationConstraints import acceleration_constraints\u001b[0m\u001b[1;33m\u001b[0m\u001b[1;33m\u001b[0m\u001b[0m\n\u001b[1;32m----> 5\u001b[1;33m \u001b[1;32mfrom\u001b[0m \u001b[0mvehiclemodels\u001b[0m\u001b[1;33m.\u001b[0m\u001b[0mutils\u001b[0m\u001b[1;33m.\u001b[0m\u001b[0macceleration_constraints\u001b[0m \u001b[1;32mimport\u001b[0m \u001b[0macceleration_constraints\u001b[0m\u001b[1;33m\u001b[0m\u001b[1;33m\u001b[0m\u001b[0m\n\u001b[0m\u001b[0;32m      6\u001b[0m \u001b[1;32mfrom\u001b[0m \u001b[0mvehiclemodels\u001b[0m\u001b[1;33m.\u001b[0m\u001b[0mutils\u001b[0m\u001b[1;33m.\u001b[0m\u001b[0msteering_constraints\u001b[0m \u001b[1;32mimport\u001b[0m \u001b[0msteering_constraints\u001b[0m\u001b[1;33m\u001b[0m\u001b[1;33m\u001b[0m\u001b[0m\n\u001b[0;32m      7\u001b[0m \u001b[1;33m\u001b[0m\u001b[0m\n",
      "\u001b[1;31mModuleNotFoundError\u001b[0m: No module named 'vehiclemodels'"
     ]
    }
   ],
   "source": [
    "import math\n",
    "\n",
    "# from vehiclemodels.steeringConstraints import steering_constraints\n",
    "# from vehiclemodels.utils.accelerationConstraints import acceleration_constraints\n",
    "from vehiclemodels.utils.acceleration_constraints import acceleration_constraints\n",
    "from vehiclemodels.utils.steering_constraints import steering_constraints\n",
    "\n",
    "__author__ = \"Matthias Althoff\"\n",
    "__copyright__ = \"TUM Cyber-Physical Systems Group\"\n",
    "__version__ = \"2020a\"\n",
    "__maintainer__ = \"Gerald Würsching\"\n",
    "__email__ = \"commonroad@lists.lrz.de\"\n",
    "__status__ = \"Released\"\n",
    "\n",
    "\n",
    "def vehicle_dynamics_ks(x, u_init, p):\n",
    "    \"\"\"\n",
    "    vehicleDynamics_ks - kinematic single-track vehicle dynamics\n",
    "    reference point: rear axle\n",
    "\n",
    "    Syntax:\n",
    "        f = vehicleDynamics_ks(x,u,p)\n",
    "\n",
    "    Inputs:\n",
    "        :param x: vehicle state vector\n",
    "        :param u_init: vehicle input vector\n",
    "        :param p: vehicle parameter vector\n",
    "\n",
    "    Outputs:\n",
    "        :return f: right-hand side of differential equations\n",
    "\n",
    "    Author: Matthias Althoff\n",
    "    Written: 12-January-2017\n",
    "    Last update: 16-December-2017\n",
    "    Last revision: ---\n",
    "    \"\"\"\n",
    "\n",
    "    #------------- BEGIN CODE --------------\n",
    "\n",
    "    #create equivalent kinematic single-track parameters\n",
    "    l = p.a + p.b \n",
    "\n",
    "    #states\n",
    "    #x1 = x-position in a global coordinate system\n",
    "    #x2 = y-position in a global coordinate system\n",
    "    #x3 = steering angle of front wheels\n",
    "    #x4 = velocity in x-direction\n",
    "    #x5 = yaw angle\n",
    "\n",
    "    #u1 = steering angle velocity of front wheels\n",
    "    #u2 = longitudinal acceleration\n",
    "    \n",
    "    #consider steering constraints\n",
    "    u = [];\n",
    "    u.append(steering_constraints(x[2], u_init[0], p.steering)) # different name u_init/u due to side effects of u\n",
    "    #consider acceleration constraints\n",
    "    u.append(acceleration_constraints(x[3], u_init[1], p.longitudinal)) # different name u_init/u due to side effects of u\n",
    "\n",
    "    #system dynamics\n",
    "    f = [x[3]*math.cos(x[4]), \n",
    "        x[3]*math.sin(x[4]), \n",
    "        u[0], \n",
    "        u[1], \n",
    "        x[3]/l*math.tan(x[2])]\n",
    "    \n",
    "    return f"
   ]
  },
  {
   "cell_type": "code",
   "execution_count": null,
   "id": "6f643ede",
   "metadata": {},
   "outputs": [],
   "source": []
  }
 ],
 "metadata": {
  "kernelspec": {
   "display_name": "Python 3 (ipykernel)",
   "language": "python",
   "name": "python3"
  },
  "language_info": {
   "codemirror_mode": {
    "name": "ipython",
    "version": 3
   },
   "file_extension": ".py",
   "mimetype": "text/x-python",
   "name": "python",
   "nbconvert_exporter": "python",
   "pygments_lexer": "ipython3",
   "version": "3.9.7"
  }
 },
 "nbformat": 4,
 "nbformat_minor": 5
}
