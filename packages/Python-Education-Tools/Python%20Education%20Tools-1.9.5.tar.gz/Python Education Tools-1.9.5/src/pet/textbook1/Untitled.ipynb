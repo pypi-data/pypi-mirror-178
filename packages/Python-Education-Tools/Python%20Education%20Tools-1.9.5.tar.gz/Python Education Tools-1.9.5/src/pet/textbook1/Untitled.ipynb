{
 "cells": [
  {
   "cell_type": "code",
   "execution_count": 1,
   "id": "f5728e34",
   "metadata": {},
   "outputs": [
    {
     "ename": "ModuleNotFoundError",
     "evalue": "No module named 'pet.datasets'",
     "output_type": "error",
     "traceback": [
      "\u001b[1;31m---------------------------------------------------------------------------\u001b[0m",
      "\u001b[1;31mModuleNotFoundError\u001b[0m                       Traceback (most recent call last)",
      "\u001b[1;32m~\\AppData\\Local\\Temp\\ipykernel_2040\\2658194449.py\u001b[0m in \u001b[0;36m<cell line: 1>\u001b[1;34m()\u001b[0m\n\u001b[1;32m----> 1\u001b[1;33m \u001b[1;32mfrom\u001b[0m \u001b[0mpet\u001b[0m\u001b[1;33m.\u001b[0m\u001b[0mdatasets\u001b[0m \u001b[1;32mimport\u001b[0m \u001b[0mfactory\u001b[0m\u001b[1;33m\u001b[0m\u001b[1;33m\u001b[0m\u001b[0m\n\u001b[0m",
      "\u001b[1;31mModuleNotFoundError\u001b[0m: No module named 'pet.datasets'"
     ]
    }
   ],
   "source": [
    "from pet.datasets import factory"
   ]
  },
  {
   "cell_type": "code",
   "execution_count": null,
   "id": "a1b85dde",
   "metadata": {},
   "outputs": [],
   "source": [
    "import matplotlib.pyplot as plt\n",
    "from pet.data import load_data\n",
    "\n",
    "students=factory.gen_sample_series(30)\n",
    "plt.rcParams['font.family'] = 'SimHei'\n",
    "fig = plt.figure(figsize=(10,10) ,  dpi=400)\n",
    "s=students.plot\n",
    "plotDemo=[s.line, s.box,s.pie, s.hist,s.area, s.density, s.bar,s.barh]\n",
    "for i,f in enumerate(plotDemo,1):\n",
    "    plt.subplot(4,2,i)\n",
    "    f()\n",
    "plt.savefig(\"k.jpg\",  dpi=400 )\n"
   ]
  }
 ],
 "metadata": {
  "kernelspec": {
   "display_name": "Python 3 (ipykernel)",
   "language": "python",
   "name": "python3"
  },
  "language_info": {
   "codemirror_mode": {
    "name": "ipython",
    "version": 3
   },
   "file_extension": ".py",
   "mimetype": "text/x-python",
   "name": "python",
   "nbconvert_exporter": "python",
   "pygments_lexer": "ipython3",
   "version": "3.10.4"
  }
 },
 "nbformat": 4,
 "nbformat_minor": 5
}
