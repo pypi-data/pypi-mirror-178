{
 "cells": [
  {
   "cell_type": "markdown",
   "metadata": {},
   "source": [
    "# graph_mate\n",
    "\n",
    "Code examples from the README.md"
   ]
  },
  {
   "cell_type": "code",
   "execution_count": 34,
   "metadata": {},
   "outputs": [],
   "source": [
    "import graph_mate as gm\n",
    "import numpy as np"
   ]
  },
  {
   "cell_type": "code",
   "execution_count": 35,
   "metadata": {},
   "outputs": [],
   "source": [
    "# Let's load a small graph:\n",
    "#    (a)-->(b)-->(c)-->(d), (a)-->(c), (b)-->(d)\n",
    "# To load from an edge list, we need to create a 2d numpy array of `uint32`s.\n",
    "edge_list = np.array([\n",
    "    # (a)-->(b)\n",
    "    [0, 1],\n",
    "    # (a)-->(c)\n",
    "    [0, 2],\n",
    "    # (b)-->(c)\n",
    "    [1, 2],\n",
    "    # (b)-->(d)\n",
    "    [1, 3],\n",
    "    # (c)-->(d)\n",
    "    [2, 3]\n",
    "], dtype=np.uint32)"
   ]
  },
  {
   "cell_type": "code",
   "execution_count": 36,
   "metadata": {},
   "outputs": [],
   "source": [
    "# Now we can load a directed graph from the edge list\n",
    "directed = gm.DiGraph.from_numpy(edge_list, gm.Layout.Sorted)\n",
    "\n",
    "# Or we can load an undirected graph\n",
    "undirected = gm.Graph.from_numpy(edge_list, gm.Layout.Sorted)"
   ]
  },
  {
   "cell_type": "code",
   "execution_count": 37,
   "metadata": {},
   "outputs": [],
   "source": [
    "assert directed.node_count() == 4\n",
    "assert directed.edge_count() == 5\n",
    "\n",
    "assert directed.out_degree(1) == 2\n",
    "assert directed.in_degree(1) == 1\n",
    "\n",
    "assert np.array_equal(directed.out_neighbors(1), [2, 3])\n",
    "assert np.array_equal(directed.in_neighbors(1), [0])"
   ]
  },
  {
   "cell_type": "code",
   "execution_count": 38,
   "metadata": {},
   "outputs": [],
   "source": [
    "neighbors = directed.out_neighbors(1)\n",
    "try:\n",
    "    neighbors[0] = 42\n",
    "except ValueError as e:\n",
    "    assert str(e) == \"assignment destination is read-only\"\n"
   ]
  },
  {
   "cell_type": "code",
   "execution_count": 39,
   "metadata": {},
   "outputs": [],
   "source": [
    "neighbors = directed.copy_out_neighbors(1)\n",
    "\n",
    "assert neighbors == [2, 3]\n",
    "assert type(neighbors) == list"
   ]
  },
  {
   "cell_type": "code",
   "execution_count": 40,
   "metadata": {},
   "outputs": [],
   "source": [
    "assert undirected.node_count() == 4\n",
    "assert undirected.edge_count() == 5\n",
    "\n",
    "assert undirected.degree(1) == 3\n",
    "\n",
    "assert np.array_equal(undirected.neighbors(1), [0, 2, 3])\n"
   ]
  },
  {
   "cell_type": "code",
   "execution_count": 41,
   "metadata": {},
   "outputs": [],
   "source": [
    "# https://en.wikipedia.org/wiki/PageRank#/media/File:PageRanks-Example.svg\n",
    "\n",
    "graph = gm.DiGraph.from_numpy(np.array([\n",
    "    (1,2), # B->C\n",
    "    (2,1), # C->B\n",
    "    (4,0), # D->A\n",
    "    (4,1), # D->B\n",
    "    (5,4), # E->D\n",
    "    (5,1), # E->B\n",
    "    (5,6), # E->F\n",
    "    (6,1), # F->B\n",
    "    (6,5), # F->E\n",
    "    (7,1), # G->B\n",
    "    (7,5), # F->E\n",
    "    (8,1), # G->B\n",
    "    (8,5), # G->E\n",
    "    (9,1), # H->B\n",
    "    (9,5), # H->E\n",
    "    (10,1), # I->B\n",
    "    (10,5), # I->E\n",
    "    (11,5), # J->B\n",
    "    (12,5), # K->B\n",
    "], dtype=np.uint32))\n",
    "\n",
    "pr_result = graph.page_rank(max_iterations=10, tolerance=1e-4, damping_factor=0.85)\n",
    "\n",
    "assert pr_result.ran_iterations == 10\n",
    "\n",
    "expected = np.array([\n",
    "    0.024064068,\n",
    "    0.3145448,\n",
    "    0.27890152,\n",
    "    0.01153846,\n",
    "    0.029471997,\n",
    "    0.06329483,\n",
    "    0.029471997,\n",
    "    0.01153846,\n",
    "    0.01153846,\n",
    "    0.01153846,\n",
    "    0.01153846,\n",
    "    0.01153846,\n",
    "    0.01153846,\n",
    "], dtype=np.float32)\n",
    "\n",
    "assert np.array_equal(pr_result.scores(), expected)"
   ]
  }
 ],
 "metadata": {
  "kernelspec": {
   "display_name": "Python 3.10.8 ('.env': venv)",
   "language": "python",
   "name": "python3"
  },
  "language_info": {
   "codemirror_mode": {
    "name": "ipython",
    "version": 3
   },
   "file_extension": ".py",
   "mimetype": "text/x-python",
   "name": "python",
   "nbconvert_exporter": "python",
   "pygments_lexer": "ipython3",
   "version": "3.10.8"
  },
  "orig_nbformat": 4,
  "vscode": {
   "interpreter": {
    "hash": "f63abc17a531eda10b8b39a5f394cf77401f5ce3bd31dc79eb9fef86088541e4"
   }
  }
 },
 "nbformat": 4,
 "nbformat_minor": 2
}
