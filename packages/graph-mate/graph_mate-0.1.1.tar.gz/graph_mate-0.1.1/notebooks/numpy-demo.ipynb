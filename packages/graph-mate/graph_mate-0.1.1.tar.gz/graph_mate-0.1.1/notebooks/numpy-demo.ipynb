{
 "cells": [
  {
   "cell_type": "markdown",
   "id": "21b22918",
   "metadata": {},
   "source": [
    "# Unladen Swallow"
   ]
  },
  {
   "cell_type": "code",
   "execution_count": 1,
   "id": "8a1eb97d",
   "metadata": {},
   "outputs": [],
   "source": [
    "# prepare logging\n",
    "\n",
    "import logging\n",
    "\n",
    "logging.basicConfig(format=\"%(message)s\")\n",
    "logging.getLogger().setLevel(logging.NOTSET)"
   ]
  },
  {
   "cell_type": "code",
   "execution_count": 2,
   "id": "c130f65a",
   "metadata": {},
   "outputs": [],
   "source": [
    "# import the module\n",
    "\n",
    "import graph_mate as gm"
   ]
  },
  {
   "cell_type": "code",
   "execution_count": 3,
   "id": "ace5bb07",
   "metadata": {},
   "outputs": [
    {
     "name": "stderr",
     "output_type": "stream",
     "text": [
      "Read 268435456 edges in 0.16s (18731.71 MB/s)\n",
      "Creating undirected graph\n",
      "Computed degrees in 2.292355416s\n",
      "Computed prefix sum in 9.461583ms\n",
      "Computed target array in 3.553260958s\n",
      "Finalized offset array in 1.97725ms\n",
      "Created csr in 5.858913083s.\n",
      "Created undirected graph (node_count = 16777216, edge_count = 268435456)\n"
     ]
    },
    {
     "data": {
      "text/plain": [
       "Graph { node_count: 16777216, edge_count: 268435456, load_took: 6.071517s }"
      ]
     },
     "execution_count": 3,
     "metadata": {},
     "output_type": "execute_result"
    }
   ],
   "source": [
    "# load an undirected graph\n",
    "g = gm.Graph.load(\"scale24.graph\")\n",
    "g"
   ]
  },
  {
   "cell_type": "code",
   "execution_count": 4,
   "id": "f965f012",
   "metadata": {},
   "outputs": [
    {
     "data": {
      "text/plain": [
       "24"
      ]
     },
     "execution_count": 4,
     "metadata": {},
     "output_type": "execute_result"
    }
   ],
   "source": [
    "# get degree of first node\n",
    "g.degree(0)"
   ]
  },
  {
   "cell_type": "code",
   "execution_count": 5,
   "id": "d74960b1",
   "metadata": {},
   "outputs": [
    {
     "name": "stderr",
     "output_type": "stream",
     "text": [
      "Relabel: sorted degree-node-pairs in 142.65525ms\n",
      "Relabel: built degrees and id map in 19.327ms\n",
      "Relabel: built and sorted targets in 1.53978925s\n"
     ]
    }
   ],
   "source": [
    "# reorder the graph by degree\n",
    "g.make_degree_ordered()"
   ]
  },
  {
   "cell_type": "code",
   "execution_count": 6,
   "id": "ba9ee139",
   "metadata": {},
   "outputs": [
    {
     "data": {
      "text/plain": [
       "740377"
      ]
     },
     "execution_count": 6,
     "metadata": {},
     "output_type": "execute_result"
    }
   ],
   "source": [
    "# degree of the first node is now something else\n",
    "g.degree(0)"
   ]
  },
  {
   "cell_type": "code",
   "execution_count": 7,
   "id": "ea241338",
   "metadata": {},
   "outputs": [],
   "source": [
    "# get all neighbors of the first node, as a numpy array, doesn't create a copy\n",
    "a = g.neighbors(0)"
   ]
  },
  {
   "cell_type": "code",
   "execution_count": 8,
   "id": "1f175cee",
   "metadata": {},
   "outputs": [
    {
     "data": {
      "text/plain": [
       "740377"
      ]
     },
     "execution_count": 8,
     "metadata": {},
     "output_type": "execute_result"
    }
   ],
   "source": [
    "len(a)"
   ]
  },
  {
   "cell_type": "code",
   "execution_count": 9,
   "id": "04a27f09",
   "metadata": {},
   "outputs": [
    {
     "data": {
      "text/plain": [
       "404597075542"
      ]
     },
     "execution_count": 9,
     "metadata": {},
     "output_type": "execute_result"
    }
   ],
   "source": [
    "a.sum()"
   ]
  },
  {
   "cell_type": "code",
   "execution_count": 10,
   "id": "e7e17484",
   "metadata": {},
   "outputs": [],
   "source": [
    "# we can also get thenm as a python list, this does copy the data\n",
    "l = g.copy_neighbors(0)"
   ]
  },
  {
   "cell_type": "code",
   "execution_count": 11,
   "id": "add94c67",
   "metadata": {},
   "outputs": [],
   "source": [
    "# we can delete the graph and still use the neighbors\n",
    "del g"
   ]
  },
  {
   "cell_type": "code",
   "execution_count": 12,
   "id": "b6f5b285",
   "metadata": {},
   "outputs": [
    {
     "data": {
      "text/plain": [
       "740377"
      ]
     },
     "execution_count": 12,
     "metadata": {},
     "output_type": "execute_result"
    }
   ],
   "source": [
    "len(a)"
   ]
  },
  {
   "cell_type": "code",
   "execution_count": 13,
   "id": "a3d51c6f",
   "metadata": {},
   "outputs": [
    {
     "data": {
      "text/plain": [
       "404597075542"
      ]
     },
     "execution_count": 13,
     "metadata": {},
     "output_type": "execute_result"
    }
   ],
   "source": [
    "a.sum()"
   ]
  },
  {
   "cell_type": "code",
   "execution_count": 14,
   "id": "e8e3cbdd",
   "metadata": {},
   "outputs": [],
   "source": [
    "# now we can delete the neighbors list, which will remove the graph\n",
    "del a"
   ]
  }
 ],
 "metadata": {
  "kernelspec": {
   "display_name": "Python 3.10.8 ('.env': venv)",
   "language": "python",
   "name": "python3"
  },
  "language_info": {
   "codemirror_mode": {
    "name": "ipython",
    "version": 3
   },
   "file_extension": ".py",
   "mimetype": "text/x-python",
   "name": "python",
   "nbconvert_exporter": "python",
   "pygments_lexer": "ipython3",
   "version": "3.10.8"
  },
  "vscode": {
   "interpreter": {
    "hash": "f63abc17a531eda10b8b39a5f394cf77401f5ce3bd31dc79eb9fef86088541e4"
   }
  }
 },
 "nbformat": 4,
 "nbformat_minor": 5
}
