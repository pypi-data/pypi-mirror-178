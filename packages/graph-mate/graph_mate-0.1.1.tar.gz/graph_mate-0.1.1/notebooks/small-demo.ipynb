{
 "cells": [
  {
   "cell_type": "markdown",
   "metadata": {},
   "source": [
    "# graph_mate\n",
    "\n",
    "## Short demonstration\n",
    "\n",
    "***\n",
    "\n",
    "First, we want to prepare some logging, so that we can see the output of what's going on."
   ]
  },
  {
   "cell_type": "code",
   "execution_count": 1,
   "metadata": {},
   "outputs": [],
   "source": [
    "import logging\n",
    "\n",
    "logging.basicConfig(format=\"%(message)s\")\n",
    "logging.getLogger().setLevel(logging.NOTSET)"
   ]
  },
  {
   "cell_type": "markdown",
   "metadata": {},
   "source": [
    "Next, we import the graph_mate library."
   ]
  },
  {
   "cell_type": "code",
   "execution_count": 2,
   "metadata": {},
   "outputs": [],
   "source": [
    "import graph_mate as gm"
   ]
  },
  {
   "cell_type": "markdown",
   "metadata": {},
   "source": [
    "We don't have GDL support in graph_mate yet, but we can create an edge list using numpy.\n",
    "\n",
    "We want to represent this GDL\n",
    "\n",
    "    (n0)-->(n1)-->(n2),(n0)-->(n2),(n1)-->(n3)-->(n4),(n2)-->(n4)\n",
    "\n",
    "\n",
    "First, let's import numpy"
   ]
  },
  {
   "cell_type": "code",
   "execution_count": 3,
   "metadata": {},
   "outputs": [],
   "source": [
    "import numpy as np"
   ]
  },
  {
   "cell_type": "markdown",
   "metadata": {},
   "source": [
    "Next, we create the edge list.\n",
    "Note that we need to use the `uint32` type, because the only type we currently support in `graph_mate`.\n",
    "We also pass in `gm.Layout.Sorted` as additional parameter to tell `graph_mate` to create a sorted adjacency list."
   ]
  },
  {
   "cell_type": "code",
   "execution_count": 4,
   "metadata": {},
   "outputs": [
    {
     "name": "stderr",
     "output_type": "stream",
     "text": [
      "Creating directed graph\n",
      "Computed degrees in 9.994041ms\n",
      "Computed prefix sum in 1.75µs\n",
      "Computed target array in 8.042583ms\n",
      "Finalized offset array in 291ns\n",
      "Sorted targets in 5.191041ms\n",
      "Created outgoing csr in 30.9725ms.\n",
      "Computed degrees in 7.984333ms\n",
      "Computed prefix sum in 2.75µs\n",
      "Computed target array in 6.573208ms\n",
      "Finalized offset array in 375ns\n",
      "Sorted targets in 6.967166ms\n",
      "Created incoming csr in 35.246333ms.\n",
      "Created directed graph (node_count = 5, edge_count = 6)\n"
     ]
    }
   ],
   "source": [
    "edge_list = np.array([\n",
    "    # (n0)-->(n1)-->(n2)\n",
    "    [0, 1], [1, 2],\n",
    "    # (n0)-->(n2)\n",
    "    [0, 2],\n",
    "    # (n1)-->(n3)-->(n4)\n",
    "    [1, 3], [3, 4],\n",
    "    # (n2)-->(n4)\n",
    "    [2, 4]\n",
    "], dtype=np.uint32)\n",
    "\n",
    "g = gm.DiGraph.from_numpy(edge_list, layout = gm.Layout.Sorted)"
   ]
  },
  {
   "cell_type": "markdown",
   "metadata": {},
   "source": [
    "Now we can run PageRank on the graph."
   ]
  },
  {
   "cell_type": "code",
   "execution_count": 5,
   "metadata": {},
   "outputs": [
    {
     "name": "stderr",
     "output_type": "stream",
     "text": [
      "Finished iteration 0 with an error of 0.695438 in 576.625µs\n",
      "Finished iteration 1 with an error of 0.000000 in 2.467166ms\n"
     ]
    },
    {
     "name": "stdout",
     "output_type": "stream",
     "text": [
      "PageRankResult { scores: \"[... 5 values]\", ran_iterations: 2, error: 0.0, took: 10.614ms }\n"
     ]
    }
   ],
   "source": [
    "pr_result  = g.page_rank()\n",
    "print(pr_result)"
   ]
  },
  {
   "cell_type": "code",
   "execution_count": 6,
   "metadata": {},
   "outputs": [
    {
     "data": {
      "text/plain": [
       "array([0.03      , 0.04274999, 0.06091874, 0.04816874, 0.12272435],\n",
       "      dtype=float32)"
      ]
     },
     "execution_count": 6,
     "metadata": {},
     "output_type": "execute_result"
    }
   ],
   "source": [
    "pr_result.scores()"
   ]
  }
 ],
 "metadata": {
  "kernelspec": {
   "display_name": "Python 3.9.15 ('.env': venv)",
   "language": "python",
   "name": "python3"
  },
  "language_info": {
   "codemirror_mode": {
    "name": "ipython",
    "version": 3
   },
   "file_extension": ".py",
   "mimetype": "text/x-python",
   "name": "python",
   "nbconvert_exporter": "python",
   "pygments_lexer": "ipython3",
   "version": "3.9.15"
  },
  "orig_nbformat": 4,
  "vscode": {
   "interpreter": {
    "hash": "bf1df6a269db11ba227de55e84c5aa1c0727841257377929be25a37ff2f81554"
   }
  }
 },
 "nbformat": 4,
 "nbformat_minor": 2
}
