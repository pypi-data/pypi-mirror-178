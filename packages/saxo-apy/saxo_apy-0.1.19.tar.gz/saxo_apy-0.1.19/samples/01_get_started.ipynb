{
 "cells": [
  {
   "cell_type": "markdown",
   "metadata": {},
   "source": [
    "## Getting Started with the Saxo Bank OpenAPI Client\n",
    "\n",
    "To get started with this client:\n",
    "\n",
    "1. Install the client in your Python environment through `pip install saxo-apy`\n",
    "\n",
    "2. Create a free developer account on Saxo Bank's Developer Portal: https://www.developer.saxo/accounts/sim/signup (credentials will be sent to the provided email address)\n",
    "\n",
    "3. Create an application in the Simulation environment (also known as 'demo' environment): https://www.developer.saxo/openapi/appmanagement\n",
    "\n",
    "    a. Note: make sure to select `Code` as grant type and add at least 1 localhost redirect such as `http://localhost:12321/redirect`\n",
    "\n",
    "4. Download the application config by clicking `Copy App Object` in the top-right of the application overview page\n",
    "\n",
    "5. Save this file in an accessible location - with these sample notebooks a `app_config.json` file is located in the same directory\n",
    "\n",
    "6. Initialize the client:"
   ]
  },
  {
   "cell_type": "code",
   "execution_count": 1,
   "metadata": {},
   "outputs": [],
   "source": [
    "from saxo_apy import SaxoOpenAPIClient\n",
    "\n",
    "client = SaxoOpenAPIClient(log_sink=\"log.txt\")  # use log_sink for debugging if required"
   ]
  },
  {
   "cell_type": "markdown",
   "metadata": {},
   "source": [
    "The client is now *initialized* but not yet connected to Saxo Bank OpenAPI.\n",
    "\n",
    "In order to connect the app, use the `.login()` function.\n",
    "\n",
    "By default, this function will do three things:\n",
    "\n",
    "1. Create a redirect server listening on the `localhost` redirect url specified in the app config object.\n",
    "\n",
    "2. Launch your default web browser with the authentication url, which will result in a login page being shown.\n",
    "\n",
    "3. Once authentication is completed by the user, the client receives a callback and initializes the OpenAPI session by retrieving a access token.\n",
    "\n",
    "If you are using the client in a Jupyter Notebook such as this one, you can automatically get the access token refreshed while notebook is running by setting `start_async_refresh=True`."
   ]
  },
  {
   "cell_type": "code",
   "execution_count": 2,
   "metadata": {},
   "outputs": [
    {
     "name": "stdout",
     "output_type": "stream",
     "text": [
      "🌐 opening login page in browser - waiting for user to authenticate... 🔑\n",
      "📞 received callback from Saxo SSO\n",
      "✅ authorization succeeded - connected to SIM environment with WRITE / TRADE permissions (session ID cecb8715005b465fb35690af1ce1c9db)\n"
     ]
    }
   ],
   "source": [
    "client.login(start_async_refresh=True)"
   ]
  },
  {
   "cell_type": "markdown",
   "metadata": {},
   "source": [
    "You are now connected to Saxo Bank OpenAPI and can start using the client!"
   ]
  },
  {
   "cell_type": "code",
   "execution_count": 3,
   "metadata": {},
   "outputs": [
    {
     "data": {
      "text/plain": [
       "True"
      ]
     },
     "execution_count": 3,
     "metadata": {},
     "output_type": "execute_result"
    }
   ],
   "source": [
    "# am I currently logged in?\n",
    "client.logged_in"
   ]
  },
  {
   "cell_type": "code",
   "execution_count": 4,
   "metadata": {},
   "outputs": [
    {
     "data": {
      "text/plain": [
       "datetime.datetime(2022, 11, 21, 21, 5, 18, tzinfo=datetime.timezone.utc)"
      ]
     },
     "execution_count": 4,
     "metadata": {},
     "output_type": "execute_result"
    }
   ],
   "source": [
    "# when does the current access token expire?\n",
    "client.access_token_expiry"
   ]
  },
  {
   "cell_type": "code",
   "execution_count": 5,
   "metadata": {},
   "outputs": [
    {
     "data": {
      "text/plain": [
       "'eaRncxgCZA'"
      ]
     },
     "execution_count": 5,
     "metadata": {},
     "output_type": "execute_result"
    }
   ],
   "source": [
    "# show the last 10 digits of the current access token\n",
    "client._token_data.access_token[-10:]"
   ]
  },
  {
   "cell_type": "markdown",
   "metadata": {},
   "source": [
    "If the client is configured to refresh the tokens automatically, it will periodically call the SSO service for new tokens (30 seconds before expiry). It is also possible to explicitly refresh the session:"
   ]
  },
  {
   "cell_type": "code",
   "execution_count": 6,
   "metadata": {},
   "outputs": [],
   "source": [
    "client.refresh()"
   ]
  },
  {
   "cell_type": "code",
   "execution_count": 10,
   "metadata": {},
   "outputs": [
    {
     "data": {
      "text/plain": [
       "datetime.datetime(2022, 11, 21, 21, 5, 26, tzinfo=datetime.timezone.utc)"
      ]
     },
     "execution_count": 10,
     "metadata": {},
     "output_type": "execute_result"
    }
   ],
   "source": [
    "# when does the new access token expire?\n",
    "client.access_token_expiry"
   ]
  },
  {
   "cell_type": "code",
   "execution_count": 8,
   "metadata": {},
   "outputs": [
    {
     "data": {
      "text/plain": [
       "'5yaTlxHV1g'"
      ]
     },
     "execution_count": 8,
     "metadata": {},
     "output_type": "execute_result"
    }
   ],
   "source": [
    "# show the last 10 digits of the new access token (note this is now a different access token)\n",
    "client._token_data.access_token[-10:]"
   ]
  },
  {
   "cell_type": "code",
   "execution_count": 11,
   "metadata": {},
   "outputs": [
    {
     "data": {
      "text/plain": [
       "['async_refresh', 'Task-3']"
      ]
     },
     "execution_count": 11,
     "metadata": {},
     "output_type": "execute_result"
    }
   ],
   "source": [
    "# if start_async_refresh was set when logging in, the asyncio tasks list will confirm this\n",
    "import asyncio\n",
    "\n",
    "[task.get_name() for task in asyncio.all_tasks()]"
   ]
  }
 ],
 "metadata": {
  "kernelspec": {
   "display_name": "Python 3.10.8 ('venv': venv)",
   "language": "python",
   "name": "python3"
  },
  "language_info": {
   "codemirror_mode": {
    "name": "ipython",
    "version": 3
   },
   "file_extension": ".py",
   "mimetype": "text/x-python",
   "name": "python",
   "nbconvert_exporter": "python",
   "pygments_lexer": "ipython3",
   "version": "3.10.8"
  },
  "orig_nbformat": 4,
  "vscode": {
   "interpreter": {
    "hash": "8361e8afa66b46612775fe6a24b07e9cbdf8a73eb81e96bd999faaeec5ba2a27"
   }
  }
 },
 "nbformat": 4,
 "nbformat_minor": 2
}
