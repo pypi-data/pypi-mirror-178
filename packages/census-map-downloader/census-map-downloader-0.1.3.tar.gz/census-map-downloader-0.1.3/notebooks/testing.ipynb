{
 "cells": [
  {
   "cell_type": "code",
   "execution_count": 1,
   "metadata": {},
   "outputs": [],
   "source": [
    "import geopandas as gpd"
   ]
  },
  {
   "cell_type": "code",
   "execution_count": 2,
   "metadata": {},
   "outputs": [],
   "source": [
    "%matplotlib inline"
   ]
  },
  {
   "cell_type": "markdown",
   "metadata": {},
   "source": [
    "Counties"
   ]
  },
  {
   "cell_type": "code",
   "execution_count": 3,
   "metadata": {},
   "outputs": [],
   "source": [
    "counties = gpd.read_file(\"../processed/counties_2018.geojson\")"
   ]
  },
  {
   "cell_type": "code",
   "execution_count": 4,
   "metadata": {},
   "outputs": [
    {
     "name": "stdout",
     "output_type": "stream",
     "text": [
      "<class 'geopandas.geodataframe.GeoDataFrame'>\n",
      "RangeIndex: 3233 entries, 0 to 3232\n",
      "Data columns (total 5 columns):\n",
      "state_fips           3233 non-null object\n",
      "county_fips          3233 non-null object\n",
      "county_identifier    3233 non-null object\n",
      "county_name          3233 non-null object\n",
      "geometry             3233 non-null object\n",
      "dtypes: object(5)\n",
      "memory usage: 126.4+ KB\n"
     ]
    }
   ],
   "source": [
    "counties.info()"
   ]
  },
  {
   "cell_type": "code",
   "execution_count": 5,
   "metadata": {},
   "outputs": [
    {
     "data": {
      "text/html": [
       "<div>\n",
       "<style scoped>\n",
       "    .dataframe tbody tr th:only-of-type {\n",
       "        vertical-align: middle;\n",
       "    }\n",
       "\n",
       "    .dataframe tbody tr th {\n",
       "        vertical-align: top;\n",
       "    }\n",
       "\n",
       "    .dataframe thead th {\n",
       "        text-align: right;\n",
       "    }\n",
       "</style>\n",
       "<table border=\"1\" class=\"dataframe\">\n",
       "  <thead>\n",
       "    <tr style=\"text-align: right;\">\n",
       "      <th></th>\n",
       "      <th>state_fips</th>\n",
       "      <th>county_fips</th>\n",
       "      <th>county_identifier</th>\n",
       "      <th>county_name</th>\n",
       "      <th>geometry</th>\n",
       "    </tr>\n",
       "  </thead>\n",
       "  <tbody>\n",
       "    <tr>\n",
       "      <th>0</th>\n",
       "      <td>31</td>\n",
       "      <td>039</td>\n",
       "      <td>31039</td>\n",
       "      <td>Cuming</td>\n",
       "      <td>POLYGON ((-97.019516 42.004097, -97.019519 42....</td>\n",
       "    </tr>\n",
       "    <tr>\n",
       "      <th>1</th>\n",
       "      <td>53</td>\n",
       "      <td>069</td>\n",
       "      <td>53069</td>\n",
       "      <td>Wahkiakum</td>\n",
       "      <td>POLYGON ((-123.436394 46.238197, -123.447592 4...</td>\n",
       "    </tr>\n",
       "    <tr>\n",
       "      <th>2</th>\n",
       "      <td>35</td>\n",
       "      <td>011</td>\n",
       "      <td>35011</td>\n",
       "      <td>De Baca</td>\n",
       "      <td>POLYGON ((-104.567387 33.997566, -104.567717 3...</td>\n",
       "    </tr>\n",
       "    <tr>\n",
       "      <th>3</th>\n",
       "      <td>31</td>\n",
       "      <td>109</td>\n",
       "      <td>31109</td>\n",
       "      <td>Lancaster</td>\n",
       "      <td>POLYGON ((-96.910751 40.784944, -96.910753 40....</td>\n",
       "    </tr>\n",
       "    <tr>\n",
       "      <th>4</th>\n",
       "      <td>31</td>\n",
       "      <td>129</td>\n",
       "      <td>31129</td>\n",
       "      <td>Nuckolls</td>\n",
       "      <td>POLYGON ((-98.273667 40.089399, -98.273667 40....</td>\n",
       "    </tr>\n",
       "  </tbody>\n",
       "</table>\n",
       "</div>"
      ],
      "text/plain": [
       "  state_fips county_fips county_identifier county_name  \\\n",
       "0         31         039             31039      Cuming   \n",
       "1         53         069             53069   Wahkiakum   \n",
       "2         35         011             35011     De Baca   \n",
       "3         31         109             31109   Lancaster   \n",
       "4         31         129             31129    Nuckolls   \n",
       "\n",
       "                                            geometry  \n",
       "0  POLYGON ((-97.019516 42.004097, -97.019519 42....  \n",
       "1  POLYGON ((-123.436394 46.238197, -123.447592 4...  \n",
       "2  POLYGON ((-104.567387 33.997566, -104.567717 3...  \n",
       "3  POLYGON ((-96.910751 40.784944, -96.910753 40....  \n",
       "4  POLYGON ((-98.273667 40.089399, -98.273667 40....  "
      ]
     },
     "execution_count": 5,
     "metadata": {},
     "output_type": "execute_result"
    }
   ],
   "source": [
    "counties.head()"
   ]
  },
  {
   "cell_type": "code",
   "execution_count": 9,
   "metadata": {},
   "outputs": [],
   "source": [
    "assert len(counties[counties.county_identifier.str.startswith(\"06\")]) == 58"
   ]
  },
  {
   "cell_type": "code",
   "execution_count": null,
   "metadata": {},
   "outputs": [],
   "source": [
    "# counties.plot()"
   ]
  },
  {
   "cell_type": "markdown",
   "metadata": {},
   "source": [
    "Blocks"
   ]
  },
  {
   "cell_type": "code",
   "execution_count": 12,
   "metadata": {},
   "outputs": [],
   "source": [
    "blocks = gpd.read_file(\"../processed/blocks_2018_ak.geojson\")"
   ]
  },
  {
   "cell_type": "code",
   "execution_count": 13,
   "metadata": {},
   "outputs": [
    {
     "name": "stdout",
     "output_type": "stream",
     "text": [
      "<class 'geopandas.geodataframe.GeoDataFrame'>\n",
      "RangeIndex: 45292 entries, 0 to 45291\n",
      "Data columns (total 6 columns):\n",
      "state_fips     45292 non-null object\n",
      "county_fips    45292 non-null object\n",
      "block_id       45292 non-null object\n",
      "geoid          45292 non-null object\n",
      "block_name     45292 non-null object\n",
      "geometry       45292 non-null object\n",
      "dtypes: object(6)\n",
      "memory usage: 2.1+ MB\n"
     ]
    }
   ],
   "source": [
    "blocks.info()"
   ]
  },
  {
   "cell_type": "code",
   "execution_count": 14,
   "metadata": {},
   "outputs": [
    {
     "data": {
      "text/html": [
       "<div>\n",
       "<style scoped>\n",
       "    .dataframe tbody tr th:only-of-type {\n",
       "        vertical-align: middle;\n",
       "    }\n",
       "\n",
       "    .dataframe tbody tr th {\n",
       "        vertical-align: top;\n",
       "    }\n",
       "\n",
       "    .dataframe thead th {\n",
       "        text-align: right;\n",
       "    }\n",
       "</style>\n",
       "<table border=\"1\" class=\"dataframe\">\n",
       "  <thead>\n",
       "    <tr style=\"text-align: right;\">\n",
       "      <th></th>\n",
       "      <th>state_fips</th>\n",
       "      <th>county_fips</th>\n",
       "      <th>block_id</th>\n",
       "      <th>geoid</th>\n",
       "      <th>block_name</th>\n",
       "      <th>geometry</th>\n",
       "    </tr>\n",
       "  </thead>\n",
       "  <tbody>\n",
       "    <tr>\n",
       "      <th>0</th>\n",
       "      <td>02</td>\n",
       "      <td>068</td>\n",
       "      <td>2489</td>\n",
       "      <td>020680001002489</td>\n",
       "      <td>Block 2489</td>\n",
       "      <td>POLYGON ((-152.542201 63.520813, -152.541776 6...</td>\n",
       "    </tr>\n",
       "    <tr>\n",
       "      <th>1</th>\n",
       "      <td>02</td>\n",
       "      <td>220</td>\n",
       "      <td>1411</td>\n",
       "      <td>022200001001411</td>\n",
       "      <td>Block 1411</td>\n",
       "      <td>POLYGON ((-134.908035 57.120795, -134.907602 5...</td>\n",
       "    </tr>\n",
       "    <tr>\n",
       "      <th>2</th>\n",
       "      <td>02</td>\n",
       "      <td>220</td>\n",
       "      <td>1106</td>\n",
       "      <td>022200001001106</td>\n",
       "      <td>Block 1106</td>\n",
       "      <td>POLYGON ((-135.896472 57.999021, -135.895952 5...</td>\n",
       "    </tr>\n",
       "    <tr>\n",
       "      <th>3</th>\n",
       "      <td>02</td>\n",
       "      <td>220</td>\n",
       "      <td>1187</td>\n",
       "      <td>022200001001187</td>\n",
       "      <td>Block 1187</td>\n",
       "      <td>POLYGON ((-135.806357 57.698174, -135.806305 5...</td>\n",
       "    </tr>\n",
       "    <tr>\n",
       "      <th>4</th>\n",
       "      <td>02</td>\n",
       "      <td>220</td>\n",
       "      <td>1212</td>\n",
       "      <td>022200001001212</td>\n",
       "      <td>Block 1212</td>\n",
       "      <td>POLYGON ((-134.999708 57.544697, -134.999605 5...</td>\n",
       "    </tr>\n",
       "  </tbody>\n",
       "</table>\n",
       "</div>"
      ],
      "text/plain": [
       "  state_fips county_fips block_id            geoid  block_name  \\\n",
       "0         02         068     2489  020680001002489  Block 2489   \n",
       "1         02         220     1411  022200001001411  Block 1411   \n",
       "2         02         220     1106  022200001001106  Block 1106   \n",
       "3         02         220     1187  022200001001187  Block 1187   \n",
       "4         02         220     1212  022200001001212  Block 1212   \n",
       "\n",
       "                                            geometry  \n",
       "0  POLYGON ((-152.542201 63.520813, -152.541776 6...  \n",
       "1  POLYGON ((-134.908035 57.120795, -134.907602 5...  \n",
       "2  POLYGON ((-135.896472 57.999021, -135.895952 5...  \n",
       "3  POLYGON ((-135.806357 57.698174, -135.806305 5...  \n",
       "4  POLYGON ((-134.999708 57.544697, -134.999605 5...  "
      ]
     },
     "execution_count": 14,
     "metadata": {},
     "output_type": "execute_result"
    }
   ],
   "source": [
    "blocks.head()"
   ]
  },
  {
   "cell_type": "markdown",
   "metadata": {},
   "source": [
    "ZCTA"
   ]
  },
  {
   "cell_type": "code",
   "execution_count": 22,
   "metadata": {},
   "outputs": [],
   "source": [
    "zcta = gpd.read_file(\"../processed/zctas_2018_ia.geojson\")"
   ]
  },
  {
   "cell_type": "code",
   "execution_count": 23,
   "metadata": {},
   "outputs": [
    {
     "name": "stdout",
     "output_type": "stream",
     "text": [
      "<class 'geopandas.geodataframe.GeoDataFrame'>\n",
      "RangeIndex: 935 entries, 0 to 934\n",
      "Data columns (total 3 columns):\n",
      "zcta        935 non-null object\n",
      "geoid       935 non-null object\n",
      "geometry    935 non-null object\n",
      "dtypes: object(3)\n",
      "memory usage: 22.0+ KB\n"
     ]
    }
   ],
   "source": [
    "zcta.info()"
   ]
  },
  {
   "cell_type": "code",
   "execution_count": 25,
   "metadata": {},
   "outputs": [
    {
     "data": {
      "text/html": [
       "<div>\n",
       "<style scoped>\n",
       "    .dataframe tbody tr th:only-of-type {\n",
       "        vertical-align: middle;\n",
       "    }\n",
       "\n",
       "    .dataframe tbody tr th {\n",
       "        vertical-align: top;\n",
       "    }\n",
       "\n",
       "    .dataframe thead th {\n",
       "        text-align: right;\n",
       "    }\n",
       "</style>\n",
       "<table border=\"1\" class=\"dataframe\">\n",
       "  <thead>\n",
       "    <tr style=\"text-align: right;\">\n",
       "      <th></th>\n",
       "      <th>zcta</th>\n",
       "      <th>geoid</th>\n",
       "      <th>geometry</th>\n",
       "    </tr>\n",
       "  </thead>\n",
       "  <tbody>\n",
       "    <tr>\n",
       "      <th>0</th>\n",
       "      <td>50642</td>\n",
       "      <td>50642</td>\n",
       "      <td>POLYGON ((-92.866195 42.455834, -92.856454 42....</td>\n",
       "    </tr>\n",
       "    <tr>\n",
       "      <th>1</th>\n",
       "      <td>50643</td>\n",
       "      <td>50643</td>\n",
       "      <td>POLYGON ((-92.573013 42.413197, -92.572936 42....</td>\n",
       "    </tr>\n",
       "    <tr>\n",
       "      <th>2</th>\n",
       "      <td>50644</td>\n",
       "      <td>50644</td>\n",
       "      <td>POLYGON ((-92.031019 42.533212, -92.030995 42....</td>\n",
       "    </tr>\n",
       "    <tr>\n",
       "      <th>3</th>\n",
       "      <td>50645</td>\n",
       "      <td>50645</td>\n",
       "      <td>POLYGON ((-92.575824 43.097594, -92.575433 43....</td>\n",
       "    </tr>\n",
       "    <tr>\n",
       "      <th>4</th>\n",
       "      <td>50647</td>\n",
       "      <td>50647</td>\n",
       "      <td>POLYGON ((-92.554782 42.698177, -92.554422 42....</td>\n",
       "    </tr>\n",
       "  </tbody>\n",
       "</table>\n",
       "</div>"
      ],
      "text/plain": [
       "    zcta  geoid                                           geometry\n",
       "0  50642  50642  POLYGON ((-92.866195 42.455834, -92.856454 42....\n",
       "1  50643  50643  POLYGON ((-92.573013 42.413197, -92.572936 42....\n",
       "2  50644  50644  POLYGON ((-92.031019 42.533212, -92.030995 42....\n",
       "3  50645  50645  POLYGON ((-92.575824 43.097594, -92.575433 43....\n",
       "4  50647  50647  POLYGON ((-92.554782 42.698177, -92.554422 42...."
      ]
     },
     "execution_count": 25,
     "metadata": {},
     "output_type": "execute_result"
    }
   ],
   "source": [
    "zcta.head()"
   ]
  },
  {
   "cell_type": "markdown",
   "metadata": {},
   "source": [
    "Places"
   ]
  },
  {
   "cell_type": "code",
   "execution_count": 29,
   "metadata": {},
   "outputs": [],
   "source": [
    "places = gpd.read_file(\"../processed/places_2018.geojson\")"
   ]
  },
  {
   "cell_type": "code",
   "execution_count": 30,
   "metadata": {},
   "outputs": [
    {
     "name": "stdout",
     "output_type": "stream",
     "text": [
      "<class 'geopandas.geodataframe.GeoDataFrame'>\n",
      "RangeIndex: 354 entries, 0 to 353\n",
      "Data columns (total 17 columns):\n",
      "STATEFP     354 non-null object\n",
      "PLACEFP     354 non-null object\n",
      "PLACENS     354 non-null object\n",
      "GEOID       354 non-null object\n",
      "NAME        354 non-null object\n",
      "NAMELSAD    354 non-null object\n",
      "LSAD        354 non-null object\n",
      "CLASSFP     354 non-null object\n",
      "PCICBSA     354 non-null object\n",
      "PCINECTA    354 non-null object\n",
      "MTFCC       354 non-null object\n",
      "FUNCSTAT    354 non-null object\n",
      "ALAND       354 non-null int64\n",
      "AWATER      354 non-null int64\n",
      "INTPTLAT    354 non-null object\n",
      "INTPTLON    354 non-null object\n",
      "geometry    354 non-null object\n",
      "dtypes: int64(2), object(15)\n",
      "memory usage: 47.1+ KB\n"
     ]
    }
   ],
   "source": [
    "places.info()"
   ]
  },
  {
   "cell_type": "code",
   "execution_count": 31,
   "metadata": {},
   "outputs": [
    {
     "data": {
      "text/html": [
       "<div>\n",
       "<style scoped>\n",
       "    .dataframe tbody tr th:only-of-type {\n",
       "        vertical-align: middle;\n",
       "    }\n",
       "\n",
       "    .dataframe tbody tr th {\n",
       "        vertical-align: top;\n",
       "    }\n",
       "\n",
       "    .dataframe thead th {\n",
       "        text-align: right;\n",
       "    }\n",
       "</style>\n",
       "<table border=\"1\" class=\"dataframe\">\n",
       "  <thead>\n",
       "    <tr style=\"text-align: right;\">\n",
       "      <th></th>\n",
       "      <th>STATEFP</th>\n",
       "      <th>PLACEFP</th>\n",
       "      <th>PLACENS</th>\n",
       "      <th>GEOID</th>\n",
       "      <th>NAME</th>\n",
       "      <th>NAMELSAD</th>\n",
       "      <th>LSAD</th>\n",
       "      <th>CLASSFP</th>\n",
       "      <th>PCICBSA</th>\n",
       "      <th>PCINECTA</th>\n",
       "      <th>MTFCC</th>\n",
       "      <th>FUNCSTAT</th>\n",
       "      <th>ALAND</th>\n",
       "      <th>AWATER</th>\n",
       "      <th>INTPTLAT</th>\n",
       "      <th>INTPTLON</th>\n",
       "      <th>geometry</th>\n",
       "    </tr>\n",
       "  </thead>\n",
       "  <tbody>\n",
       "    <tr>\n",
       "      <th>0</th>\n",
       "      <td>02</td>\n",
       "      <td>16360</td>\n",
       "      <td>02419371</td>\n",
       "      <td>0216360</td>\n",
       "      <td>Coffman Cove</td>\n",
       "      <td>Coffman Cove city</td>\n",
       "      <td>25</td>\n",
       "      <td>C1</td>\n",
       "      <td>N</td>\n",
       "      <td>N</td>\n",
       "      <td>G4110</td>\n",
       "      <td>A</td>\n",
       "      <td>28151034</td>\n",
       "      <td>6262727</td>\n",
       "      <td>+56.0017524</td>\n",
       "      <td>-132.8419314</td>\n",
       "      <td>POLYGON ((-132.904509 56.026356, -132.904024 5...</td>\n",
       "    </tr>\n",
       "    <tr>\n",
       "      <th>1</th>\n",
       "      <td>02</td>\n",
       "      <td>34460</td>\n",
       "      <td>02419401</td>\n",
       "      <td>0234460</td>\n",
       "      <td>Hydaburg</td>\n",
       "      <td>Hydaburg city</td>\n",
       "      <td>25</td>\n",
       "      <td>C1</td>\n",
       "      <td>N</td>\n",
       "      <td>N</td>\n",
       "      <td>G4110</td>\n",
       "      <td>A</td>\n",
       "      <td>741929</td>\n",
       "      <td>20743</td>\n",
       "      <td>+55.2058418</td>\n",
       "      <td>-132.8204379</td>\n",
       "      <td>POLYGON ((-132.829834 55.208439, -132.829386 5...</td>\n",
       "    </tr>\n",
       "    <tr>\n",
       "      <th>2</th>\n",
       "      <td>02</td>\n",
       "      <td>37650</td>\n",
       "      <td>02419406</td>\n",
       "      <td>0237650</td>\n",
       "      <td>Kasaan</td>\n",
       "      <td>Kasaan city</td>\n",
       "      <td>25</td>\n",
       "      <td>C1</td>\n",
       "      <td>N</td>\n",
       "      <td>N</td>\n",
       "      <td>G4110</td>\n",
       "      <td>A</td>\n",
       "      <td>15703414</td>\n",
       "      <td>1904849</td>\n",
       "      <td>+55.5611447</td>\n",
       "      <td>-132.4068335</td>\n",
       "      <td>POLYGON ((-132.478383 55.561556, -132.475771 5...</td>\n",
       "    </tr>\n",
       "    <tr>\n",
       "      <th>3</th>\n",
       "      <td>02</td>\n",
       "      <td>40400</td>\n",
       "      <td>02419412</td>\n",
       "      <td>0240400</td>\n",
       "      <td>Klawock</td>\n",
       "      <td>Klawock city</td>\n",
       "      <td>25</td>\n",
       "      <td>C1</td>\n",
       "      <td>N</td>\n",
       "      <td>N</td>\n",
       "      <td>G4110</td>\n",
       "      <td>A</td>\n",
       "      <td>1884219</td>\n",
       "      <td>634266</td>\n",
       "      <td>+55.5564133</td>\n",
       "      <td>-133.0862916</td>\n",
       "      <td>POLYGON ((-133.103904 55.558798, -133.103102 5...</td>\n",
       "    </tr>\n",
       "    <tr>\n",
       "      <th>4</th>\n",
       "      <td>02</td>\n",
       "      <td>77140</td>\n",
       "      <td>02418862</td>\n",
       "      <td>0277140</td>\n",
       "      <td>Thorne Bay</td>\n",
       "      <td>Thorne Bay city</td>\n",
       "      <td>25</td>\n",
       "      <td>C1</td>\n",
       "      <td>N</td>\n",
       "      <td>N</td>\n",
       "      <td>G4110</td>\n",
       "      <td>A</td>\n",
       "      <td>69081723</td>\n",
       "      <td>7883794</td>\n",
       "      <td>+55.6670265</td>\n",
       "      <td>-132.5356533</td>\n",
       "      <td>POLYGON ((-132.643987 55.709716, -132.63119 55...</td>\n",
       "    </tr>\n",
       "  </tbody>\n",
       "</table>\n",
       "</div>"
      ],
      "text/plain": [
       "  STATEFP PLACEFP   PLACENS    GEOID          NAME           NAMELSAD LSAD  \\\n",
       "0      02   16360  02419371  0216360  Coffman Cove  Coffman Cove city   25   \n",
       "1      02   34460  02419401  0234460      Hydaburg      Hydaburg city   25   \n",
       "2      02   37650  02419406  0237650        Kasaan        Kasaan city   25   \n",
       "3      02   40400  02419412  0240400       Klawock       Klawock city   25   \n",
       "4      02   77140  02418862  0277140    Thorne Bay    Thorne Bay city   25   \n",
       "\n",
       "  CLASSFP PCICBSA PCINECTA  MTFCC FUNCSTAT     ALAND   AWATER     INTPTLAT  \\\n",
       "0      C1       N        N  G4110        A  28151034  6262727  +56.0017524   \n",
       "1      C1       N        N  G4110        A    741929    20743  +55.2058418   \n",
       "2      C1       N        N  G4110        A  15703414  1904849  +55.5611447   \n",
       "3      C1       N        N  G4110        A   1884219   634266  +55.5564133   \n",
       "4      C1       N        N  G4110        A  69081723  7883794  +55.6670265   \n",
       "\n",
       "       INTPTLON                                           geometry  \n",
       "0  -132.8419314  POLYGON ((-132.904509 56.026356, -132.904024 5...  \n",
       "1  -132.8204379  POLYGON ((-132.829834 55.208439, -132.829386 5...  \n",
       "2  -132.4068335  POLYGON ((-132.478383 55.561556, -132.475771 5...  \n",
       "3  -133.0862916  POLYGON ((-133.103904 55.558798, -133.103102 5...  \n",
       "4  -132.5356533  POLYGON ((-132.643987 55.709716, -132.63119 55...  "
      ]
     },
     "execution_count": 31,
     "metadata": {},
     "output_type": "execute_result"
    }
   ],
   "source": [
    "places.head()"
   ]
  }
 ],
 "metadata": {
  "kernelspec": {
   "display_name": "Python 3",
   "language": "python",
   "name": "python3"
  },
  "language_info": {
   "codemirror_mode": {
    "name": "ipython",
    "version": 3
   },
   "file_extension": ".py",
   "mimetype": "text/x-python",
   "name": "python",
   "nbconvert_exporter": "python",
   "pygments_lexer": "ipython3",
   "version": "3.6.8"
  }
 },
 "nbformat": 4,
 "nbformat_minor": 4
}
