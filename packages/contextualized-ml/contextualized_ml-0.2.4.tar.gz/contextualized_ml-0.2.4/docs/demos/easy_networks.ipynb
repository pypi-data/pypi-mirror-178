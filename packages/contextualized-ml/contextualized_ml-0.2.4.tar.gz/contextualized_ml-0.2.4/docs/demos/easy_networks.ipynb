{
 "cells": [
  {
   "cell_type": "markdown",
   "id": "6e32bc2f",
   "metadata": {},
   "source": [
    "# Contextualized Networks"
   ]
  },
  {
   "cell_type": "code",
   "execution_count": 1,
   "id": "5967fd61",
   "metadata": {},
   "outputs": [],
   "source": [
    "import numpy as np\n",
    "import matplotlib.pyplot as plt\n",
    "%matplotlib inline"
   ]
  },
  {
   "cell_type": "code",
   "execution_count": 2,
   "id": "76d3c5b5",
   "metadata": {},
   "outputs": [],
   "source": [
    "X = np.random.normal(0, 1, size=(1000, 10))\n",
    "C = np.random.uniform(-1, 1, size=(1000, 5))"
   ]
  },
  {
   "cell_type": "code",
   "execution_count": 3,
   "id": "c850dfc0",
   "metadata": {},
   "outputs": [
    {
     "name": "stderr",
     "output_type": "stream",
     "text": [
      "GPU available: True (mps), used: False\n",
      "TPU available: False, using: 0 TPU cores\n",
      "IPU available: False, using: 0 IPUs\n",
      "HPU available: False, using: 0 HPUs\n",
      "/opt/homebrew/lib/python3.10/site-packages/pytorch_lightning/trainer/trainer.py:1789: UserWarning: MPS available but not used. Set `accelerator` and `devices` using `Trainer(accelerator='mps', devices=1)`.\n",
      "  rank_zero_warn(\n",
      "\n",
      "  | Name      | Type             | Params\n",
      "-----------------------------------------------\n",
      "0 | metamodel | SubtypeMetamodel | 8.8 K \n",
      "-----------------------------------------------\n",
      "8.8 K     Trainable params\n",
      "0         Non-trainable params\n",
      "8.8 K     Total params\n",
      "0.035     Total estimated model params size (MB)\n"
     ]
    },
    {
     "data": {
      "application/vnd.jupyter.widget-view+json": {
       "model_id": "6b63ede576ec4268bf0d7a0a3884b454",
       "version_major": 2,
       "version_minor": 0
      },
      "text/plain": [
       "Sanity Checking: 0it [00:00, ?it/s]"
      ]
     },
     "metadata": {},
     "output_type": "display_data"
    },
    {
     "name": "stderr",
     "output_type": "stream",
     "text": [
      "/opt/homebrew/lib/python3.10/site-packages/pytorch_lightning/trainer/connectors/data_connector.py:236: PossibleUserWarning: The dataloader, val_dataloader 0, does not have many workers which may be a bottleneck. Consider increasing the value of the `num_workers` argument` (try 10 which is the number of cpus on this machine) in the `DataLoader` init to improve performance.\n",
      "  rank_zero_warn(\n",
      "/opt/homebrew/lib/python3.10/site-packages/pytorch_lightning/trainer/connectors/data_connector.py:236: PossibleUserWarning: The dataloader, train_dataloader, does not have many workers which may be a bottleneck. Consider increasing the value of the `num_workers` argument` (try 10 which is the number of cpus on this machine) in the `DataLoader` init to improve performance.\n",
      "  rank_zero_warn(\n"
     ]
    },
    {
     "data": {
      "application/vnd.jupyter.widget-view+json": {
       "model_id": "70e3fa6697e6432993f86193e678b57d",
       "version_major": 2,
       "version_minor": 0
      },
      "text/plain": [
       "Training: 0it [00:00, ?it/s]"
      ]
     },
     "metadata": {},
     "output_type": "display_data"
    },
    {
     "data": {
      "application/vnd.jupyter.widget-view+json": {
       "model_id": "12e8aec9dc8047b6b0c78b259aeaa8c2",
       "version_major": 2,
       "version_minor": 0
      },
      "text/plain": [
       "Validation: 0it [00:00, ?it/s]"
      ]
     },
     "metadata": {},
     "output_type": "display_data"
    },
    {
     "data": {
      "application/vnd.jupyter.widget-view+json": {
       "model_id": "9bd57a6219d74c2ab39eb6af6801aaab",
       "version_major": 2,
       "version_minor": 0
      },
      "text/plain": [
       "Validation: 0it [00:00, ?it/s]"
      ]
     },
     "metadata": {},
     "output_type": "display_data"
    },
    {
     "name": "stderr",
     "output_type": "stream",
     "text": [
      "GPU available: True (mps), used: False\n",
      "TPU available: False, using: 0 TPU cores\n",
      "IPU available: False, using: 0 IPUs\n",
      "HPU available: False, using: 0 HPUs\n",
      "\n",
      "  | Name      | Type             | Params\n",
      "-----------------------------------------------\n",
      "0 | metamodel | SubtypeMetamodel | 8.8 K \n",
      "-----------------------------------------------\n",
      "8.8 K     Trainable params\n",
      "0         Non-trainable params\n",
      "8.8 K     Total params\n",
      "0.035     Total estimated model params size (MB)\n"
     ]
    },
    {
     "data": {
      "application/vnd.jupyter.widget-view+json": {
       "model_id": "5d2a28595dd948a5aa741f262397f53a",
       "version_major": 2,
       "version_minor": 0
      },
      "text/plain": [
       "Sanity Checking: 0it [00:00, ?it/s]"
      ]
     },
     "metadata": {},
     "output_type": "display_data"
    },
    {
     "data": {
      "application/vnd.jupyter.widget-view+json": {
       "model_id": "ee770638d3ed4c3e837ab4388aa94013",
       "version_major": 2,
       "version_minor": 0
      },
      "text/plain": [
       "Training: 0it [00:00, ?it/s]"
      ]
     },
     "metadata": {},
     "output_type": "display_data"
    },
    {
     "data": {
      "application/vnd.jupyter.widget-view+json": {
       "model_id": "18674ba85cf4442e8354710aa47e87fa",
       "version_major": 2,
       "version_minor": 0
      },
      "text/plain": [
       "Validation: 0it [00:00, ?it/s]"
      ]
     },
     "metadata": {},
     "output_type": "display_data"
    },
    {
     "data": {
      "application/vnd.jupyter.widget-view+json": {
       "model_id": "117ae247e72b416686b0776a935d2a02",
       "version_major": 2,
       "version_minor": 0
      },
      "text/plain": [
       "Validation: 0it [00:00, ?it/s]"
      ]
     },
     "metadata": {},
     "output_type": "display_data"
    },
    {
     "data": {
      "application/vnd.jupyter.widget-view+json": {
       "model_id": "fb16788bdd7545b08cce21a1d1308327",
       "version_major": 2,
       "version_minor": 0
      },
      "text/plain": [
       "Validation: 0it [00:00, ?it/s]"
      ]
     },
     "metadata": {},
     "output_type": "display_data"
    },
    {
     "name": "stderr",
     "output_type": "stream",
     "text": [
      "GPU available: True (mps), used: False\n",
      "TPU available: False, using: 0 TPU cores\n",
      "IPU available: False, using: 0 IPUs\n",
      "HPU available: False, using: 0 HPUs\n",
      "\n",
      "  | Name      | Type             | Params\n",
      "-----------------------------------------------\n",
      "0 | metamodel | SubtypeMetamodel | 8.8 K \n",
      "-----------------------------------------------\n",
      "8.8 K     Trainable params\n",
      "0         Non-trainable params\n",
      "8.8 K     Total params\n",
      "0.035     Total estimated model params size (MB)\n"
     ]
    },
    {
     "data": {
      "application/vnd.jupyter.widget-view+json": {
       "model_id": "54da3c6376cd453d876b0ca3277ba490",
       "version_major": 2,
       "version_minor": 0
      },
      "text/plain": [
       "Sanity Checking: 0it [00:00, ?it/s]"
      ]
     },
     "metadata": {},
     "output_type": "display_data"
    },
    {
     "data": {
      "application/vnd.jupyter.widget-view+json": {
       "model_id": "af79fbf751144c80b036e30847b7c647",
       "version_major": 2,
       "version_minor": 0
      },
      "text/plain": [
       "Training: 0it [00:00, ?it/s]"
      ]
     },
     "metadata": {},
     "output_type": "display_data"
    },
    {
     "data": {
      "application/vnd.jupyter.widget-view+json": {
       "model_id": "d5113ff4500640ca8a48fa0bd7f36f32",
       "version_major": 2,
       "version_minor": 0
      },
      "text/plain": [
       "Validation: 0it [00:00, ?it/s]"
      ]
     },
     "metadata": {},
     "output_type": "display_data"
    },
    {
     "data": {
      "application/vnd.jupyter.widget-view+json": {
       "model_id": "420b7ac6ce8549edb1f956ea946d01bd",
       "version_major": 2,
       "version_minor": 0
      },
      "text/plain": [
       "Validation: 0it [00:00, ?it/s]"
      ]
     },
     "metadata": {},
     "output_type": "display_data"
    },
    {
     "data": {
      "application/vnd.jupyter.widget-view+json": {
       "model_id": "9b49c36a95e04b17bf513edc348f1f7a",
       "version_major": 2,
       "version_minor": 0
      },
      "text/plain": [
       "Validation: 0it [00:00, ?it/s]"
      ]
     },
     "metadata": {},
     "output_type": "display_data"
    },
    {
     "name": "stderr",
     "output_type": "stream",
     "text": [
      "/opt/homebrew/lib/python3.10/site-packages/pytorch_lightning/trainer/connectors/data_connector.py:236: PossibleUserWarning: The dataloader, predict_dataloader 0, does not have many workers which may be a bottleneck. Consider increasing the value of the `num_workers` argument` (try 10 which is the number of cpus on this machine) in the `DataLoader` init to improve performance.\n",
      "  rank_zero_warn(\n"
     ]
    },
    {
     "data": {
      "application/vnd.jupyter.widget-view+json": {
       "model_id": "1cf4200dc73f476da9bf97d0c33591f5",
       "version_major": 2,
       "version_minor": 0
      },
      "text/plain": [
       "Predicting: 800it [00:00, ?it/s]"
      ]
     },
     "metadata": {},
     "output_type": "display_data"
    },
    {
     "name": "stderr",
     "output_type": "stream",
     "text": [
      "/opt/homebrew/lib/python3.10/site-packages/pytorch_lightning/loops/epoch/prediction_epoch_loop.py:174: UserWarning: Lightning couldn't infer the indices fetched for your dataloader.\n",
      "  warning_cache.warn(\"Lightning couldn't infer the indices fetched for your dataloader.\")\n"
     ]
    },
    {
     "data": {
      "application/vnd.jupyter.widget-view+json": {
       "model_id": "adb740222e5748359c62db3ac451286b",
       "version_major": 2,
       "version_minor": 0
      },
      "text/plain": [
       "Predicting: 800it [00:00, ?it/s]"
      ]
     },
     "metadata": {},
     "output_type": "display_data"
    },
    {
     "data": {
      "application/vnd.jupyter.widget-view+json": {
       "model_id": "374231915f0c4f70829c8dfd36ee43c7",
       "version_major": 2,
       "version_minor": 0
      },
      "text/plain": [
       "Predicting: 800it [00:00, ?it/s]"
      ]
     },
     "metadata": {},
     "output_type": "display_data"
    },
    {
     "data": {
      "application/vnd.jupyter.widget-view+json": {
       "model_id": "b9aec75f1f3540918527b420431e219d",
       "version_major": 2,
       "version_minor": 0
      },
      "text/plain": [
       "Predicting: 800it [00:00, ?it/s]"
      ]
     },
     "metadata": {},
     "output_type": "display_data"
    },
    {
     "data": {
      "application/vnd.jupyter.widget-view+json": {
       "model_id": "bfdd02e2535549198230d9f83e98edd6",
       "version_major": 2,
       "version_minor": 0
      },
      "text/plain": [
       "Predicting: 800it [00:00, ?it/s]"
      ]
     },
     "metadata": {},
     "output_type": "display_data"
    },
    {
     "data": {
      "application/vnd.jupyter.widget-view+json": {
       "model_id": "8264807af3004a3bb4267a4415217c47",
       "version_major": 2,
       "version_minor": 0
      },
      "text/plain": [
       "Predicting: 800it [00:00, ?it/s]"
      ]
     },
     "metadata": {},
     "output_type": "display_data"
    },
    {
     "data": {
      "text/plain": [
       "array([[[[8.90472186e-01, 4.19935115e-03, 8.89287959e-03, ...,\n",
       "          2.03102049e-03, 1.44963386e-03, 5.05019217e-05],\n",
       "         [4.38308853e-03, 8.98945433e-01, 6.48138349e-03, ...,\n",
       "          6.16321081e-03, 3.41221684e-03, 1.48194795e-03],\n",
       "         [8.04615389e-03, 5.77174339e-03, 8.83806640e-01, ...,\n",
       "          1.30990089e-04, 7.15085060e-04, 1.09472699e-04],\n",
       "         ...,\n",
       "         [1.93473576e-03, 5.51280105e-03, 1.64424065e-04, ...,\n",
       "          8.96431582e-01, 9.71804769e-06, 7.94839776e-05],\n",
       "         [1.76587424e-03, 3.32553254e-03, 4.44663068e-04, ...,\n",
       "          5.68022680e-07, 8.82335664e-01, 1.23784542e-03],\n",
       "         [6.17120277e-05, 1.12446005e-03, 1.30225248e-04, ...,\n",
       "          3.44289699e-05, 1.19242039e-03, 8.94714563e-01]],\n",
       "\n",
       "        [[9.57419341e-01, 5.10498255e-03, 9.59237892e-03, ...,\n",
       "          2.06023237e-03, 1.44386713e-03, 9.04935194e-05],\n",
       "         [5.45712742e-03, 9.59956504e-01, 7.48704892e-03, ...,\n",
       "          7.09678883e-03, 4.93112584e-03, 2.09458947e-03],\n",
       "         [9.02521495e-03, 6.72098629e-03, 9.50463960e-01, ...,\n",
       "          1.82068427e-04, 4.50131281e-04, 1.65492420e-04],\n",
       "         ...,\n",
       "         [1.77595884e-03, 6.49951925e-03, 2.34556384e-04, ...,\n",
       "          9.69022187e-01, 6.69762305e-06, 1.64899084e-04],\n",
       "         [2.07967129e-03, 4.55809725e-03, 1.20409140e-04, ...,\n",
       "          9.46830961e-06, 9.42796698e-01, 1.14914636e-03],\n",
       "         [1.23380833e-04, 1.67428120e-03, 1.98770641e-04, ...,\n",
       "          1.42929496e-04, 1.10435219e-03, 9.70844876e-01]],\n",
       "\n",
       "        [[9.84425154e-01, 4.59986841e-03, 1.24085708e-02, ...,\n",
       "          1.92938749e-03, 1.37043114e-03, 3.27264919e-06],\n",
       "         [5.17009573e-03, 9.98666850e-01, 5.75790194e-03, ...,\n",
       "          1.04437621e-02, 4.88864539e-03, 3.01004098e-03],\n",
       "         [1.13342498e-02, 5.32469091e-03, 9.75770747e-01, ...,\n",
       "          3.38321108e-04, 1.00172882e-03, 7.44435159e-04],\n",
       "         ...,\n",
       "         [1.72457243e-03, 9.01810990e-03, 3.61811648e-04, ...,\n",
       "          9.90469029e-01, 2.74882953e-04, 1.48726713e-04],\n",
       "         [1.59695052e-03, 5.13391232e-03, 6.85836178e-04, ...,\n",
       "          2.83339476e-04, 9.62830835e-01, 1.09585624e-03],\n",
       "         [2.53685303e-05, 2.74098428e-03, 9.69322248e-04, ...,\n",
       "          9.55311384e-06, 1.00044666e-03, 9.86888754e-01]],\n",
       "\n",
       "        ...,\n",
       "\n",
       "        [[9.48426220e-01, 5.76872908e-03, 8.43845193e-03, ...,\n",
       "          2.14805405e-03, 1.67823913e-03, 8.70452294e-05],\n",
       "         [5.72483212e-03, 9.42832928e-01, 8.60672961e-03, ...,\n",
       "          5.13089868e-03, 4.12450842e-03, 1.35939545e-03],\n",
       "         [7.72326115e-03, 7.49503995e-03, 9.43233587e-01, ...,\n",
       "          1.32748194e-04, 3.84542341e-04, 1.79302656e-06],\n",
       "         ...,\n",
       "         [1.88120484e-03, 4.73215788e-03, 1.99973909e-04, ...,\n",
       "          9.51395918e-01, 1.35686662e-05, 9.33048221e-05],\n",
       "         [2.44059390e-03, 3.56075980e-03, 1.01035705e-04, ...,\n",
       "          4.41659098e-05, 9.39169017e-01, 1.61900195e-03],\n",
       "         [8.94924166e-05, 1.00250267e-03, 1.01294305e-05, ...,\n",
       "          1.72572196e-04, 1.60837996e-03, 9.58106029e-01]],\n",
       "\n",
       "        [[9.25677526e-01, 4.19536597e-03, 1.03498138e-02, ...,\n",
       "          2.17995456e-03, 1.24277503e-03, 5.09264084e-05],\n",
       "         [4.59902558e-03, 9.37791175e-01, 5.88612978e-03, ...,\n",
       "          7.75511456e-03, 4.06061476e-03, 2.02743466e-03],\n",
       "         [9.63524784e-03, 5.25745974e-03, 9.19619137e-01, ...,\n",
       "          1.62750876e-04, 8.96518139e-04, 2.69636441e-04],\n",
       "         ...,\n",
       "         [1.97342138e-03, 7.10588897e-03, 1.96417832e-04, ...,\n",
       "          9.37998289e-01, 3.54257016e-05, 9.76067037e-05],\n",
       "         [1.55522611e-03, 4.06175050e-03, 5.32578617e-04, ...,\n",
       "          3.01281919e-05, 9.13469320e-01, 9.71213808e-04],\n",
       "         [7.91119040e-05, 1.67142677e-03, 3.29522979e-04, ...,\n",
       "          2.36601428e-05, 9.10681063e-04, 9.36779600e-01]],\n",
       "\n",
       "        [[9.16538226e-01, 4.31918589e-03, 1.12346477e-02, ...,\n",
       "          2.14749641e-03, 1.28007921e-03, 1.55590573e-05],\n",
       "         [4.67055364e-03, 9.35110802e-01, 5.38157315e-03, ...,\n",
       "          8.19974606e-03, 3.72235321e-03, 2.12362053e-03],\n",
       "         [1.03961826e-02, 4.83967874e-03, 9.20737162e-01, ...,\n",
       "          1.51368652e-04, 9.86926602e-04, 3.91054361e-04],\n",
       "         ...,\n",
       "         [2.10513653e-03, 7.15927703e-03, 2.27779410e-04, ...,\n",
       "          9.31255895e-01, 3.49713077e-05, 1.07476012e-04],\n",
       "         [1.44908585e-03, 3.53124873e-03, 7.22965437e-04, ...,\n",
       "          2.70742841e-05, 9.07633010e-01, 9.31143867e-04],\n",
       "         [4.09822275e-05, 1.71749551e-03, 4.87125760e-04, ...,\n",
       "          1.73414559e-05, 8.53140168e-04, 9.33571224e-01]]],\n",
       "\n",
       "\n",
       "       [[[1.02225823e+00, 7.25560350e-04, 2.02116575e-03, ...,\n",
       "          9.92444661e-06, 2.74953924e-04, 1.05193969e-02],\n",
       "         [5.27956229e-04, 9.92903707e-01, 1.40194042e-04, ...,\n",
       "          5.59519157e-04, 2.66936159e-03, 2.41576181e-03],\n",
       "         [1.82585957e-03, 3.14494953e-05, 9.71607332e-01, ...,\n",
       "          5.42569918e-03, 1.30422789e-04, 8.50181202e-03],\n",
       "         ...,\n",
       "         [9.55185740e-08, 8.28877340e-04, 4.30610926e-03, ...,\n",
       "          9.93435106e-01, 1.18302896e-03, 5.16075756e-04],\n",
       "         [4.31494898e-04, 2.14906145e-03, 4.61313089e-04, ...,\n",
       "          1.47676710e-03, 1.00430163e+00, 2.43684685e-03],\n",
       "         [9.85032069e-03, 2.05704017e-03, 1.06496564e-02, ...,\n",
       "          2.01732190e-04, 3.01479682e-03, 9.88600384e-01]],\n",
       "\n",
       "        [[1.05527769e+00, 6.49740929e-05, 2.76291954e-03, ...,\n",
       "          2.03969556e-05, 1.36484414e-03, 4.87092880e-03],\n",
       "         [5.53323137e-05, 1.02774602e+00, 7.71498265e-04, ...,\n",
       "          7.27856256e-04, 2.30632306e-03, 5.02794800e-03],\n",
       "         [2.45376704e-03, 1.27839026e-03, 1.00458789e+00, ...,\n",
       "          3.65032330e-03, 1.89661544e-03, 1.30517799e-02],\n",
       "         ...,\n",
       "         [1.15904581e-04, 9.92180329e-04, 2.88172987e-03, ...,\n",
       "          1.02682992e+00, 1.45574750e-03, 2.41965754e-03],\n",
       "         [1.55974076e-03, 2.03617823e-03, 2.57533813e-03, ...,\n",
       "          2.19268451e-03, 1.02787678e+00, 1.41722491e-03],\n",
       "         [4.97098874e-03, 3.98251305e-03, 1.45552272e-02, ...,\n",
       "          1.43801611e-03, 2.04438001e-03, 1.01241268e+00]],\n",
       "\n",
       "        [[1.04509998e+00, 1.34110435e-04, 2.71605058e-03, ...,\n",
       "          6.83595359e-06, 1.11434265e-03, 4.55681364e-03],\n",
       "         [1.01057893e-04, 1.01693901e+00, 7.97288834e-04, ...,\n",
       "          7.28818899e-04, 1.96998698e-03, 5.46392468e-03],\n",
       "         [2.53244053e-03, 1.10198940e-03, 9.91729266e-01, ...,\n",
       "          2.71012652e-03, 1.53254950e-03, 1.20504278e-02],\n",
       "         ...,\n",
       "         [9.17057031e-05, 9.22794302e-04, 2.10982618e-03, ...,\n",
       "          1.01836958e+00, 1.34673025e-03, 1.53254629e-03],\n",
       "         [1.38721124e-03, 1.77824255e-03, 2.12998263e-03, ...,\n",
       "          1.95098262e-03, 1.01773595e+00, 1.44837689e-03],\n",
       "         [4.78169994e-03, 4.60849010e-03, 1.38661689e-02, ...,\n",
       "          8.57513080e-04, 1.86782691e-03, 1.00195647e+00]],\n",
       "\n",
       "        ...,\n",
       "\n",
       "        [[9.93883692e-01, 4.25821884e-04, 2.05323731e-03, ...,\n",
       "          1.81901606e-04, 3.07938922e-04, 1.04276310e-02],\n",
       "         [3.17367303e-04, 9.58171374e-01, 1.21378256e-04, ...,\n",
       "          8.61270608e-04, 4.04887927e-03, 1.73632387e-03],\n",
       "         [1.60517361e-03, 1.43902493e-05, 9.29767197e-01, ...,\n",
       "          6.57745685e-03, 4.25803541e-05, 9.99344337e-03],\n",
       "         ...,\n",
       "         [1.00009309e-04, 1.06799879e-03, 5.44002585e-03, ...,\n",
       "          9.57186768e-01, 1.15602647e-03, 7.55356726e-04],\n",
       "         [4.63449892e-04, 3.00830969e-03, 2.62803143e-04, ...,\n",
       "          1.71640942e-03, 9.65922097e-01, 2.83690046e-03],\n",
       "         [9.95330552e-03, 1.61427775e-03, 1.31186870e-02, ...,\n",
       "          2.76943348e-04, 4.26487077e-03, 9.46756818e-01]],\n",
       "\n",
       "        [[1.03535801e+00, 2.28576934e-04, 2.79484199e-03, ...,\n",
       "          5.81646015e-06, 6.58730569e-04, 7.45342663e-03],\n",
       "         [1.71513804e-04, 1.00704835e+00, 1.54412769e-04, ...,\n",
       "          7.91924337e-04, 2.60503837e-03, 3.84616389e-03],\n",
       "         [2.54096554e-03, 3.61703240e-04, 9.82320470e-01, ...,\n",
       "          4.29810652e-03, 3.91696346e-04, 1.14546898e-02],\n",
       "         ...,\n",
       "         [7.63945068e-06, 1.07583463e-03, 3.41103967e-03, ...,\n",
       "          1.00563340e+00, 1.05470174e-03, 9.30601712e-04],\n",
       "         [8.92407062e-04, 2.29337646e-03, 7.92730611e-04, ...,\n",
       "          1.46979296e-03, 1.01050978e+00, 1.87455797e-03],\n",
       "         [7.56553598e-03, 3.35700850e-03, 1.36123890e-02, ...,\n",
       "          4.25966572e-04, 2.51301413e-03, 9.95332931e-01]],\n",
       "\n",
       "        [[1.01007651e+00, 1.30534621e-03, 2.16980935e-03, ...,\n",
       "          3.71915281e-04, 1.46128274e-04, 9.14539426e-03],\n",
       "         [9.72813806e-04, 9.73009905e-01, 5.80545811e-04, ...,\n",
       "          6.23146759e-04, 2.72897781e-03, 2.27671170e-03],\n",
       "         [1.72351009e-03, 6.14054290e-04, 9.44796056e-01, ...,\n",
       "          3.04113158e-03, 2.91304434e-04, 7.49272449e-03],\n",
       "         ...,\n",
       "         [1.91075066e-04, 6.97798658e-04, 2.63013886e-03, ...,\n",
       "          9.77527518e-01, 6.94506414e-04, 6.30842466e-05],\n",
       "         [2.80679274e-04, 1.99366005e-03, 5.21116855e-05, ...,\n",
       "          9.06840471e-04, 9.84273055e-01, 2.83722469e-03],\n",
       "         [8.99031673e-03, 2.51414222e-03, 1.09604985e-02, ...,\n",
       "          3.32433640e-04, 3.82836034e-03, 9.64163265e-01]]],\n",
       "\n",
       "\n",
       "       [[[1.05030753e+00, 5.68990235e-04, 3.47573362e-03, ...,\n",
       "          3.29605373e-05, 2.98754943e-03, 1.40155119e-04],\n",
       "         [6.41285167e-04, 1.04533666e+00, 1.15237456e-04, ...,\n",
       "          5.18942795e-04, 1.14327508e-02, 3.30047812e-03],\n",
       "         [3.90681906e-03, 1.40046008e-04, 1.05987370e+00, ...,\n",
       "          2.42109202e-05, 8.75427970e-04, 5.39971372e-03],\n",
       "         ...,\n",
       "         [7.18376550e-05, 2.02183881e-04, 7.16207451e-06, ...,\n",
       "          1.07373154e+00, 5.40370415e-05, 3.06778551e-04],\n",
       "         [2.75034107e-03, 1.00759477e-02, 7.64157217e-04, ...,\n",
       "          2.76566083e-05, 1.03883880e+00, 1.20730462e-03],\n",
       "         [1.76293117e-04, 3.35453799e-03, 3.40047342e-03, ...,\n",
       "          3.09452769e-04, 8.24481028e-04, 1.03392355e+00]],\n",
       "\n",
       "        [[1.06038283e+00, 1.05565191e-03, 6.01220477e-03, ...,\n",
       "          8.89251916e-05, 1.10012768e-02, 2.05423539e-03],\n",
       "         [1.21903955e-03, 1.05164866e+00, 2.84800886e-05, ...,\n",
       "          5.21644871e-04, 1.71779238e-02, 3.21798672e-03],\n",
       "         [7.49348939e-03, 5.76875030e-07, 1.08097715e+00, ...,\n",
       "          2.64676586e-03, 5.63383173e-03, 2.71528334e-02],\n",
       "         ...,\n",
       "         [2.78254764e-05, 8.73590093e-04, 1.21642763e-03, ...,\n",
       "          1.11396154e+00, 2.07873125e-03, 9.80034343e-05],\n",
       "         [7.85861565e-03, 1.53417725e-02, 5.61929103e-03, ...,\n",
       "          2.33320578e-03, 1.04857000e+00, 2.86619401e-03],\n",
       "         [2.83705325e-03, 2.59668930e-03, 2.12911616e-02, ...,\n",
       "          7.41205198e-05, 1.86301897e-03, 1.06219720e+00]],\n",
       "\n",
       "        [[1.05803361e+00, 6.43784058e-04, 5.97342370e-03, ...,\n",
       "          2.05542642e-05, 1.15821800e-02, 2.52903911e-03],\n",
       "         [5.90296460e-04, 1.05569165e+00, 3.53650127e-04, ...,\n",
       "          7.62422480e-04, 1.66575606e-02, 3.94706885e-03],\n",
       "         [7.54881252e-03, 2.37747624e-04, 1.06910900e+00, ...,\n",
       "          1.76454073e-03, 4.27121700e-03, 1.68614289e-02],\n",
       "         ...,\n",
       "         [1.48821828e-05, 8.47918647e-04, 1.04394511e-03, ...,\n",
       "          1.09677957e+00, 1.92826906e-03, 5.54314016e-06],\n",
       "         [8.87324841e-03, 1.45140788e-02, 4.07827744e-03, ...,\n",
       "          2.22539429e-03, 1.05058487e+00, 1.93863397e-03],\n",
       "         [3.10067345e-03, 3.69782843e-03, 1.26081629e-02, ...,\n",
       "          9.39921427e-07, 9.10431283e-04, 1.05962237e+00]],\n",
       "\n",
       "        ...,\n",
       "\n",
       "        [[1.11609493e+00, 2.26640277e-03, 3.09423709e-03, ...,\n",
       "          5.50835567e-05, 1.92820592e-03, 5.31324524e-04],\n",
       "         [2.67248784e-03, 1.12395903e+00, 3.69063921e-07, ...,\n",
       "          1.96350174e-04, 1.45438011e-02, 3.40214634e-03],\n",
       "         [3.89563316e-03, 1.41812710e-11, 1.15523530e+00, ...,\n",
       "          5.58038292e-06, 1.37801993e-03, 1.34264661e-02],\n",
       "         ...,\n",
       "         [4.67330847e-05, 6.94867301e-06, 8.99923780e-05, ...,\n",
       "          1.16114418e+00, 1.67436961e-03, 1.26769284e-03],\n",
       "         [1.55402138e-03, 1.33256255e-02, 1.11384553e-03, ...,\n",
       "          1.29513797e-03, 1.13610869e+00, 2.53428106e-03],\n",
       "         [5.80680727e-04, 3.94750793e-03, 9.24581893e-03, ...,\n",
       "          1.37920504e-03, 2.21963700e-03, 1.10800245e+00]],\n",
       "\n",
       "        [[1.11345279e+00, 5.97603182e-05, 4.88490786e-03, ...,\n",
       "          8.48637463e-05, 7.07937205e-03, 1.12978619e-03],\n",
       "         [6.51377899e-05, 1.10774573e+00, 1.02425385e-04, ...,\n",
       "          6.51044280e-04, 1.45149082e-02, 3.40658742e-03],\n",
       "         [5.84731944e-03, 6.12511811e-05, 1.12671331e+00, ...,\n",
       "          8.72001755e-04, 2.88963089e-03, 1.36882919e-02],\n",
       "         ...,\n",
       "         [7.04490912e-05, 6.28481948e-04, 4.31173584e-04, ...,\n",
       "          1.15295805e+00, 4.88009128e-04, 1.26081114e-04],\n",
       "         [5.76886942e-03, 1.27021046e-02, 2.64355012e-03, ...,\n",
       "          6.54031314e-04, 1.09902843e+00, 2.03312130e-03],\n",
       "         [1.46916433e-03, 3.07530528e-03, 1.00949753e-02, ...,\n",
       "          1.02613868e-04, 1.27632096e-03, 1.10592896e+00]],\n",
       "\n",
       "        [[1.08445353e+00, 3.50124323e-03, 3.26534533e-03, ...,\n",
       "          3.05529202e-04, 2.91415897e-03, 1.04011245e-04],\n",
       "         [4.73265300e-03, 1.09676084e+00, 2.06772309e-04, ...,\n",
       "          5.41829463e-04, 1.11486236e-02, 5.26599883e-03],\n",
       "         [4.24148443e-03, 3.49665963e-04, 1.11433877e+00, ...,\n",
       "          7.59769905e-04, 2.51615488e-04, 2.04436384e-03],\n",
       "         ...,\n",
       "         [2.54879256e-04, 1.37989009e-05, 5.81374223e-04, ...,\n",
       "          1.11570431e+00, 9.88287913e-04, 1.42990780e-03],\n",
       "         [2.54836060e-03, 9.11262964e-03, 1.79734872e-04, ...,\n",
       "          7.31763248e-04, 1.10164315e+00, 3.28219864e-04],\n",
       "         [1.80302225e-04, 6.07724225e-03, 6.64455506e-04, ...,\n",
       "          1.73097319e-03, 1.94963312e-04, 1.08475373e+00]]]])"
      ]
     },
     "execution_count": 3,
     "metadata": {},
     "output_type": "execute_result"
    }
   ],
   "source": [
    "# Correlation Networks\n",
    "from contextualized.easy import ContextualizedCorrelationNetworks\n",
    "\n",
    "ccn = ContextualizedCorrelationNetworks(encoder_type='ngam', num_archetypes=16, n_bootstraps=3)\n",
    "ccn.fit(C, X, max_epochs=5)\n",
    "\n",
    "# Get rho\n",
    "ccn.predict_correlation(C, squared=False)\n",
    "\n",
    "# Get rho^2\n",
    "ccn.predict_correlation(C, squared=True)"
   ]
  },
  {
   "cell_type": "code",
   "execution_count": 4,
   "id": "515bf779",
   "metadata": {},
   "outputs": [
    {
     "name": "stderr",
     "output_type": "stream",
     "text": [
      "GPU available: True (mps), used: False\n",
      "TPU available: False, using: 0 TPU cores\n",
      "IPU available: False, using: 0 IPUs\n",
      "HPU available: False, using: 0 HPUs\n",
      "\n",
      "  | Name      | Type             | Params\n",
      "-----------------------------------------------\n",
      "0 | metamodel | SubtypeMetamodel | 7.3 K \n",
      "-----------------------------------------------\n",
      "7.3 K     Trainable params\n",
      "0         Non-trainable params\n",
      "7.3 K     Total params\n",
      "0.029     Total estimated model params size (MB)\n"
     ]
    },
    {
     "data": {
      "application/vnd.jupyter.widget-view+json": {
       "model_id": "c985760a27404ca1a906d7f3ed7f5092",
       "version_major": 2,
       "version_minor": 0
      },
      "text/plain": [
       "Sanity Checking: 0it [00:00, ?it/s]"
      ]
     },
     "metadata": {},
     "output_type": "display_data"
    },
    {
     "data": {
      "application/vnd.jupyter.widget-view+json": {
       "model_id": "b13b9f0fcef14e72bc5060ba4eb326b1",
       "version_major": 2,
       "version_minor": 0
      },
      "text/plain": [
       "Training: 0it [00:00, ?it/s]"
      ]
     },
     "metadata": {},
     "output_type": "display_data"
    },
    {
     "data": {
      "application/vnd.jupyter.widget-view+json": {
       "model_id": "5cf206a479574ee88c5634a61d7d9217",
       "version_major": 2,
       "version_minor": 0
      },
      "text/plain": [
       "Validation: 0it [00:00, ?it/s]"
      ]
     },
     "metadata": {},
     "output_type": "display_data"
    },
    {
     "data": {
      "application/vnd.jupyter.widget-view+json": {
       "model_id": "73c9549d743549b8a5be196eed3d64e2",
       "version_major": 2,
       "version_minor": 0
      },
      "text/plain": [
       "Validation: 0it [00:00, ?it/s]"
      ]
     },
     "metadata": {},
     "output_type": "display_data"
    },
    {
     "name": "stderr",
     "output_type": "stream",
     "text": [
      "GPU available: True (mps), used: False\n",
      "TPU available: False, using: 0 TPU cores\n",
      "IPU available: False, using: 0 IPUs\n",
      "HPU available: False, using: 0 HPUs\n",
      "\n",
      "  | Name      | Type             | Params\n",
      "-----------------------------------------------\n",
      "0 | metamodel | SubtypeMetamodel | 7.3 K \n",
      "-----------------------------------------------\n",
      "7.3 K     Trainable params\n",
      "0         Non-trainable params\n",
      "7.3 K     Total params\n",
      "0.029     Total estimated model params size (MB)\n"
     ]
    },
    {
     "data": {
      "application/vnd.jupyter.widget-view+json": {
       "model_id": "acae598444a34a638e7cd63a2552829a",
       "version_major": 2,
       "version_minor": 0
      },
      "text/plain": [
       "Sanity Checking: 0it [00:00, ?it/s]"
      ]
     },
     "metadata": {},
     "output_type": "display_data"
    },
    {
     "data": {
      "application/vnd.jupyter.widget-view+json": {
       "model_id": "faf5f3566d114d5abaaabf130575bc64",
       "version_major": 2,
       "version_minor": 0
      },
      "text/plain": [
       "Training: 0it [00:00, ?it/s]"
      ]
     },
     "metadata": {},
     "output_type": "display_data"
    },
    {
     "data": {
      "application/vnd.jupyter.widget-view+json": {
       "model_id": "80bed3e3b61f40348641d34bf6d2577e",
       "version_major": 2,
       "version_minor": 0
      },
      "text/plain": [
       "Validation: 0it [00:00, ?it/s]"
      ]
     },
     "metadata": {},
     "output_type": "display_data"
    },
    {
     "data": {
      "application/vnd.jupyter.widget-view+json": {
       "model_id": "dc9f61b800124c9294ef8e0b29931a7e",
       "version_major": 2,
       "version_minor": 0
      },
      "text/plain": [
       "Validation: 0it [00:00, ?it/s]"
      ]
     },
     "metadata": {},
     "output_type": "display_data"
    },
    {
     "name": "stderr",
     "output_type": "stream",
     "text": [
      "GPU available: True (mps), used: False\n",
      "TPU available: False, using: 0 TPU cores\n",
      "IPU available: False, using: 0 IPUs\n",
      "HPU available: False, using: 0 HPUs\n",
      "\n",
      "  | Name      | Type             | Params\n",
      "-----------------------------------------------\n",
      "0 | metamodel | SubtypeMetamodel | 7.3 K \n",
      "-----------------------------------------------\n",
      "7.3 K     Trainable params\n",
      "0         Non-trainable params\n",
      "7.3 K     Total params\n",
      "0.029     Total estimated model params size (MB)\n"
     ]
    },
    {
     "data": {
      "application/vnd.jupyter.widget-view+json": {
       "model_id": "cd44467a1624487cb20f0fc8bbc61ed5",
       "version_major": 2,
       "version_minor": 0
      },
      "text/plain": [
       "Sanity Checking: 0it [00:00, ?it/s]"
      ]
     },
     "metadata": {},
     "output_type": "display_data"
    },
    {
     "data": {
      "application/vnd.jupyter.widget-view+json": {
       "model_id": "4f52784dba2345c3946b111a4a0d4e00",
       "version_major": 2,
       "version_minor": 0
      },
      "text/plain": [
       "Training: 0it [00:00, ?it/s]"
      ]
     },
     "metadata": {},
     "output_type": "display_data"
    },
    {
     "data": {
      "application/vnd.jupyter.widget-view+json": {
       "model_id": "435b391b8eb2435aa82537442152f2af",
       "version_major": 2,
       "version_minor": 0
      },
      "text/plain": [
       "Validation: 0it [00:00, ?it/s]"
      ]
     },
     "metadata": {},
     "output_type": "display_data"
    },
    {
     "data": {
      "application/vnd.jupyter.widget-view+json": {
       "model_id": "5560f456dcd344baa150b0fdb7187ae4",
       "version_major": 2,
       "version_minor": 0
      },
      "text/plain": [
       "Validation: 0it [00:00, ?it/s]"
      ]
     },
     "metadata": {},
     "output_type": "display_data"
    },
    {
     "data": {
      "application/vnd.jupyter.widget-view+json": {
       "model_id": "4807e130ebb34fa593735f74fc1d5b00",
       "version_major": 2,
       "version_minor": 0
      },
      "text/plain": [
       "Predicting: 800it [00:00, ?it/s]"
      ]
     },
     "metadata": {},
     "output_type": "display_data"
    },
    {
     "data": {
      "application/vnd.jupyter.widget-view+json": {
       "model_id": "53ed9bc072a94e4c88b17572788f5eda",
       "version_major": 2,
       "version_minor": 0
      },
      "text/plain": [
       "Predicting: 800it [00:00, ?it/s]"
      ]
     },
     "metadata": {},
     "output_type": "display_data"
    },
    {
     "data": {
      "application/vnd.jupyter.widget-view+json": {
       "model_id": "dfc4f04fabb341aeb7ac6489032d0961",
       "version_major": 2,
       "version_minor": 0
      },
      "text/plain": [
       "Predicting: 800it [00:00, ?it/s]"
      ]
     },
     "metadata": {},
     "output_type": "display_data"
    },
    {
     "data": {
      "application/vnd.jupyter.widget-view+json": {
       "model_id": "e345a44461e54f5d9cfc1d3a0168a7e0",
       "version_major": 2,
       "version_minor": 0
      },
      "text/plain": [
       "Predicting: 800it [00:00, ?it/s]"
      ]
     },
     "metadata": {},
     "output_type": "display_data"
    },
    {
     "data": {
      "application/vnd.jupyter.widget-view+json": {
       "model_id": "57cf526ab4d5423eac57ee82c26d74df",
       "version_major": 2,
       "version_minor": 0
      },
      "text/plain": [
       "Predicting: 800it [00:00, ?it/s]"
      ]
     },
     "metadata": {},
     "output_type": "display_data"
    },
    {
     "data": {
      "application/vnd.jupyter.widget-view+json": {
       "model_id": "41136ddce3ca431e9282b56e631f178b",
       "version_major": 2,
       "version_minor": 0
      },
      "text/plain": [
       "Predicting: 800it [00:00, ?it/s]"
      ]
     },
     "metadata": {},
     "output_type": "display_data"
    },
    {
     "data": {
      "application/vnd.jupyter.widget-view+json": {
       "model_id": "f606c3e2e78942559210da66271d9c11",
       "version_major": 2,
       "version_minor": 0
      },
      "text/plain": [
       "Predicting: 800it [00:00, ?it/s]"
      ]
     },
     "metadata": {},
     "output_type": "display_data"
    },
    {
     "data": {
      "application/vnd.jupyter.widget-view+json": {
       "model_id": "ef148f7b0aea45308002422f55404341",
       "version_major": 2,
       "version_minor": 0
      },
      "text/plain": [
       "Predicting: 800it [00:00, ?it/s]"
      ]
     },
     "metadata": {},
     "output_type": "display_data"
    },
    {
     "data": {
      "application/vnd.jupyter.widget-view+json": {
       "model_id": "4ac140a2a2e745818115254908435f7a",
       "version_major": 2,
       "version_minor": 0
      },
      "text/plain": [
       "Predicting: 800it [00:00, ?it/s]"
      ]
     },
     "metadata": {},
     "output_type": "display_data"
    },
    {
     "data": {
      "text/plain": [
       "array([[[[-0.        ,  0.0361928 ,  0.05055533, ..., -0.03620366,\n",
       "          -0.06385705,  0.00821517],\n",
       "         [ 0.0361928 , -0.        ,  0.02504921, ...,  0.04703653,\n",
       "           0.07361782,  0.00532985],\n",
       "         [ 0.05055533,  0.02504921, -0.        , ...,  0.03320497,\n",
       "          -0.05435441, -0.02971142],\n",
       "         ...,\n",
       "         [-0.03620366,  0.04703653,  0.03320497, ..., -0.        ,\n",
       "          -0.080511  ,  0.03720195],\n",
       "         [-0.06385705,  0.07361782, -0.05435441, ..., -0.080511  ,\n",
       "          -0.        , -0.07560732],\n",
       "         [ 0.00821517,  0.00532985, -0.02971142, ...,  0.03720195,\n",
       "          -0.07560732, -0.        ]],\n",
       "\n",
       "        [[-0.        ,  0.02224281,  0.08533681, ..., -0.03194305,\n",
       "          -0.01507219, -0.03312518],\n",
       "         [ 0.02224281, -0.        , -0.00159212, ...,  0.03859939,\n",
       "           0.1040634 , -0.00371176],\n",
       "         [ 0.08533681, -0.00159212, -0.        , ..., -0.01901687,\n",
       "          -0.0491023 ,  0.03938597],\n",
       "         ...,\n",
       "         [-0.03194305,  0.03859939, -0.01901687, ..., -0.        ,\n",
       "          -0.04511221, -0.00848912],\n",
       "         [-0.01507219,  0.1040634 , -0.0491023 , ..., -0.04511221,\n",
       "          -0.        , -0.0267677 ],\n",
       "         [-0.03312518, -0.00371176,  0.03938597, ..., -0.00848912,\n",
       "          -0.0267677 , -0.        ]],\n",
       "\n",
       "        [[-0.        ,  0.01966551,  0.05793563, ...,  0.01595888,\n",
       "          -0.00472788, -0.0096526 ],\n",
       "         [ 0.01966551, -0.        , -0.00017042, ...,  0.03919083,\n",
       "           0.06373055,  0.01779417],\n",
       "         [ 0.05793563, -0.00017042, -0.        , ...,  0.00514786,\n",
       "          -0.03689604, -0.01829291],\n",
       "         ...,\n",
       "         [ 0.01595888,  0.03919083,  0.00514786, ..., -0.        ,\n",
       "          -0.02941765,  0.00291959],\n",
       "         [-0.00472788,  0.06373055, -0.03689604, ..., -0.02941765,\n",
       "          -0.        , -0.03338636],\n",
       "         [-0.0096526 ,  0.01779417, -0.01829291, ...,  0.00291959,\n",
       "          -0.03338636, -0.        ]],\n",
       "\n",
       "        ...,\n",
       "\n",
       "        [[-0.        ,  0.02751957,  0.09316659, ..., -0.02375567,\n",
       "          -0.05799122, -0.01496662],\n",
       "         [ 0.02751957, -0.        ,  0.00578856, ...,  0.07151903,\n",
       "           0.10951623, -0.00795299],\n",
       "         [ 0.09316659,  0.00578856, -0.        , ...,  0.01304105,\n",
       "          -0.06449617, -0.01024018],\n",
       "         ...,\n",
       "         [-0.02375567,  0.07151903,  0.01304105, ..., -0.        ,\n",
       "          -0.08741827,  0.02560408],\n",
       "         [-0.05799122,  0.10951623, -0.06449617, ..., -0.08741827,\n",
       "          -0.        , -0.08375025],\n",
       "         [-0.01496662, -0.00795299, -0.01024018, ...,  0.02560408,\n",
       "          -0.08375025, -0.        ]],\n",
       "\n",
       "        [[-0.        ,  0.02915434,  0.06122566, ..., -0.02436855,\n",
       "          -0.03364234, -0.00428804],\n",
       "         [ 0.02915434, -0.        ,  0.01765974, ...,  0.03978828,\n",
       "           0.07931791,  0.00996264],\n",
       "         [ 0.06122566,  0.01765974, -0.        , ...,  0.01924488,\n",
       "          -0.04601733, -0.0119565 ],\n",
       "         ...,\n",
       "         [-0.02436855,  0.03978828,  0.01924488, ..., -0.        ,\n",
       "          -0.04978105,  0.01755506],\n",
       "         [-0.03364234,  0.07931791, -0.04601733, ..., -0.04978105,\n",
       "          -0.        , -0.04904676],\n",
       "         [-0.00428804,  0.00996264, -0.0119565 , ...,  0.01755506,\n",
       "          -0.04904676, -0.        ]],\n",
       "\n",
       "        [[-0.        ,  0.0087746 ,  0.04830992, ...,  0.02265206,\n",
       "          -0.04098737,  0.01463646],\n",
       "         [ 0.0087746 , -0.        , -0.01499489, ...,  0.05724388,\n",
       "           0.04869128,  0.00681893],\n",
       "         [ 0.04830992, -0.01499489, -0.        , ...,  0.01630714,\n",
       "          -0.03302888, -0.0382784 ],\n",
       "         ...,\n",
       "         [ 0.02265206,  0.05724388,  0.01630714, ..., -0.        ,\n",
       "          -0.05886902,  0.05549759],\n",
       "         [-0.04098737,  0.04869128, -0.03302888, ..., -0.05886902,\n",
       "          -0.        , -0.06729855],\n",
       "         [ 0.01463646,  0.00681893, -0.0382784 , ...,  0.05549759,\n",
       "          -0.06729855, -0.        ]]],\n",
       "\n",
       "\n",
       "       [[[-0.        ,  0.12242942,  0.0210723 , ..., -0.03451409,\n",
       "           0.0033815 , -0.0416646 ],\n",
       "         [ 0.12242942, -0.        , -0.01854892, ...,  0.02452979,\n",
       "          -0.06251685, -0.05474809],\n",
       "         [ 0.0210723 , -0.01854892, -0.        , ..., -0.02602528,\n",
       "          -0.05331098, -0.01514014],\n",
       "         ...,\n",
       "         [-0.03451409,  0.02452979, -0.02602528, ..., -0.        ,\n",
       "          -0.07002276, -0.0550231 ],\n",
       "         [ 0.0033815 , -0.06251685, -0.05331098, ..., -0.07002276,\n",
       "          -0.        , -0.01734398],\n",
       "         [-0.0416646 , -0.05474809, -0.01514014, ..., -0.0550231 ,\n",
       "          -0.01734398, -0.        ]],\n",
       "\n",
       "        [[-0.        ,  0.1496267 ,  0.0139963 , ..., -0.06207483,\n",
       "           0.02404389, -0.05479817],\n",
       "         [ 0.1496267 , -0.        , -0.04494889, ...,  0.03690053,\n",
       "          -0.06181254, -0.04837818],\n",
       "         [ 0.0139963 , -0.04494889, -0.        , ..., -0.05634207,\n",
       "          -0.08337887,  0.02046887],\n",
       "         ...,\n",
       "         [-0.06207483,  0.03690053, -0.05634207, ..., -0.        ,\n",
       "          -0.09870509, -0.06247592],\n",
       "         [ 0.02404389, -0.06181254, -0.08337887, ..., -0.09870509,\n",
       "          -0.        , -0.00835419],\n",
       "         [-0.05479817, -0.04837818,  0.02046887, ..., -0.06247592,\n",
       "          -0.00835419, -0.        ]],\n",
       "\n",
       "        [[-0.        ,  0.16877866,  0.02374457, ..., -0.00636293,\n",
       "           0.05967496, -0.05608912],\n",
       "         [ 0.16877866, -0.        , -0.01162367, ...,  0.00424601,\n",
       "          -0.07852715, -0.04648624],\n",
       "         [ 0.02374457, -0.01162367, -0.        , ..., -0.03084548,\n",
       "          -0.06900805, -0.05101049],\n",
       "         ...,\n",
       "         [-0.00636293,  0.00424601, -0.03084548, ..., -0.        ,\n",
       "          -0.07675897, -0.06301688],\n",
       "         [ 0.05967496, -0.07852715, -0.06900805, ..., -0.07675897,\n",
       "          -0.        , -0.0106061 ],\n",
       "         [-0.05608912, -0.04648624, -0.05101049, ..., -0.06301688,\n",
       "          -0.0106061 , -0.        ]],\n",
       "\n",
       "        ...,\n",
       "\n",
       "        [[-0.        ,  0.10058543,  0.01051028, ..., -0.04507791,\n",
       "          -0.00671409, -0.04437517],\n",
       "         [ 0.10058543, -0.        , -0.03246137, ...,  0.03866705,\n",
       "          -0.05461289, -0.0361796 ],\n",
       "         [ 0.01051028, -0.03246137, -0.        , ..., -0.04003284,\n",
       "          -0.0549309 ,  0.02834914],\n",
       "         ...,\n",
       "         [-0.04507791,  0.03866705, -0.04003284, ..., -0.        ,\n",
       "          -0.07224795, -0.03867794],\n",
       "         [-0.00671409, -0.05461289, -0.0549309 , ..., -0.07224795,\n",
       "          -0.        , -0.00762629],\n",
       "         [-0.04437517, -0.0361796 ,  0.02834914, ..., -0.03867794,\n",
       "          -0.00762629, -0.        ]],\n",
       "\n",
       "        [[-0.        ,  0.1452041 ,  0.02285349, ..., -0.03220603,\n",
       "           0.03132706, -0.0481966 ],\n",
       "         [ 0.1452041 , -0.        , -0.01839601, ...,  0.01665908,\n",
       "          -0.06793521, -0.05042154],\n",
       "         [ 0.02285349, -0.01839601, -0.        , ..., -0.0314598 ,\n",
       "          -0.06572565, -0.02154667],\n",
       "         ...,\n",
       "         [-0.03220603,  0.01665908, -0.0314598 , ..., -0.        ,\n",
       "          -0.07682138, -0.06354374],\n",
       "         [ 0.03132706, -0.06793521, -0.06572565, ..., -0.07682138,\n",
       "          -0.        , -0.01352095],\n",
       "         [-0.0481966 , -0.05042154, -0.02154667, ..., -0.06354374,\n",
       "          -0.01352095, -0.        ]],\n",
       "\n",
       "        [[-0.        ,  0.12544304,  0.00913044, ...,  0.00859388,\n",
       "           0.0305388 , -0.0457126 ],\n",
       "         [ 0.12544304, -0.        , -0.01469538, ...,  0.00252764,\n",
       "          -0.06373796, -0.01485069],\n",
       "         [ 0.00913044, -0.01469538, -0.        , ..., -0.02813641,\n",
       "          -0.03873437, -0.04969286],\n",
       "         ...,\n",
       "         [ 0.00859388,  0.00252764, -0.02813641, ..., -0.        ,\n",
       "          -0.06670084, -0.03219656],\n",
       "         [ 0.0305388 , -0.06373796, -0.03873437, ..., -0.06670084,\n",
       "          -0.        ,  0.01182462],\n",
       "         [-0.0457126 , -0.01485069, -0.04969286, ..., -0.03219656,\n",
       "           0.01182462, -0.        ]]],\n",
       "\n",
       "\n",
       "       [[[-0.        ,  0.07982165, -0.01885597, ..., -0.02009907,\n",
       "           0.01352306,  0.04322162],\n",
       "         [ 0.07982165, -0.        ,  0.02530467, ..., -0.09662561,\n",
       "          -0.00238384,  0.05547682],\n",
       "         [-0.01885597,  0.02530467, -0.        , ..., -0.03060148,\n",
       "           0.02385826,  0.07135623],\n",
       "         ...,\n",
       "         [-0.02009907, -0.09662561, -0.03060148, ..., -0.        ,\n",
       "           0.08074948, -0.01374338],\n",
       "         [ 0.01352306, -0.00238384,  0.02385826, ...,  0.08074948,\n",
       "          -0.        ,  0.01557575],\n",
       "         [ 0.04322162,  0.05547682,  0.07135623, ..., -0.01374338,\n",
       "           0.01557575, -0.        ]],\n",
       "\n",
       "        [[-0.        ,  0.0741331 , -0.04459311, ..., -0.02341861,\n",
       "           0.02480349,  0.03545027],\n",
       "         [ 0.0741331 , -0.        ,  0.02048085, ..., -0.13132839,\n",
       "           0.01969783,  0.05464354],\n",
       "         [-0.04459311,  0.02048085, -0.        , ..., -0.07067911,\n",
       "          -0.004435  ,  0.14004894],\n",
       "         ...,\n",
       "         [-0.02341861, -0.13132839, -0.07067911, ..., -0.        ,\n",
       "           0.12086217, -0.00409741],\n",
       "         [ 0.02480349,  0.01969783, -0.004435  , ...,  0.12086217,\n",
       "          -0.        ,  0.00811977],\n",
       "         [ 0.03545027,  0.05464354,  0.14004894, ..., -0.00409741,\n",
       "           0.00811977, -0.        ]],\n",
       "\n",
       "        [[-0.        ,  0.07565051, -0.04668593, ...,  0.01658102,\n",
       "           0.0217368 ,  0.03241701],\n",
       "         [ 0.07565051, -0.        ,  0.01358388, ..., -0.10374582,\n",
       "          -0.00088159,  0.05303523],\n",
       "         [-0.04668593,  0.01358388, -0.        , ..., -0.058138  ,\n",
       "           0.0017626 ,  0.09443474],\n",
       "         ...,\n",
       "         [ 0.01658102, -0.10374582, -0.058138  , ..., -0.        ,\n",
       "           0.09470989, -0.00125774],\n",
       "         [ 0.0217368 , -0.00088159,  0.0017626 , ...,  0.09470989,\n",
       "          -0.        ,  0.0176139 ],\n",
       "         [ 0.03241701,  0.05303523,  0.09443474, ..., -0.00125774,\n",
       "           0.0176139 , -0.        ]],\n",
       "\n",
       "        ...,\n",
       "\n",
       "        [[-0.        ,  0.05353752,  0.00042656, ..., -0.05547357,\n",
       "           0.01760143,  0.06260884],\n",
       "         [ 0.05353752, -0.        ,  0.02523493, ..., -0.12417088,\n",
       "           0.01873019,  0.05531608],\n",
       "         [ 0.00042656,  0.02523493, -0.        , ..., -0.03765997,\n",
       "           0.02643773,  0.11361632],\n",
       "         ...,\n",
       "         [-0.05547357, -0.12417088, -0.03765997, ..., -0.        ,\n",
       "           0.12586121, -0.01815185],\n",
       "         [ 0.01760143,  0.01873019,  0.02643773, ...,  0.12586121,\n",
       "          -0.        ,  0.01069149],\n",
       "         [ 0.06260884,  0.05531608,  0.11361632, ..., -0.01815185,\n",
       "           0.01069149, -0.        ]],\n",
       "\n",
       "        [[-0.        ,  0.07527584, -0.03711318, ..., -0.01450759,\n",
       "           0.01664772,  0.03472734],\n",
       "         [ 0.07527584, -0.        ,  0.02521867, ..., -0.11108092,\n",
       "           0.0043061 ,  0.05373944],\n",
       "         [-0.03711318,  0.02521867, -0.        , ..., -0.05056325,\n",
       "           0.01041234,  0.100381  ],\n",
       "         ...,\n",
       "         [-0.01450759, -0.11108092, -0.05056325, ..., -0.        ,\n",
       "           0.09685456, -0.00348826],\n",
       "         [ 0.01664772,  0.0043061 ,  0.01041234, ...,  0.09685456,\n",
       "          -0.        ,  0.01645492],\n",
       "         [ 0.03472734,  0.05373944,  0.100381  , ..., -0.00348826,\n",
       "           0.01645492, -0.        ]],\n",
       "\n",
       "        [[-0.        ,  0.05170416, -0.0076622 , ...,  0.02145332,\n",
       "           0.0275891 ,  0.05451895],\n",
       "         [ 0.05170416, -0.        ,  0.00734833, ..., -0.08362862,\n",
       "          -0.00481223,  0.05548324],\n",
       "         [-0.0076622 ,  0.00734833, -0.        , ..., -0.02970494,\n",
       "           0.01902628,  0.05274533],\n",
       "         ...,\n",
       "         [ 0.02145332, -0.08362862, -0.02970494, ..., -0.        ,\n",
       "           0.08391845, -0.00749697],\n",
       "         [ 0.0275891 , -0.00481223,  0.01902628, ...,  0.08391845,\n",
       "          -0.        ,  0.02608154],\n",
       "         [ 0.05451895,  0.05548324,  0.05274533, ..., -0.00749697,\n",
       "           0.02608154, -0.        ]]]])"
      ]
     },
     "execution_count": 4,
     "metadata": {},
     "output_type": "execute_result"
    }
   ],
   "source": [
    "# Markov Networks\n",
    "\n",
    "from contextualized.easy import ContextualizedMarkovNetworks\n",
    "\n",
    "cmn = ContextualizedMarkovNetworks(encoder_type='ngam', num_archetypes=16, n_bootstraps=3)\n",
    "cmn.fit(C, X, max_epochs=5)\n",
    "\n",
    "# Get network\n",
    "cmn.predict_networks(C)\n",
    "\n",
    "# Get precision matrices\n",
    "cmn.predict_precisions(C)\n",
    "\n"
   ]
  },
  {
   "cell_type": "code",
   "execution_count": 6,
   "id": "b8284a57",
   "metadata": {},
   "outputs": [
    {
     "name": "stderr",
     "output_type": "stream",
     "text": [
      "GPU available: True (mps), used: False\n",
      "TPU available: False, using: 0 TPU cores\n",
      "IPU available: False, using: 0 IPUs\n",
      "HPU available: False, using: 0 HPUs\n",
      "/opt/homebrew/lib/python3.10/site-packages/pytorch_lightning/trainer/trainer.py:1789: UserWarning: MPS available but not used. Set `accelerator` and `devices` using `Trainer(accelerator='mps', devices=1)`.\n",
      "  rank_zero_warn(\n",
      "\n",
      "  | Name      | Type             | Params\n",
      "-----------------------------------------------\n",
      "0 | metamodel | SubtypeMetamodel | 7.3 K \n",
      "-----------------------------------------------\n",
      "7.3 K     Trainable params\n",
      "0         Non-trainable params\n",
      "7.3 K     Total params\n",
      "0.029     Total estimated model params size (MB)\n"
     ]
    },
    {
     "data": {
      "application/vnd.jupyter.widget-view+json": {
       "model_id": "48f0bb0697d34b5292a8691bd8f040a5",
       "version_major": 2,
       "version_minor": 0
      },
      "text/plain": [
       "Sanity Checking: 0it [00:00, ?it/s]"
      ]
     },
     "metadata": {},
     "output_type": "display_data"
    },
    {
     "name": "stderr",
     "output_type": "stream",
     "text": [
      "/opt/homebrew/lib/python3.10/site-packages/pytorch_lightning/trainer/connectors/data_connector.py:236: PossibleUserWarning: The dataloader, val_dataloader 0, does not have many workers which may be a bottleneck. Consider increasing the value of the `num_workers` argument` (try 10 which is the number of cpus on this machine) in the `DataLoader` init to improve performance.\n",
      "  rank_zero_warn(\n",
      "/opt/homebrew/lib/python3.10/site-packages/pytorch_lightning/trainer/connectors/data_connector.py:236: PossibleUserWarning: The dataloader, train_dataloader, does not have many workers which may be a bottleneck. Consider increasing the value of the `num_workers` argument` (try 10 which is the number of cpus on this machine) in the `DataLoader` init to improve performance.\n",
      "  rank_zero_warn(\n"
     ]
    },
    {
     "data": {
      "application/vnd.jupyter.widget-view+json": {
       "model_id": "85de3ac7d0f04dce89f0e997c5681baa",
       "version_major": 2,
       "version_minor": 0
      },
      "text/plain": [
       "Training: 0it [00:00, ?it/s]"
      ]
     },
     "metadata": {},
     "output_type": "display_data"
    },
    {
     "data": {
      "application/vnd.jupyter.widget-view+json": {
       "model_id": "fe88192c760e4f928dcfa9e423ecfd61",
       "version_major": 2,
       "version_minor": 0
      },
      "text/plain": [
       "Validation: 0it [00:00, ?it/s]"
      ]
     },
     "metadata": {},
     "output_type": "display_data"
    },
    {
     "data": {
      "application/vnd.jupyter.widget-view+json": {
       "model_id": "dbf1f78243da471ba47a5b4233008d21",
       "version_major": 2,
       "version_minor": 0
      },
      "text/plain": [
       "Validation: 0it [00:00, ?it/s]"
      ]
     },
     "metadata": {},
     "output_type": "display_data"
    },
    {
     "name": "stderr",
     "output_type": "stream",
     "text": [
      "GPU available: True (mps), used: False\n",
      "TPU available: False, using: 0 TPU cores\n",
      "IPU available: False, using: 0 IPUs\n",
      "HPU available: False, using: 0 HPUs\n",
      "\n",
      "  | Name      | Type             | Params\n",
      "-----------------------------------------------\n",
      "0 | metamodel | SubtypeMetamodel | 7.3 K \n",
      "-----------------------------------------------\n",
      "7.3 K     Trainable params\n",
      "0         Non-trainable params\n",
      "7.3 K     Total params\n",
      "0.029     Total estimated model params size (MB)\n"
     ]
    },
    {
     "data": {
      "application/vnd.jupyter.widget-view+json": {
       "model_id": "68c7d3adb3614c5183848676fb9d3b76",
       "version_major": 2,
       "version_minor": 0
      },
      "text/plain": [
       "Sanity Checking: 0it [00:00, ?it/s]"
      ]
     },
     "metadata": {},
     "output_type": "display_data"
    },
    {
     "data": {
      "application/vnd.jupyter.widget-view+json": {
       "model_id": "bdff0675595346e3bd8eab92e6e0f19b",
       "version_major": 2,
       "version_minor": 0
      },
      "text/plain": [
       "Training: 0it [00:00, ?it/s]"
      ]
     },
     "metadata": {},
     "output_type": "display_data"
    },
    {
     "data": {
      "application/vnd.jupyter.widget-view+json": {
       "model_id": "d7d804837f614123af4c235c357a35e3",
       "version_major": 2,
       "version_minor": 0
      },
      "text/plain": [
       "Validation: 0it [00:00, ?it/s]"
      ]
     },
     "metadata": {},
     "output_type": "display_data"
    },
    {
     "data": {
      "application/vnd.jupyter.widget-view+json": {
       "model_id": "8f79903476ae49628189bb350f57f209",
       "version_major": 2,
       "version_minor": 0
      },
      "text/plain": [
       "Validation: 0it [00:00, ?it/s]"
      ]
     },
     "metadata": {},
     "output_type": "display_data"
    },
    {
     "name": "stderr",
     "output_type": "stream",
     "text": [
      "GPU available: True (mps), used: False\n",
      "TPU available: False, using: 0 TPU cores\n",
      "IPU available: False, using: 0 IPUs\n",
      "HPU available: False, using: 0 HPUs\n",
      "\n",
      "  | Name      | Type             | Params\n",
      "-----------------------------------------------\n",
      "0 | metamodel | SubtypeMetamodel | 7.3 K \n",
      "-----------------------------------------------\n",
      "7.3 K     Trainable params\n",
      "0         Non-trainable params\n",
      "7.3 K     Total params\n",
      "0.029     Total estimated model params size (MB)\n"
     ]
    },
    {
     "data": {
      "application/vnd.jupyter.widget-view+json": {
       "model_id": "3805f29059e24dabb04143d07d465498",
       "version_major": 2,
       "version_minor": 0
      },
      "text/plain": [
       "Sanity Checking: 0it [00:00, ?it/s]"
      ]
     },
     "metadata": {},
     "output_type": "display_data"
    },
    {
     "data": {
      "application/vnd.jupyter.widget-view+json": {
       "model_id": "4ef3ee39535a4c2699f1492a8362686f",
       "version_major": 2,
       "version_minor": 0
      },
      "text/plain": [
       "Training: 0it [00:00, ?it/s]"
      ]
     },
     "metadata": {},
     "output_type": "display_data"
    },
    {
     "data": {
      "application/vnd.jupyter.widget-view+json": {
       "model_id": "fbc35a3b0ac64fb9868074a794aa73be",
       "version_major": 2,
       "version_minor": 0
      },
      "text/plain": [
       "Validation: 0it [00:00, ?it/s]"
      ]
     },
     "metadata": {},
     "output_type": "display_data"
    },
    {
     "data": {
      "application/vnd.jupyter.widget-view+json": {
       "model_id": "0a77ac65a3b244beb147876282462475",
       "version_major": 2,
       "version_minor": 0
      },
      "text/plain": [
       "Validation: 0it [00:00, ?it/s]"
      ]
     },
     "metadata": {},
     "output_type": "display_data"
    },
    {
     "data": {
      "application/vnd.jupyter.widget-view+json": {
       "model_id": "858160bd5f944cc195fdb66055232a18",
       "version_major": 2,
       "version_minor": 0
      },
      "text/plain": [
       "Validation: 0it [00:00, ?it/s]"
      ]
     },
     "metadata": {},
     "output_type": "display_data"
    },
    {
     "name": "stderr",
     "output_type": "stream",
     "text": [
      "/opt/homebrew/lib/python3.10/site-packages/pytorch_lightning/trainer/connectors/data_connector.py:236: PossibleUserWarning: The dataloader, predict_dataloader 0, does not have many workers which may be a bottleneck. Consider increasing the value of the `num_workers` argument` (try 10 which is the number of cpus on this machine) in the `DataLoader` init to improve performance.\n",
      "  rank_zero_warn(\n"
     ]
    },
    {
     "data": {
      "application/vnd.jupyter.widget-view+json": {
       "model_id": "dfd2e216763740efbe6641583592a8d2",
       "version_major": 2,
       "version_minor": 0
      },
      "text/plain": [
       "Predicting: 800it [00:00, ?it/s]"
      ]
     },
     "metadata": {},
     "output_type": "display_data"
    },
    {
     "data": {
      "application/vnd.jupyter.widget-view+json": {
       "model_id": "6fc604c20b1840cc8b1ecd3f793c6de8",
       "version_major": 2,
       "version_minor": 0
      },
      "text/plain": [
       "Predicting: 800it [00:00, ?it/s]"
      ]
     },
     "metadata": {},
     "output_type": "display_data"
    },
    {
     "data": {
      "application/vnd.jupyter.widget-view+json": {
       "model_id": "f7b89249239644f2b9583ffea85e662a",
       "version_major": 2,
       "version_minor": 0
      },
      "text/plain": [
       "Predicting: 800it [00:00, ?it/s]"
      ]
     },
     "metadata": {},
     "output_type": "display_data"
    },
    {
     "data": {
      "application/vnd.jupyter.widget-view+json": {
       "model_id": "86cff9061cf04f488919e4e9e28316e8",
       "version_major": 2,
       "version_minor": 0
      },
      "text/plain": [
       "Predicting: 800it [00:00, ?it/s]"
      ]
     },
     "metadata": {},
     "output_type": "display_data"
    },
    {
     "data": {
      "application/vnd.jupyter.widget-view+json": {
       "model_id": "2674dc65e028416f86cbb789075003d6",
       "version_major": 2,
       "version_minor": 0
      },
      "text/plain": [
       "Predicting: 800it [00:00, ?it/s]"
      ]
     },
     "metadata": {},
     "output_type": "display_data"
    },
    {
     "data": {
      "application/vnd.jupyter.widget-view+json": {
       "model_id": "533d788713da427b81983f5c339cae1a",
       "version_major": 2,
       "version_minor": 0
      },
      "text/plain": [
       "Predicting: 800it [00:00, ?it/s]"
      ]
     },
     "metadata": {},
     "output_type": "display_data"
    },
    {
     "data": {
      "application/vnd.jupyter.widget-view+json": {
       "model_id": "ea7d262aeea543de91ca8a8ca98ab264",
       "version_major": 2,
       "version_minor": 0
      },
      "text/plain": [
       "Predicting: 800it [00:00, ?it/s]"
      ]
     },
     "metadata": {},
     "output_type": "display_data"
    },
    {
     "data": {
      "application/vnd.jupyter.widget-view+json": {
       "model_id": "2dac1f975264427cb21e90cf672d9599",
       "version_major": 2,
       "version_minor": 0
      },
      "text/plain": [
       "Predicting: 800it [00:00, ?it/s]"
      ]
     },
     "metadata": {},
     "output_type": "display_data"
    },
    {
     "data": {
      "application/vnd.jupyter.widget-view+json": {
       "model_id": "6f74b57019734a29a83a8f06fb40f1e8",
       "version_major": 2,
       "version_minor": 0
      },
      "text/plain": [
       "Predicting: 800it [00:00, ?it/s]"
      ]
     },
     "metadata": {},
     "output_type": "display_data"
    },
    {
     "data": {
      "application/vnd.jupyter.widget-view+json": {
       "model_id": "1b6d8cb8c19343f0b8e05e6c96b2075d",
       "version_major": 2,
       "version_minor": 0
      },
      "text/plain": [
       "Predicting: 800it [00:00, ?it/s]"
      ]
     },
     "metadata": {},
     "output_type": "display_data"
    },
    {
     "data": {
      "application/vnd.jupyter.widget-view+json": {
       "model_id": "0b69e482713b4d87b4e96a5fdcd6a199",
       "version_major": 2,
       "version_minor": 0
      },
      "text/plain": [
       "Predicting: 800it [00:00, ?it/s]"
      ]
     },
     "metadata": {},
     "output_type": "display_data"
    },
    {
     "data": {
      "application/vnd.jupyter.widget-view+json": {
       "model_id": "d9adf466d3e14fd19c18d0f767d551a0",
       "version_major": 2,
       "version_minor": 0
      },
      "text/plain": [
       "Predicting: 800it [00:00, ?it/s]"
      ]
     },
     "metadata": {},
     "output_type": "display_data"
    },
    {
     "data": {
      "text/plain": [
       "array([0.54485421, 1.03978218, 0.66372614, 1.17597379, 0.504791  ,\n",
       "       1.01114918, 1.67300417, 0.95655705, 0.73110336, 0.95706395,\n",
       "       1.21535534, 1.48580618, 2.29819609, 0.83228849, 0.70176657,\n",
       "       1.1629574 , 1.49087037, 0.61031328, 0.62452267, 0.30892005,\n",
       "       1.63473412, 1.21904678, 0.72700751, 0.35572999, 0.98981332,\n",
       "       1.03351097, 1.10890939, 0.96714759, 0.77699085, 0.46416309,\n",
       "       1.00367497, 0.36569367, 1.37600066, 1.2791138 , 0.68395544,\n",
       "       0.91342834, 0.58620821, 0.63285201, 1.44327391, 1.33046884,\n",
       "       0.50870534, 0.70636911, 0.58016588, 0.99198803, 0.91362459,\n",
       "       1.53329891, 0.95759203, 2.12534793, 1.29161048, 0.2409306 ,\n",
       "       1.73332616, 1.57019334, 0.99299952, 0.7031165 , 1.35496523,\n",
       "       0.93233553, 0.72391034, 1.48846956, 0.61872322, 1.20978472,\n",
       "       1.56052652, 0.96467016, 1.18314226, 1.2810026 , 1.20484058,\n",
       "       1.36715227, 0.66035342, 0.89262136, 1.17217819, 0.65827154,\n",
       "       0.92358028, 1.45637631, 0.82995517, 1.18625536, 1.0502311 ,\n",
       "       0.75491766, 0.68981597, 2.30790574, 1.2705313 , 1.35393174,\n",
       "       1.03626466, 0.64192364, 0.56270846, 1.6851048 , 0.96754563,\n",
       "       0.40734483, 0.91273905, 0.57749409, 1.15583475, 1.37955338,\n",
       "       0.38998726, 1.22195703, 0.79006714, 1.06363487, 0.56247784,\n",
       "       0.63900207, 0.725465  , 0.4655126 , 1.1394231 , 0.32647138,\n",
       "       0.69413867, 1.0909908 , 2.1067965 , 1.42788905, 1.1104337 ,\n",
       "       0.4843862 , 2.49342193, 0.83526905, 0.68600038, 0.96430265,\n",
       "       0.63132887, 1.35108547, 1.28422455, 0.88990103, 1.47489156,\n",
       "       2.61644983, 1.05359257, 0.64897137, 0.52319578, 0.91456494,\n",
       "       0.69332071, 0.57992662, 1.72569882, 1.66941508, 0.72151309,\n",
       "       0.48244065, 1.72339352, 1.3061402 , 0.96762558, 1.61729097,\n",
       "       0.74624438, 0.77619088, 1.59475259, 0.40434011, 0.75714434,\n",
       "       1.38309495, 0.80721587, 0.35048089, 0.86166109, 1.17148353,\n",
       "       0.91468035, 0.40059664, 2.1395009 , 0.99682754, 1.30124936,\n",
       "       1.55127208, 0.50661739, 0.96566801, 0.63149134, 1.10221876,\n",
       "       0.6192301 , 0.27816105, 0.52169244, 1.83821458, 1.12047003,\n",
       "       1.73268498, 0.63985949, 0.76363986, 0.49343176, 1.38026642,\n",
       "       0.14453888, 0.67696055, 0.65502374, 0.58529767, 1.23108147,\n",
       "       0.73338312, 0.76635206, 0.95360511, 0.56163307, 0.56161651,\n",
       "       0.65344783, 1.22253058, 0.65372969, 1.1581191 , 0.49344523,\n",
       "       1.90468434, 0.60442021, 1.1200435 , 1.43383176, 1.25313646,\n",
       "       1.22599433, 0.89162071, 1.10205029, 0.90420045, 0.52496387,\n",
       "       0.38227283, 0.55170488, 1.10093298, 1.01177791, 1.48757449,\n",
       "       0.38038481, 1.04666274, 1.41284448, 0.58725675, 0.89047132,\n",
       "       0.72038381, 0.58523631, 1.19632802, 1.28003103, 1.4718927 ,\n",
       "       1.02876324, 0.22336612, 1.48913308, 0.35319557, 0.95036262,\n",
       "       0.92333621, 0.83780174, 0.67722461, 0.50771697, 0.69204859,\n",
       "       1.16023982, 1.07169218, 1.31457489, 1.33853353, 0.72678377,\n",
       "       1.10787525, 0.50013626, 0.37006402, 2.06023381, 1.44122101,\n",
       "       0.85182244, 1.23146833, 1.47419319, 0.54778853, 0.46157313,\n",
       "       1.35248396, 0.4972712 , 0.39843491, 0.52727421, 1.25095597,\n",
       "       1.35577363, 1.65091176, 0.77328929, 0.75817013, 0.96735409,\n",
       "       0.8410388 , 0.94661122, 0.70097027, 0.95017375, 1.19796852,\n",
       "       0.60601004, 0.98412394, 1.23160921, 1.5335265 , 0.73716152,\n",
       "       1.455512  , 0.8011636 , 0.5394969 , 1.99121945, 0.91571889,\n",
       "       0.66465712, 0.91670316, 0.53216285, 1.17530401, 0.68395524,\n",
       "       1.81132141, 1.14054073, 0.93802141, 1.58184163, 0.85316665,\n",
       "       0.79234446, 0.16900466, 0.71580236, 0.32814089, 0.91041325,\n",
       "       1.21249405, 0.83344503, 1.45048391, 1.22763303, 0.88137709,\n",
       "       1.48852607, 0.76025973, 1.00358652, 1.08706108, 2.12594438,\n",
       "       0.52528392, 1.14266112, 1.68665423, 0.55257961, 0.43569208,\n",
       "       0.38481631, 0.64366147, 0.89471097, 0.82379615, 1.19760473,\n",
       "       1.58676409, 0.55287426, 0.34906944, 0.2840253 , 0.81950036,\n",
       "       1.48290396, 0.80692923, 0.55284146, 1.52175402, 1.1482124 ,\n",
       "       0.85820098, 0.71869798, 0.48433728, 1.09475319, 1.01317327,\n",
       "       0.94938112, 1.42373562, 0.5863998 , 1.41311527, 1.4624758 ,\n",
       "       0.94695274, 0.32277878, 0.58500989, 0.50806703, 1.20808901,\n",
       "       0.96330372, 0.86938155, 0.56532307, 0.87960496, 2.20716539,\n",
       "       1.220119  , 0.79139194, 1.21494302, 0.91577464, 0.6120712 ,\n",
       "       0.53763572, 0.53534472, 0.67000641, 1.28138274, 0.51951349,\n",
       "       0.37748464, 0.94853299, 0.65748365, 1.02779827, 0.84788924,\n",
       "       0.90006462, 1.10633796, 1.01030914, 1.02267423, 0.9920337 ,\n",
       "       0.4171392 , 1.08268967, 0.95637663, 1.567378  , 0.95752001,\n",
       "       0.62272399, 0.76121723, 0.93683312, 1.38807733, 1.18513401,\n",
       "       1.41300056, 0.80035415, 0.62314308, 0.79489493, 0.7302767 ,\n",
       "       1.44309282, 0.42161336, 0.86508899, 1.69736191, 0.60490144,\n",
       "       0.98949809, 0.3042035 , 0.46542953, 0.33213218, 2.14531888,\n",
       "       1.30815673, 0.51790068, 0.36628343, 0.8891477 , 0.50941183,\n",
       "       1.18685763, 0.42363187, 0.82682024, 1.15229   , 0.50207281,\n",
       "       1.26960549, 0.73117711, 1.87955953, 0.49436601, 0.93856002,\n",
       "       1.68354419, 1.40024135, 1.53202648, 0.7406492 , 1.18106179,\n",
       "       1.19461476, 0.59921382, 1.38429915, 1.47891897, 0.92165613,\n",
       "       0.54264819, 0.3377065 , 0.42119462, 1.1235312 , 0.94838971,\n",
       "       2.53629839, 1.96215492, 1.93733607, 0.87213907, 1.43045022,\n",
       "       0.40912295, 0.97039461, 1.00409269, 0.8172646 , 0.81420948,\n",
       "       1.34004062, 1.9141812 , 0.64539504, 1.16919538, 0.71847904,\n",
       "       1.12161281, 1.91205085, 1.33933424, 0.93108729, 0.52689128,\n",
       "       2.25240995, 1.63662627, 1.27969704, 0.62552191, 0.61310664,\n",
       "       1.94550536, 0.91624812, 0.17256801, 1.43276281, 1.54006851,\n",
       "       1.12185663, 0.87037036, 2.04227403, 0.71120328, 1.09851309,\n",
       "       0.73845587, 0.9618561 , 0.57250111, 1.33436341, 0.57687982,\n",
       "       0.65775533, 1.00169668, 0.95573262, 1.13662884, 0.89701355,\n",
       "       0.95031675, 1.50574961, 0.66581151, 3.16763651, 0.89674783,\n",
       "       0.82405714, 0.53298029, 0.87728178, 0.82578172, 0.52309473,\n",
       "       0.70326814, 0.68165866, 0.65936454, 1.4511032 , 1.1222776 ,\n",
       "       0.45955605, 1.07418081, 0.54752266, 1.01673276, 0.85171224,\n",
       "       0.87455615, 0.5245742 , 0.87369115, 1.12768006, 0.66075203,\n",
       "       0.6966276 , 1.42212522, 2.11014677, 1.42149685, 0.36260725,\n",
       "       0.62584502, 0.94784013, 1.03723296, 1.47622971, 1.35531131,\n",
       "       1.37965679, 1.05033771, 1.22040106, 0.91079214, 1.04811924,\n",
       "       1.08350922, 1.57904144, 0.44738947, 0.48484417, 0.65861836,\n",
       "       0.83496691, 1.06527822, 0.6318839 , 1.28301223, 0.66672415,\n",
       "       1.88558423, 0.87670211, 0.49859328, 0.63383352, 1.87337087,\n",
       "       1.0336467 , 1.1374574 , 0.45073141, 0.24942662, 2.61948878,\n",
       "       0.77316954, 1.60138406, 0.27276633, 0.58183649, 0.64428955,\n",
       "       1.39415397, 1.52010578, 1.47050725, 1.5373853 , 0.85911629,\n",
       "       1.81284059, 0.71932014, 1.68953057, 0.97304087, 0.9736097 ,\n",
       "       1.0970305 , 1.03486429, 0.82765078, 1.51864108, 1.54202451,\n",
       "       0.85005614, 1.24009229, 1.31242706, 1.76241934, 0.6101551 ,\n",
       "       1.39796097, 0.57961858, 0.49351571, 1.20735527, 0.63588121,\n",
       "       1.25677996, 1.19013405, 1.21016788, 0.85625366, 0.90909484,\n",
       "       1.25906006, 0.60698127, 0.57821604, 2.06352518, 1.85831183,\n",
       "       0.85132365, 0.66417893, 0.57427292, 0.41745243, 1.9599253 ,\n",
       "       0.62200762, 1.79349368, 1.39640143, 0.51869086, 0.5465426 ,\n",
       "       0.51009023, 1.53358326, 0.74273789, 1.09300164, 1.8900385 ,\n",
       "       1.04564057, 0.17084068, 1.30664385, 1.22038642, 2.08050368,\n",
       "       0.89974335, 1.55841139, 1.20544089, 0.92579546, 1.12981515,\n",
       "       0.4699675 , 0.89457278, 0.93498347, 0.44771138, 0.91493196,\n",
       "       0.98642225, 0.85526003, 1.06640645, 1.3575968 , 0.91038066,\n",
       "       1.30146749, 0.88136402, 1.56085475, 1.23096605, 1.59766722,\n",
       "       0.31341307, 0.6498594 , 0.81050945, 0.61475254, 0.79965757,\n",
       "       0.27620061, 0.69408589, 2.10688398, 0.7733463 , 0.58159798,\n",
       "       1.30317737, 1.21740941, 1.29171401, 0.64106423, 0.58579595,\n",
       "       1.08841781, 0.63078236, 0.9749189 , 0.31347453, 1.04955139,\n",
       "       1.13420625, 0.4266225 , 1.18059982, 2.08816184, 0.49149645,\n",
       "       0.7360784 , 1.10946967, 1.76840358, 0.83658067, 1.01659499,\n",
       "       0.67138842, 1.30341784, 1.2536192 , 0.68654972, 0.56119307,\n",
       "       1.10176084, 0.36736157, 0.86792596, 0.76864065, 1.29900672,\n",
       "       0.82555376, 1.07540425, 0.78969608, 1.80484199, 0.51489975,\n",
       "       1.03555617, 1.09393267, 0.42404104, 1.1707389 , 0.84970331,\n",
       "       0.50451044, 0.38541522, 0.67799617, 1.54082072, 1.10900006,\n",
       "       1.24933086, 0.94076994, 1.21397668, 0.50047529, 1.12919178,\n",
       "       0.82025378, 0.74977232, 1.12517628, 0.76553748, 0.5965779 ,\n",
       "       1.24131022, 0.82239393, 1.07431536, 1.05000706, 0.84102024,\n",
       "       0.83267067, 1.84230042, 1.02972296, 0.62789932, 1.87983417,\n",
       "       0.53421888, 0.55412901, 1.19070347, 0.65254313, 0.93290954,\n",
       "       1.01102137, 0.78672108, 1.40481897, 1.35118057, 1.23108824,\n",
       "       0.73901618, 1.29343932, 1.61695504, 0.87780739, 1.01664185,\n",
       "       0.97838331, 1.19119517, 0.75525825, 0.95854934, 1.10312184,\n",
       "       1.29503004, 1.15918886, 1.23102556, 1.49628186, 1.03522843,\n",
       "       0.71325013, 0.51784187, 0.56947507, 1.2061017 , 0.39316605,\n",
       "       0.40715216, 0.59375038, 0.86548541, 0.66538849, 1.65892202,\n",
       "       1.09646991, 1.40141737, 0.58854215, 0.22463717, 0.30370264,\n",
       "       1.67160212, 1.25134417, 0.73653203, 1.0926079 , 0.94161924,\n",
       "       1.16562389, 1.60400472, 0.17628219, 0.93661666, 0.87429855,\n",
       "       1.43673311, 1.04999279, 1.38306941, 1.56177784, 1.02378373,\n",
       "       1.15388222, 1.05502109, 1.3077303 , 0.69173541, 0.91557835,\n",
       "       0.94581267, 1.77080375, 1.479195  , 0.73643336, 1.2156574 ,\n",
       "       0.77528659, 1.49301809, 1.32754455, 0.89579432, 1.44095379,\n",
       "       0.74570412, 0.65243184, 0.77282871, 1.58719407, 0.70392753,\n",
       "       0.55572164, 1.17333859, 1.07033932, 0.20580663, 0.68669739,\n",
       "       1.13481603, 1.08867141, 0.90586643, 0.87473645, 0.75349306,\n",
       "       1.25904336, 0.6766529 , 0.54833817, 0.58561948, 0.67209326,\n",
       "       0.69458849, 0.33912183, 0.86508472, 0.90611791, 0.65667219,\n",
       "       1.447801  , 1.01383024, 1.27477219, 0.36828893, 0.81559371,\n",
       "       0.63945697, 1.624979  , 1.26985766, 1.26010629, 1.12003713,\n",
       "       1.56213616, 0.76419011, 2.01280681, 0.96958464, 0.80556933,\n",
       "       0.49870201, 0.74006746, 0.73890124, 0.28241849, 1.41041316,\n",
       "       1.33494413, 1.17790447, 1.14209614, 1.21645802, 0.65129779,\n",
       "       0.33752808, 1.73395463, 1.44073215, 1.19283885, 0.53559662,\n",
       "       1.03024195, 0.62312942, 0.61501998, 0.47630363, 1.67871342,\n",
       "       1.5567045 , 1.24969861, 0.78184352, 1.25345173, 0.74256926,\n",
       "       0.79253941, 0.78382354, 1.72762892, 1.0491003 , 1.32799498,\n",
       "       0.68454786, 1.11947034, 1.13319453, 0.7509308 , 0.57277378,\n",
       "       0.61288602, 0.64406748, 2.03604536, 0.61538344, 1.12774475,\n",
       "       0.80786664, 0.48963181, 0.36466853, 1.12406943, 0.95493005,\n",
       "       0.88552247, 1.86455733, 1.27020174, 1.7060275 , 1.38039104,\n",
       "       0.94010141, 0.54161491, 1.29749641, 0.98994082, 1.01826574,\n",
       "       0.84431096, 0.71787884, 0.90864577, 1.10067146, 1.14337181,\n",
       "       1.07273842, 1.37432643, 2.29159795, 1.22545308, 0.87743875,\n",
       "       0.49732802, 0.85402045, 1.40368723, 0.77021011, 0.67670075,\n",
       "       0.98853375, 0.47719753, 1.05691151, 0.62751148, 1.37506194,\n",
       "       0.68311371, 1.11939076, 0.86012606, 0.5198193 , 1.7812754 ,\n",
       "       1.2145487 , 1.6005062 , 1.07859327, 1.95128725, 0.76371611,\n",
       "       0.81736516, 0.86811813, 1.52656308, 0.97287978, 0.69055501,\n",
       "       0.6827305 , 1.08806092, 1.33245964, 0.81931787, 1.28458721,\n",
       "       0.912807  , 0.42952771, 0.68585047, 0.90752274, 0.67831743,\n",
       "       0.55217449, 1.18729956, 0.89686832, 1.01207425, 0.98415845,\n",
       "       1.26629745, 1.03009564, 0.32753674, 0.32990095, 0.91430741,\n",
       "       0.76819855, 1.25915004, 0.83612598, 1.31114571, 1.03476827,\n",
       "       1.50112248, 0.66392893, 0.50960897, 2.15851207, 0.64824641,\n",
       "       1.41529686, 0.8426581 , 1.95994484, 1.76247251, 1.24515747,\n",
       "       0.50404514, 0.69713677, 1.3940312 , 0.56818575, 0.24219886,\n",
       "       2.41306452, 1.21101464, 1.24047884, 0.63826162, 0.56488401,\n",
       "       0.77835809, 0.75680312, 0.48759513, 0.49786565, 1.04241224,\n",
       "       0.68927305, 0.55282764, 2.59440823, 0.82304696, 0.72144513,\n",
       "       0.97049942, 0.98133639, 1.0654612 , 1.15480459, 1.27348346,\n",
       "       0.42624303, 0.78705305, 1.33840195, 1.31135685, 1.3423628 ,\n",
       "       1.19820065, 1.17128623, 0.77898928, 0.80351435, 0.8613876 ,\n",
       "       1.47109077, 0.4071077 , 0.52561282, 1.15186944, 0.5598985 ,\n",
       "       1.54746037, 1.14852152, 1.28396422, 1.12893057, 0.60128704,\n",
       "       0.61038851, 0.72457105, 0.61106668, 0.86783947, 0.54868038,\n",
       "       0.88121462, 2.05096818, 0.98647076, 0.80531634, 1.32013994,\n",
       "       1.45118823, 0.94415994, 0.76526336, 1.04390221, 1.02697354,\n",
       "       1.72946056, 2.25237338, 0.98178744, 1.67668575, 0.60147163,\n",
       "       0.65783544, 1.94988749, 1.80348458, 1.06931996, 0.4165536 ,\n",
       "       1.28918116, 0.88081207, 0.46946568, 2.01181124, 0.538513  ,\n",
       "       0.75384879, 0.82453628, 0.70831708, 1.39480363, 0.88104458,\n",
       "       0.90191415, 1.21297225, 0.23706172, 1.47631276, 0.69454331,\n",
       "       1.17628254, 0.53568653, 0.12102012, 1.60577174, 0.57284351,\n",
       "       0.96945782, 0.54056664, 1.5128368 , 0.81611   , 0.67371703,\n",
       "       1.53468538, 0.99356506, 1.32574713, 0.88142005, 2.18194575,\n",
       "       0.41618322, 1.42614852, 0.6219634 , 0.79163716, 1.32465899,\n",
       "       0.72026587, 0.77356612, 0.72952632, 1.25380319, 0.60926127,\n",
       "       1.04960517, 3.42356249, 0.40065432, 0.58487527, 0.39761307])"
      ]
     },
     "execution_count": 6,
     "metadata": {},
     "output_type": "execute_result"
    }
   ],
   "source": [
    "# Bayesian Networks\n",
    "from contextualized.easy import ContextualizedBayesianNetworks\n",
    "\n",
    "cbn = ContextualizedMarkovNetworks(encoder_type='ngam', num_archetypes=16, n_bootstraps=3)\n",
    "cbn.fit(C, X, max_epochs=5)\n",
    "\n",
    "# Get network\n",
    "cbn.predict_networks(C)\n",
    "\n",
    "\n",
    "cbn.measure_mses(C, X)"
   ]
  },
  {
   "cell_type": "code",
   "execution_count": null,
   "id": "d2a5b8c2",
   "metadata": {},
   "outputs": [],
   "source": []
  }
 ],
 "metadata": {
  "kernelspec": {
   "display_name": "Python 3 (ipykernel)",
   "language": "python",
   "name": "python3"
  },
  "language_info": {
   "codemirror_mode": {
    "name": "ipython",
    "version": 3
   },
   "file_extension": ".py",
   "mimetype": "text/x-python",
   "name": "python",
   "nbconvert_exporter": "python",
   "pygments_lexer": "ipython3",
   "version": "3.10.8"
  }
 },
 "nbformat": 4,
 "nbformat_minor": 5
}
