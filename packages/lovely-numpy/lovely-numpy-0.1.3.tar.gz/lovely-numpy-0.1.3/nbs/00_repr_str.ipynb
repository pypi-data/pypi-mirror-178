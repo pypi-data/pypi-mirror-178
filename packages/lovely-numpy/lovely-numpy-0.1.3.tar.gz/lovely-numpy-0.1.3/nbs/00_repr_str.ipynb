{
 "cells": [
  {
   "cell_type": "markdown",
   "metadata": {},
   "source": [
    "# 🧾 View as a summary"
   ]
  },
  {
   "cell_type": "code",
   "execution_count": null,
   "metadata": {},
   "outputs": [],
   "source": [
    "#| default_exp repr_str"
   ]
  },
  {
   "cell_type": "code",
   "execution_count": null,
   "metadata": {},
   "outputs": [],
   "source": [
    "# |hide\n",
    "from nbdev.showdoc import *\n",
    "from fastcore.test import test_eq"
   ]
  },
  {
   "cell_type": "code",
   "execution_count": null,
   "metadata": {},
   "outputs": [],
   "source": [
    "#| hide\n",
    "#| export\n",
    "from typing import Optional, Union\n",
    "from collections import defaultdict\n",
    "from fastcore.foundation import store_attr\n",
    "import warnings\n",
    "import numpy as np\n",
    "\n",
    "from lovely_numpy.utils import pretty_str, PRINT_OPTS, history_warning, sparse_join, np_to_str_common, plain_repr"
   ]
  },
  {
   "cell_type": "code",
   "execution_count": null,
   "metadata": {},
   "outputs": [],
   "source": []
  },
  {
   "cell_type": "code",
   "execution_count": null,
   "metadata": {},
   "outputs": [],
   "source": [
    "# |hide\n",
    "np.random.seed(0)\n",
    "randoms = np.random.randn(100)"
   ]
  },
  {
   "cell_type": "code",
   "execution_count": null,
   "metadata": {},
   "outputs": [],
   "source": [
    "nasties = randoms[:12].copy()\n",
    "\n",
    "nasties[0] *= 10000\n",
    "nasties[1] /= 10000\n",
    "nasties[3] = float('inf')\n",
    "nasties[4] = float('-inf')\n",
    "nasties[5] = float('nan')\n",
    "nasties = nasties.reshape((2,6))"
   ]
  },
  {
   "cell_type": "code",
   "execution_count": null,
   "metadata": {},
   "outputs": [],
   "source": []
  },
  {
   "cell_type": "code",
   "execution_count": null,
   "metadata": {},
   "outputs": [],
   "source": [
    "# |exporti\n",
    "dtnames =   {   \"float16\": \"f16\",\n",
    "                \"float32\": \"f32\",\n",
    "                \"float64\": \"\", # Default dtype in numpy\n",
    "                \"uint8\": \"u8\",\n",
    "                \"uint16\": \"u16\",\n",
    "                \"uint32\": \"u32\",\n",
    "                \"uint64\": \"u64\",\n",
    "                \"int8\": \"i8\",\n",
    "                \"int16\": \"i16\",\n",
    "                \"int32\": \"i32\",\n",
    "                \"int64\": \"i64\",\n",
    "            }\n",
    "\n",
    "def short_dtype(x: Union[np.ndarray, np.generic]): return dtnames.get(x.dtype.name, str(x.dtype)[6:])"
   ]
  },
  {
   "cell_type": "code",
   "execution_count": null,
   "metadata": {},
   "outputs": [],
   "source": [
    "# |hide\n",
    "test_eq(short_dtype(np.array(1., dtype=np.float16)), \"f16\")"
   ]
  },
  {
   "cell_type": "code",
   "execution_count": null,
   "metadata": {},
   "outputs": [],
   "source": [
    "# |exporti\n",
    "\n",
    "def np_to_str(x: Union[np.ndarray, np.generic],\n",
    "            plain: bool=False,\n",
    "            verbose: bool=False,\n",
    "            depth=0,\n",
    "            lvl=0,\n",
    "            color=None) -> str:\n",
    "\n",
    "    if plain or not np.isrealobj(x):\n",
    "        return plain_repr(x)\n",
    "    \n",
    "    tname = type(x).__name__.split(\".\")[-1] if isinstance(x, np.ndarray) else None\n",
    "    shape = str(list(x.shape)) if x.ndim else None\n",
    "    type_str = sparse_join([tname, shape], sep=\"\")\n",
    "\n",
    "    color = PRINT_OPTS.color if color is None else color\n",
    "    common = np_to_str_common(x, color=color)\n",
    "    dtype = short_dtype(x)\n",
    "    \n",
    "    vals = pretty_str(x) if x.size <= 10 else None\n",
    "    res = sparse_join([type_str, dtype, common, vals])\n",
    "\n",
    "    if verbose:\n",
    "        res += \"\\n\" + plain_repr(x)\n",
    "\n",
    "    if depth and x.ndim > 1:\n",
    "        res += \"\\n\" + \"\\n\".join([\n",
    "            \" \"*PRINT_OPTS.indent*(lvl+1) +\n",
    "            str(np_to_str(x[i,:], depth=depth-1, lvl=lvl+1))\n",
    "            for i in range(x.shape[0])])\n",
    "\n",
    "    return res"
   ]
  },
  {
   "cell_type": "code",
   "execution_count": null,
   "metadata": {},
   "outputs": [
    {
     "name": "stdout",
     "output_type": "stream",
     "text": [
      "ndarray[2, 6] n=12 x∈[-0.151, 1.764e+04] μ=1.960e+03 σ=5.544e+03 \u001b[31m+Inf!\u001b[0m \u001b[31m-Inf!\u001b[0m \u001b[31mNaN!\u001b[0m\n"
     ]
    }
   ],
   "source": [
    "print(np_to_str(nasties))"
   ]
  },
  {
   "cell_type": "code",
   "execution_count": null,
   "metadata": {},
   "outputs": [],
   "source": [
    "#| exporti\n",
    "\n",
    "class StrProxy():\n",
    "    def __init__(self, x: np.ndarray,\n",
    "                    plain=False,\n",
    "                    verbose=False,\n",
    "                    depth=0,\n",
    "                    lvl=0,\n",
    "                    color=None):\n",
    "        store_attr()\n",
    "        history_warning()\n",
    "    \n",
    "    def __repr__(self):\n",
    "        return np_to_str(self.x, plain=self.plain, verbose=self.verbose,\n",
    "                      depth=self.depth, lvl=self.lvl, color=self.color)\n",
    "\n",
    "    # This is used for .deeper attribute and .deeper(depth=...).\n",
    "    # The second onthe results in a __call__.\n",
    "    def __call__(self, depth=1):\n",
    "        return StrProxy(self.x, depth=depth)"
   ]
  },
  {
   "cell_type": "markdown",
   "metadata": {},
   "source": [
    "\n",
    "Would be _lovely_ if you could see all the important tensor stats too?"
   ]
  },
  {
   "cell_type": "code",
   "execution_count": null,
   "metadata": {},
   "outputs": [],
   "source": [
    "# |export\n",
    "def lovely(x: np.ndarray, # Tensor of interest\n",
    "            verbose=False,  # Whether to show the full tensor\n",
    "            plain=False,    # Just print if exactly as before\n",
    "            depth=0,        # Show stats in depth\n",
    "            color=None):    # Force color (True/False) or auto.\n",
    "    return StrProxy(x, verbose=verbose, plain=plain, depth=depth, color=color)"
   ]
  },
  {
   "cell_type": "code",
   "execution_count": null,
   "metadata": {},
   "outputs": [
    {
     "name": "stdout",
     "output_type": "stream",
     "text": [
      "1.764\n",
      "ndarray[2] μ=1.082 σ=0.682 [1.764, 0.400]\n",
      "ndarray[2, 3] n=6 x∈[-0.977, 2.241] μ=1.046 σ=1.090 [[1.764, 0.400, 0.979], [2.241, 1.868, -0.977]]\n",
      "ndarray[11] x∈[-0.977, 2.241] μ=0.684 σ=0.938\n"
     ]
    }
   ],
   "source": [
    "print(lovely(randoms[0]))\n",
    "print(lovely(randoms[:2]))\n",
    "print(lovely(randoms[:6].reshape(2, 3))) # More than 2 elements -> show statistics\n",
    "print(lovely(randoms[:11])) # More than 10 -> suppress data output\n"
   ]
  },
  {
   "cell_type": "code",
   "execution_count": null,
   "metadata": {},
   "outputs": [],
   "source": [
    "# |hide\n",
    "test_eq(str(lovely(randoms[0])), \"1.764\")\n",
    "test_eq(str(lovely(randoms[:2])), \"ndarray[2] μ=1.082 σ=0.682 [1.764, 0.400]\")\n",
    "test_eq(str(lovely(randoms[:6].reshape(2, 3))), \"ndarray[2, 3] n=6 x∈[-0.977, 2.241] μ=1.046 σ=1.090 [[1.764, 0.400, 0.979], [2.241, 1.868, -0.977]]\")\n",
    "test_eq(str(lovely(randoms[:11])), \"ndarray[11] x∈[-0.977, 2.241] μ=0.684 σ=0.938\")"
   ]
  },
  {
   "cell_type": "markdown",
   "metadata": {},
   "source": [
    "Do we have __any__ floating point nasties? Is the tensor __all__ zeros?"
   ]
  },
  {
   "cell_type": "code",
   "execution_count": null,
   "metadata": {},
   "outputs": [
    {
     "data": {
      "text/plain": [
       "ndarray[2, 6] n=12 x∈[-0.151, 1.764e+04] μ=1.960e+03 σ=5.544e+03 \u001b[31m+Inf!\u001b[0m \u001b[31m-Inf!\u001b[0m \u001b[31mNaN!\u001b[0m"
      ]
     },
     "execution_count": null,
     "metadata": {},
     "output_type": "execute_result"
    }
   ],
   "source": [
    "# Statistics and range are calculated on good values only, if there are at lest 3 of them.\n",
    "lovely(nasties)"
   ]
  },
  {
   "cell_type": "code",
   "execution_count": null,
   "metadata": {},
   "outputs": [
    {
     "data": {
      "text/plain": [
       "ndarray[2, 6] n=12 x∈[-0.151, 1.764e+04] μ=1.960e+03 σ=5.544e+03 +Inf! -Inf! NaN!"
      ]
     },
     "execution_count": null,
     "metadata": {},
     "output_type": "execute_result"
    }
   ],
   "source": [
    "lovely(nasties, color=False)"
   ]
  },
  {
   "cell_type": "code",
   "execution_count": null,
   "metadata": {},
   "outputs": [
    {
     "data": {
      "text/plain": [
       "ndarray[11] \u001b[31mNaN!\u001b[0m"
      ]
     },
     "execution_count": null,
     "metadata": {},
     "output_type": "execute_result"
    }
   ],
   "source": [
    "lovely(np.array([float(\"nan\")]*11))"
   ]
  },
  {
   "cell_type": "code",
   "execution_count": null,
   "metadata": {},
   "outputs": [
    {
     "data": {
      "text/plain": [
       "ndarray[12] f16 \u001b[38;2;127;127;127mall_zeros\u001b[0m"
      ]
     },
     "execution_count": null,
     "metadata": {},
     "output_type": "execute_result"
    }
   ],
   "source": [
    "lovely(np.zeros(12, dtype=np.float16))"
   ]
  },
  {
   "cell_type": "code",
   "execution_count": null,
   "metadata": {},
   "outputs": [],
   "source": [
    "test_eq(str(lovely(nasties)),\n",
    "    'ndarray[2, 6] n=12 x∈[-0.151, 1.764e+04] μ=1.960e+03 σ=5.544e+03 \\x1b[31m+Inf!\\x1b[0m \\x1b[31m-Inf!\\x1b[0m \\x1b[31mNaN!\\x1b[0m')\n",
    "test_eq(str(lovely(np.array([float(\"nan\")]*11))), 'ndarray[11] \\x1b[31mNaN!\\x1b[0m')\n",
    "test_eq(str(lovely(np.zeros(12, dtype=np.float16))), 'ndarray[12] f16 \\x1b[38;2;127;127;127mall_zeros\\x1b[0m')"
   ]
  },
  {
   "cell_type": "code",
   "execution_count": null,
   "metadata": {},
   "outputs": [
    {
     "data": {
      "text/plain": [
       "ndarray[2, 6] n=12 x∈[-0.151, 1.764e+04] μ=1.960e+03 σ=5.544e+03 \u001b[31m+Inf!\u001b[0m \u001b[31m-Inf!\u001b[0m \u001b[31mNaN!\u001b[0m\n",
       "array([[ 1.76405235e+04,  4.00157208e-05,  9.78737984e-01,\n",
       "                    inf,            -inf,             nan],\n",
       "       [ 9.50088418e-01, -1.51357208e-01, -1.03218852e-01,\n",
       "         4.10598502e-01,  1.44043571e-01,  1.45427351e+00]])"
      ]
     },
     "execution_count": null,
     "metadata": {},
     "output_type": "execute_result"
    }
   ],
   "source": [
    "# torch.set_printoptions(linewidth=120)\n",
    "lovely(nasties, verbose=True)"
   ]
  },
  {
   "cell_type": "code",
   "execution_count": null,
   "metadata": {},
   "outputs": [
    {
     "data": {
      "text/plain": [
       "array([[ 1.76405235e+04,  4.00157208e-05,  9.78737984e-01,\n",
       "                    inf,            -inf,             nan],\n",
       "       [ 9.50088418e-01, -1.51357208e-01, -1.03218852e-01,\n",
       "         4.10598502e-01,  1.44043571e-01,  1.45427351e+00]])"
      ]
     },
     "execution_count": null,
     "metadata": {},
     "output_type": "execute_result"
    }
   ],
   "source": [
    "lovely(nasties, plain=True)"
   ]
  },
  {
   "cell_type": "code",
   "execution_count": null,
   "metadata": {},
   "outputs": [
    {
     "data": {
      "text/plain": [
       "ndarray[3, 196, 196] f32 n=115248 x∈[-2.118, 2.640] μ=-0.388 σ=1.073 \u001b[31mNaN!\u001b[0m\n",
       "  ndarray[196, 196] f32 n=38416 x∈[-2.118, 2.249] μ=-0.324 σ=1.036\n",
       "  ndarray[196, 196] f32 n=38416 x∈[-1.966, 2.429] μ=-0.274 σ=0.973 \u001b[31mNaN!\u001b[0m\n",
       "  ndarray[196, 196] f32 n=38416 x∈[-1.804, 2.640] μ=-0.567 σ=1.178"
      ]
     },
     "execution_count": null,
     "metadata": {},
     "output_type": "execute_result"
    }
   ],
   "source": [
    "image = np.load(\"mysteryman.npy\")\n",
    "image[1,100,100] = float('nan')\n",
    "\n",
    "lovely(image, depth=1)"
   ]
  },
  {
   "cell_type": "code",
   "execution_count": null,
   "metadata": {},
   "outputs": [
    {
     "data": {
      "text/plain": [
       "array([ 1.8831507 -1.270485j  , -1.34775906+0.96939671j])"
      ]
     },
     "execution_count": null,
     "metadata": {},
     "output_type": "execute_result"
    }
   ],
   "source": [
    "# We don't really supposed complex numbers yet\n",
    "c = np.random.randn(2) + 1j*np.random.randn(2)\n",
    "lovely(c)"
   ]
  },
  {
   "cell_type": "code",
   "execution_count": null,
   "metadata": {},
   "outputs": [],
   "source": [
    "#| hide\n",
    "import nbdev; nbdev.nbdev_export()"
   ]
  }
 ],
 "metadata": {
  "kernelspec": {
   "display_name": "Python 3.10.6 ('torch')",
   "language": "python",
   "name": "python3"
  }
 },
 "nbformat": 4,
 "nbformat_minor": 4
}
