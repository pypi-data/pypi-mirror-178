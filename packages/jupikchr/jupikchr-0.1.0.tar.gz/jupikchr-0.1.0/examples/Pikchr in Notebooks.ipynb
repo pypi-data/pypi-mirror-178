{
 "cells": [
  {
   "cell_type": "markdown",
   "id": "015a02ce-2e90-4ded-9052-fc6590ecf876",
   "metadata": {},
   "source": [
    "# Pikchr in Notebooks"
   ]
  },
  {
   "cell_type": "markdown",
   "id": "c112eede-6d63-4ebf-b23c-804c317a2733",
   "metadata": {},
   "source": [
    "## Markdown\n",
    "\n",
    "Using in _fenced code blocks_ with the `pikchr` language."
   ]
  },
  {
   "cell_type": "markdown",
   "id": "03f0d0b0-5169-48ba-8113-f00e4ecf3860",
   "metadata": {},
   "source": [
    "```pikchr\n",
    "arrow right 200% \"Markdown\" \"Source\"\n",
    "box rad 10px \"Markdown\" \"Formatter\" \"(markdown.c)\" fit\n",
    "arrow right 200% \"HTML+SVG\" \"Output\"\n",
    "arrow <-> down 70% from last box.s\n",
    "box same \"Pikchr\" \"Formatter\" \"(pikchr.c)\" fit\n",
    "```"
   ]
  },
  {
   "cell_type": "markdown",
   "id": "cc208b33-a2fc-4ccf-9aaf-87cc37071efb",
   "metadata": {},
   "source": [
    "# MIME\n",
    "\n",
    "The _fiat_ mime type is `text/x-pikchr`."
   ]
  },
  {
   "cell_type": "code",
   "execution_count": null,
   "id": "d7f2de48-7fd5-4ae3-9a7c-5854d25c3fe8",
   "metadata": {},
   "outputs": [],
   "source": [
    "MIME_TYPE = \"text/x-pikchr\""
   ]
  },
  {
   "cell_type": "code",
   "execution_count": null,
   "id": "d083c003-fb05-418d-8358-b043a9b2ba3c",
   "metadata": {},
   "outputs": [],
   "source": [
    "IMPOSSIBLE = \"\"\"\n",
    "# Impossible trident pikchr script\n",
    "# https://en.wikipedia.org/wiki/Impossible_trident\n",
    "# pikchr script by Kees Nuyt, license Creative Commons BY-NC-SA \n",
    "# https://creativecommons.org/licenses/by-nc-sa/4.0/\n",
    "\n",
    "scale = 1.0\n",
    "eh = 0.5cm\n",
    "ew = 0.2cm\n",
    "ed = 2 * eh\n",
    "er = 0.4cm\n",
    "lws = 4.0cm\n",
    "lwm = lws + er\n",
    "lwl = lwm + er\n",
    "\n",
    "ellipse height eh width ew\n",
    "L1: line width lwl from last ellipse.n\n",
    "line width lwm from last ellipse.s\n",
    "LV: line height eh down\n",
    "\n",
    "move right er down ed from last ellipse.n\n",
    "ellipse height eh width ew\n",
    "L3: line width lws right from last ellipse.n to LV.end then down eh right ew\n",
    "line width lwm right from last ellipse.s then to LV.start\n",
    "\n",
    "move right er down ed from last ellipse.n\n",
    "ellipse height eh width ew\n",
    "line width lwl right from last ellipse.n then to L1.end\n",
    "line width lwl right from last ellipse.s then up eh\n",
    "\"\"\""
   ]
  },
  {
   "cell_type": "markdown",
   "id": "98ca3224-025c-42d8-a9ae-6e97d84c98fd",
   "metadata": {},
   "source": [
    "You can display them directly, and even get selectable text, etc. with the `svg` tag."
   ]
  },
  {
   "cell_type": "code",
   "execution_count": null,
   "id": "55a4ec10-7d7d-4fdd-887c-09cd230eac99",
   "metadata": {},
   "outputs": [],
   "source": [
    "from IPython.display import display\n",
    "display({MIME_TYPE: IMPOSSIBLE}, metadata={MIME_TYPE: {\"tag\": \"svg\"}}, raw=True)"
   ]
  },
  {
   "cell_type": "markdown",
   "id": "3d10c8d8-5207-467c-87b1-32f3dc5b2a83",
   "metadata": {},
   "source": [
    "# Jupyter Widget\n",
    "\n",
    "The _Jupyter Widget_ doesn't do so much, as there isn't a lot of metadata (e.g. for clicking, selecting) in the final SVG."
   ]
  },
  {
   "cell_type": "code",
   "execution_count": null,
   "id": "092cb967-693e-4410-ae5e-32d5647d1973",
   "metadata": {},
   "outputs": [],
   "source": [
    "%pip install -q ipywidgets\n",
    "%pip install -q --no-deps jupikchr"
   ]
  },
  {
   "cell_type": "code",
   "execution_count": null,
   "id": "c279e9f1-b406-429c-b5f9-e23ba38394ab",
   "metadata": {},
   "outputs": [],
   "source": [
    "import ipywidgets as W, traitlets as T\n",
    "from jupikchr.widget import Pikchr"
   ]
  },
  {
   "cell_type": "code",
   "execution_count": null,
   "id": "334df142-288d-421c-bdc5-57e3b81c1975",
   "metadata": {},
   "outputs": [],
   "source": [
    "p = Pikchr(source=\"\"\"\n",
    "        filewid *= 1.2\n",
    "Src:      file \"pikchr.y\"; move\n",
    "LemonSrc: file \"lemon.c\"; move\n",
    "Lempar:   file \"lempar.c\"; move\n",
    "        arrow down from LemonSrc.s\n",
    "CC1:      oval \"C-Compiler\" ht 50%\n",
    "        arrow \" generates\" ljust above\n",
    "Lemon:    oval \"lemon\" ht 50%\n",
    "        arrow from Src chop down until even with CC1 \\\n",
    "          then to Lemon.nw rad 20px\n",
    "        \"Pikchr source \" rjust \"code input \" rjust \\\n",
    "          at 2nd vertex of previous\n",
    "        arrow from Lempar chop down until even with CC1 \\\n",
    "          then to Lemon.ne rad 20px\n",
    "        \" parser template\" ljust \" resource file\" ljust \\\n",
    "          at 2nd vertex of previous\n",
    "PikSrc:   file \"pikchr.c\" with .n at lineht below Lemon.s\n",
    "        arrow from Lemon to PikSrc chop\n",
    "        arrow down from PikSrc.s\n",
    "CC2:      oval \"C-Compiler\" ht 50%\n",
    "        arrow\n",
    "Out:      file \"pikchr.o\" \"or\" \"pikchr.exe\" wid 110%\n",
    "\"\"\")\n",
    "dark = W.SelectionSlider(options=[None, True, False], description=\"dark\")\n",
    "tag = W.SelectionSlider(options=[\"img\", \"svg\"], description=\"tag\")\n",
    "T.dlink((dark, \"value\"), (p, \"dark\"))\n",
    "T.dlink((tag, \"value\"), (p, \"tag\"))\n",
    "W.HBox([W.VBox([dark, tag]), p], layout=dict(height=\"60vh\"))"
   ]
  }
 ],
 "metadata": {
  "kernelspec": {
   "display_name": "Python 3 (ipykernel)",
   "language": "python",
   "name": "python3"
  },
  "language_info": {
   "codemirror_mode": {
    "name": "ipython",
    "version": 3
   },
   "file_extension": ".py",
   "mimetype": "text/x-python",
   "name": "python",
   "nbconvert_exporter": "python",
   "pygments_lexer": "ipython3",
   "version": "3.11.0"
  }
 },
 "nbformat": 4,
 "nbformat_minor": 5
}
