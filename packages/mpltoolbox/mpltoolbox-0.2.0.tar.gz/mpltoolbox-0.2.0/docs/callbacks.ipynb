{
 "cells": [
  {
   "cell_type": "markdown",
   "id": "99eccf27-aff0-4ce3-a21d-2c5b6593bc54",
   "metadata": {},
   "source": [
    "# Callbacks\n",
    "\n",
    "Every tool in the `mpltoolbox` comes with entry points for adding callbacks to different events.\n",
    "The different events are:\n",
    "\n",
    "- `on_create`: called when drawing the shape (rectangle, line or polygon) is complete\n",
    "- `on_remove`: called when the shape is deleted (middle click)\n",
    "- `on_vertex_press`: called when a vertex is clicked (left click)\n",
    "- `on_vertex_move`: called when a vertex is moved\n",
    "- `on_vertex_release`: called when the mouse button is released after clicking a vertex\n",
    "- `on_drag_press`: called when the entire shape (rectangle, line, etc..) is right clicked to initiate drag\n",
    "- `on_drag_move`: called for every movement during shape drag (right click and hold)\n",
    "- `on_drag_release`: called when the shape is released after drag\n",
    "\n",
    "Below is a couple of examples on how these callbacks are used."
   ]
  },
  {
   "cell_type": "code",
   "execution_count": null,
   "id": "83db812a-0d64-442c-b1bc-b222aa30292a",
   "metadata": {},
   "outputs": [],
   "source": [
    "%matplotlib widget\n",
    "import numpy as np\n",
    "import matplotlib.pyplot as plt\n",
    "plt.ioff()\n",
    "import mpltoolbox as tbx"
   ]
  },
  {
   "cell_type": "markdown",
   "id": "c8045a0a-1922-4686-9c75-1e1439c408a7",
   "metadata": {},
   "source": [
    "## Example 1: Add markers to slice 3d cube\n",
    "\n",
    "We first make some three-dimensional data:"
   ]
  },
  {
   "cell_type": "code",
   "execution_count": null,
   "id": "e4788fa0-f364-4529-a86b-23ac9b57f98c",
   "metadata": {},
   "outputs": [],
   "source": [
    "N = 200\n",
    "M = 300\n",
    "L = 100\n",
    "xx = np.arange(N, dtype=np.float64)\n",
    "yy = np.arange(M, dtype=np.float64)\n",
    "zz = np.arange(L, dtype=np.float64)\n",
    "x, y, z = np.meshgrid(xx, yy, zz, indexing='ij')\n",
    "b = N/20.0\n",
    "c = M/2.0\n",
    "d = L/2.0\n",
    "r = np.sqrt(((x-c)/b)**2 + ((y-c)/b)**2 + ((z-d)/b)**2)\n",
    "a = 10.0 * np.sin(r) + np.random.random([N, M, L])"
   ]
  },
  {
   "cell_type": "markdown",
   "id": "610fd362-36bc-4922-8629-2e7978f37aa4",
   "metadata": {},
   "source": [
    "Create a figure to display the first `z` slice of the data as a two-dimensional image,\n",
    "as well as an empty subplot below:"
   ]
  },
  {
   "cell_type": "code",
   "execution_count": null,
   "id": "83d494dc-edf4-4f65-901b-40eeaa0ac0dd",
   "metadata": {},
   "outputs": [],
   "source": [
    "fig, ax = plt.subplots(2, 1, figsize=(7, 7))\n",
    "fig.canvas.header_visible = False\n",
    "fig.tight_layout()\n",
    "ax[0].imshow(a[..., 0], interpolation='none', origin='lower')"
   ]
  },
  {
   "cell_type": "markdown",
   "id": "56f8e75a-1bb5-464b-be67-0aa9df616556",
   "metadata": {},
   "source": [
    "Then we add a `Points` tool where:\n",
    "\n",
    "- When a dot is added on the image, a line is created in the lower panel, showing a one-dimensional `z` slice at the location of the marker\n",
    "- When a dot is moved, the `z` line is updated accordingly"
   ]
  },
  {
   "cell_type": "code",
   "execution_count": null,
   "id": "6071cdd9-2b7c-4e1e-8532-50bcd962a850",
   "metadata": {},
   "outputs": [],
   "source": [
    "points = tbx.Points(ax=ax[0], mec='white')\n",
    "\n",
    "def make_line(change):\n",
    "    event = change['event']\n",
    "    ix = int(event.xdata)\n",
    "    iy = int(event.ydata)\n",
    "    l, = ax[1].plot(a[iy, ix, :])\n",
    "    change['artist'].associated = l\n",
    "\n",
    "def update_line(change):\n",
    "    event = change['event']\n",
    "    ix = int(event.xdata)\n",
    "    iy = int(event.ydata)\n",
    "    change['artist'].associated.set_ydata(a[iy, ix, :])\n",
    "\n",
    "points.on_create = make_line\n",
    "points.on_vertex_move = update_line"
   ]
  },
  {
   "cell_type": "code",
   "execution_count": null,
   "id": "919d3cdb-56aa-40b9-8c8a-faae2a6b0472",
   "metadata": {
    "nbsphinx": "hidden"
   },
   "outputs": [],
   "source": [
    "from dataclasses import dataclass\n",
    "@dataclass\n",
    "class Event:\n",
    "    button = 1\n",
    "    inaxes = ax[0]\n",
    "    xdata: float\n",
    "    ydata: float\n",
    "\n",
    "points._on_button_press(Event(xdata=101, ydata=67))\n",
    "points._on_button_press(Event(xdata=116, ydata=96))\n",
    "points._on_button_press(Event(xdata=271, ydata=155))"
   ]
  },
  {
   "cell_type": "code",
   "execution_count": null,
   "id": "7adb0d4a-84c1-463d-ad87-2188e4bedf1c",
   "metadata": {},
   "outputs": [],
   "source": [
    "fig"
   ]
  },
  {
   "cell_type": "markdown",
   "id": "9bcc5b12-ca85-4aeb-a3fb-81191b3caeae",
   "metadata": {},
   "source": [
    "## Example 2: Histogram inside a rectangular region\n",
    "\n",
    "In the second example, we use the `Ractangles` tool to draw rectangles on the same 2d image.\n",
    "This defines a region of interest, inside which the data will be histogrammed and displayed on the lower panel. "
   ]
  },
  {
   "cell_type": "code",
   "execution_count": null,
   "id": "458d0a84-52a8-4fa2-8dd4-980f7a78f341",
   "metadata": {},
   "outputs": [],
   "source": [
    "fig2, ax2 = plt.subplots(2, 1, figsize=(7, 7))\n",
    "fig2.canvas.header_visible = False\n",
    "fig2.tight_layout()\n",
    "ax2[0].imshow(a[..., 0], interpolation='none', origin='lower')"
   ]
  },
  {
   "cell_type": "code",
   "execution_count": null,
   "id": "595ca40f-530a-4955-a858-187086015bc6",
   "metadata": {},
   "outputs": [],
   "source": [
    "rects = tbx.Rectangles(ax=ax2[0], facecolor=(0, 0, 0, 0.3))\n",
    "\n",
    "def make_hist(change):\n",
    "    r = change['artist']\n",
    "    xy = r.get_xy()\n",
    "    ix0 = int(xy[0])\n",
    "    iy0 = int(xy[1])\n",
    "    ix1 = int(xy[0] + r.get_width())\n",
    "    iy1 = int(xy[1] + r.get_height())\n",
    "    n, bins, patches = ax2[1].hist(\n",
    "        a[min(iy0, iy1):max(iy0, iy1), min(ix0, ix1):max(ix0, ix1), :].ravel(),\n",
    "        edgecolor=r.get_edgecolor(), facecolor='None')\n",
    "    r.associated = patches\n",
    "\n",
    "def update_hist(change):\n",
    "    change['artist'].associated.remove()\n",
    "    make_hist(change=change)\n",
    "\n",
    "def update_vertices(change):\n",
    "    change['artist'] = change['artist']._patch\n",
    "    update_hist(change)\n",
    "\n",
    "rects.on_create = make_hist\n",
    "rects.on_drag_move = update_hist\n",
    "rects.on_vertex_move = update_vertices"
   ]
  },
  {
   "cell_type": "code",
   "execution_count": null,
   "id": "9b906bbd-4f24-4df0-a72a-0af7ffd4609d",
   "metadata": {
    "nbsphinx": "hidden"
   },
   "outputs": [],
   "source": [
    "from dataclasses import dataclass\n",
    "@dataclass\n",
    "class Event:\n",
    "    button = 1\n",
    "    inaxes = ax2[0]\n",
    "    xdata: float\n",
    "    ydata: float\n",
    "\n",
    "rects._on_button_press(Event(xdata=51, ydata=67))\n",
    "ev = Event(xdata=159, ydata=125)\n",
    "rects._resize_patch(ev)\n",
    "rects._persist_patch(ev)\n",
    "\n",
    "rects._on_button_press(Event(xdata=200, ydata=130))\n",
    "ev = Event(xdata=260, ydata=175)\n",
    "rects._resize_patch(ev)\n",
    "rects._persist_patch(ev)"
   ]
  },
  {
   "cell_type": "code",
   "execution_count": null,
   "id": "0b4b39a5-6967-4490-ad66-0b2cda41a259",
   "metadata": {},
   "outputs": [],
   "source": [
    "fig2"
   ]
  }
 ],
 "metadata": {
  "kernelspec": {
   "display_name": "Python 3 (ipykernel)",
   "language": "python",
   "name": "python3"
  },
  "language_info": {
   "codemirror_mode": {
    "name": "ipython",
    "version": 3
   },
   "file_extension": ".py",
   "mimetype": "text/x-python",
   "name": "python",
   "nbconvert_exporter": "python",
   "pygments_lexer": "ipython3",
   "version": "3.9.13"
  }
 },
 "nbformat": 4,
 "nbformat_minor": 5
}
