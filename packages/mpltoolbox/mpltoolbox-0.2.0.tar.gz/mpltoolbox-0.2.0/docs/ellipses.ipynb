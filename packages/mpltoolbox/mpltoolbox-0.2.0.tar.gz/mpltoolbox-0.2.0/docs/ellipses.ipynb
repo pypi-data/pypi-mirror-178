{
 "cells": [
  {
   "cell_type": "markdown",
   "id": "1615b0d8-83f8-46f9-9b9d-888acbb36f60",
   "metadata": {},
   "source": [
    "# Ellipses\n",
    "\n",
    "Use the `Ellipses` tool to add ellipses to a plot."
   ]
  },
  {
   "cell_type": "code",
   "execution_count": null,
   "id": "ddff48f4-b5f9-4ec6-bbb7-212e9574404d",
   "metadata": {},
   "outputs": [],
   "source": [
    "%matplotlib widget\n",
    "import matplotlib.pyplot as plt\n",
    "plt.ioff()\n",
    "import mpltoolbox as tbx"
   ]
  },
  {
   "cell_type": "code",
   "execution_count": null,
   "id": "facfeb74-9092-4cbf-a795-5d3ca6f2ebff",
   "metadata": {},
   "outputs": [],
   "source": [
    "fig, ax = plt.subplots(dpi=96)\n",
    "\n",
    "ax.set_xlim(0, 100)\n",
    "ax.set_ylim(0, 100)\n",
    "\n",
    "ellipses = tbx.Ellipses(ax=ax)"
   ]
  },
  {
   "cell_type": "code",
   "execution_count": null,
   "id": "e530ef80-be62-4dbc-b539-718ab0f4354c",
   "metadata": {
    "nbsphinx": "hidden"
   },
   "outputs": [],
   "source": [
    "import numpy as np\n",
    "from event import Event\n",
    "np.random.seed(20) # Fixed for reproducibility\n",
    "N = 3\n",
    "for i in range(N):\n",
    "    ellipses._make_new_patch(100.*np.random.random(), 100.*np.random.random())\n",
    "    ellipses._resize_patch(event=Event(inaxes=ax, xdata=100.*np.random.random(), ydata=100.*np.random.random()))\n",
    "    ellipses._add_vertices()\n",
    "fig.canvas.draw_idle()"
   ]
  },
  {
   "cell_type": "code",
   "execution_count": null,
   "id": "fce3b6a6-9ea7-45ca-96b6-b4b1deda945e",
   "metadata": {},
   "outputs": [],
   "source": [
    "fig"
   ]
  },
  {
   "cell_type": "markdown",
   "id": "f0a4d457-5a9d-412c-8d1e-50984cb460cb",
   "metadata": {},
   "source": [
    "**Controls**\n",
    "\n",
    "- Left-click and hold to make new ellipse\n",
    "- Right-click and hold to drag/move ellipse\n",
    "- Middle-click to delete ellipse"
   ]
  }
 ],
 "metadata": {
  "kernelspec": {
   "display_name": "Python 3 (ipykernel)",
   "language": "python",
   "name": "python3"
  },
  "language_info": {
   "codemirror_mode": {
    "name": "ipython",
    "version": 3
   },
   "file_extension": ".py",
   "mimetype": "text/x-python",
   "name": "python",
   "nbconvert_exporter": "python",
   "pygments_lexer": "ipython3",
   "version": "3.9.5"
  }
 },
 "nbformat": 4,
 "nbformat_minor": 5
}
