{
 "cells": [
  {
   "cell_type": "markdown",
   "metadata": {},
   "source": []
  },
  {
   "cell_type": "code",
   "execution_count": null,
   "metadata": {},
   "outputs": [],
   "source": [
    "import numpy as np\n",
    "from numba import njit\n",
    "import numba as nb"
   ]
  },
  {
   "cell_type": "code",
   "execution_count": null,
   "metadata": {},
   "outputs": [],
   "source": [
    "@njit\n",
    "def internal_mean(arr):\n",
    "    '''\n",
    "    same as np.mean(arr, axis=1), but jitted\n",
    "    since numba does not support kwargs in np.mean\n",
    "    '''\n",
    "    assert len(arr.shape) == 3\n",
    "    assert arr.shape[1] == 2\n",
    "\n",
    "    out = np.zeros((arr.shape[0], arr.shape[2]), dtype=arr.dtype)\n",
    "    for i, (v1, v2) in enumerate(arr):\n",
    "        out[i] = (v1 + v2) / 2\n",
    "\n",
    "    return out\n"
   ]
  },
  {
   "cell_type": "code",
   "execution_count": null,
   "metadata": {},
   "outputs": [],
   "source": [
    "from rmsd import kabsch_rotate\n",
    "from python_functions import rmsd_and_max\n",
    "from algebra import internal_mean, vec_mean\n",
    "\n",
    "@njit\n",
    "def rmsd_and_max_jit(P, Q):\n",
    "    '''\n",
    "    ** ADAPTED FROM THE PYTHON RMSD LIBRARY **\n",
    "\n",
    "    Rotate matrix P unto Q using Kabsch algorithm and calculate the RMSD.\n",
    "    Returns RMSD and max deviation.\n",
    "\n",
    "    Parameters\n",
    "    ----------\n",
    "    P : array\n",
    "        (N,D) matrix, where N is points and D is dimension.\n",
    "    Q : array\n",
    "        (N,D) matrix, where N is points and D is dimension.\n",
    "\n",
    "    Returns\n",
    "    -------\n",
    "    rmsd : float\n",
    "        root-mean squared deviation\n",
    "    max_delta : float\n",
    "        maximum deviation value\n",
    "    '''\n",
    "\n",
    "    Q -= vec_mean(Q)\n",
    "    P -= vec_mean(P)\n",
    "    P = kabsch_rotate_jit(P, Q)\n",
    "\n",
    "    diff = Q - P\n",
    "    rmsd = np.sqrt((diff * diff).sum() / len(diff))\n",
    "    max_delta = np.max(internal_mean(diff))\n",
    "\n",
    "    return rmsd, max_delta\n",
    "\n",
    "@njit\n",
    "def kabsch_rotate_jit(P, Q):\n",
    "    # Computation of the covariance matrix\n",
    "    C = np.dot(np.transpose(P), Q)\n",
    "\n",
    "    V, S, W = np.linalg.svd(C)\n",
    "    d = (np.linalg.det(V) * np.linalg.det(W)) < 0.0\n",
    "\n",
    "    if d:\n",
    "        S[-1] = -S[-1]\n",
    "        V[:, -1] = -V[:, -1]\n",
    "\n",
    "    # Create Rotation matrix U\n",
    "    U = np.dot(V, W)\n",
    "\n",
    "    return np.dot(P, U)\n"
   ]
  },
  {
   "cell_type": "code",
   "execution_count": null,
   "metadata": {},
   "outputs": [],
   "source": [
    "from algebra import internal_mean\n",
    "\n",
    "x = np.random.rand(10, 100, 3)\n",
    "a = np.mean(x, axis=1)\n",
    "b = internal_mean(x)\n",
    "np.allclose(a,b)"
   ]
  },
  {
   "cell_type": "code",
   "execution_count": null,
   "metadata": {},
   "outputs": [],
   "source": [
    "from cclib.io import ccread\n",
    "data = ccread(r'C:\\Users\\ehrma\\Desktop\\cool_structs\\Ph2PAla\\Ph2PAla_confs_opt.xyz')\n",
    "data.atomcoords.shape"
   ]
  },
  {
   "cell_type": "code",
   "execution_count": null,
   "metadata": {},
   "outputs": [],
   "source": [
    "r = [(i,rmsd_and_max(data.atomcoords[0], data.atomcoords[i])) for i in range(len(data.atomcoords))]\n",
    "r"
   ]
  },
  {
   "cell_type": "code",
   "execution_count": null,
   "metadata": {},
   "outputs": [],
   "source": [
    "print(f'keep {len([i for i in r if i[1][0] < 2])}/{len(r)}')"
   ]
  },
  {
   "cell_type": "code",
   "execution_count": null,
   "metadata": {},
   "outputs": [],
   "source": [
    "from algebra import get_inertia_moments\n",
    "from pt import pt\n",
    "masses = np.array([pt[i].mass for i in data.atomnos])\n",
    "r = [(i,get_inertia_moments(data.atomcoords[i], masses)) for i in range(len(data.atomcoords))]\n",
    "r"
   ]
  },
  {
   "cell_type": "code",
   "execution_count": null,
   "metadata": {},
   "outputs": [],
   "source": [
    "[(i,np.max(np.abs(a[1]-r[0][1]))) for i,a in enumerate(r)]"
   ]
  },
  {
   "cell_type": "code",
   "execution_count": null,
   "metadata": {},
   "outputs": [],
   "source": [
    "from algebra import center_of_mass\n",
    "def MOI(coords, masses):\n",
    "    coords -= center_of_mass(coords, masses)\n",
    "    return np.sum([masses[i]*np.linalg.norm(coords[i])**2 for i in range(len(coords))])\n",
    "\n",
    "MOI(data.atomcoords[0], masses)"
   ]
  },
  {
   "cell_type": "code",
   "execution_count": null,
   "metadata": {},
   "outputs": [],
   "source": [
    "r = [(i,MOI(data.atomcoords[i], masses)) for i in range(len(data.atomcoords))]\n",
    "[(i,np.max(np.abs(a[1]-r[0][1]))) for i,a in enumerate(r)]"
   ]
  },
  {
   "cell_type": "code",
   "execution_count": null,
   "metadata": {},
   "outputs": [],
   "source": [
    "import networkx as nx\n",
    "edges = [(7, 7), (7, 9), (7, 13), (7, 6), (9, 9), (9, 10), (9, 31), (10, 10), (10, 11), (10, 32), (11, 11), (11, 12), (11, 33), (12, 12), (12, 13), (12, 34), (13, 13), (13, 35), (31, 31), (32, 32), (33, 33), (34, 34), (35, 35)]\n",
    "G = nx.Graph(edges)\n",
    "nx.draw(G, with_labels=True)"
   ]
  },
  {
   "cell_type": "code",
   "execution_count": null,
   "metadata": {},
   "outputs": [],
   "source": [
    "d = {}\n",
    "for i in (31,32,33,34,35):\n",
    "    d[i] = 1\n",
    "for i in (7,9,10,11,12,13):\n",
    "    d[i] = 6\n",
    "d[6] = 15\n",
    "d[345] = 45\n",
    "nx.set_node_attributes(G, d, 'atomnos')\n",
    "# G.nodes[6]['atomnos']\n",
    "nx.get_node_attributes(G, 'atomnos')"
   ]
  },
  {
   "cell_type": "code",
   "execution_count": null,
   "metadata": {},
   "outputs": [],
   "source": [
    "import os\n",
    "os.chdir(r'C:\\Users\\ehrma\\Desktop\\Coding\\TSCoDe')\n",
    "from graph_manipulations import get_sp_n\n",
    "for node in G.nodes:\n",
    "    print(f'{node}: sp{get_sp_n(node, G)}')"
   ]
  },
  {
   "cell_type": "code",
   "execution_count": null,
   "metadata": {},
   "outputs": [],
   "source": [
    "from tscode.python_functions import prune_conformers, fast_score, rmsd_and_max\n",
    "from tscode.optimization_methods import prune_enantiomers\n",
    "from tscode.algebra import get_inertia_moments\n",
    "from tscode.pt import pt\n",
    "from cclib.io import ccread\n",
    "import numpy as np\n",
    "import networkx as nx\n",
    "import numba as nb\n",
    "\n",
    "def old(structures, atomnos):\n",
    "    for k in (5000, 2000, 1000, 500, 200, 100, 50, 20, 10, 5, 2, 1):\n",
    "        if k == 1 or 5*k < len(structures):\n",
    "            structures, mask = prune_conformers(structures, atomnos, max_rmsd=2, max_delta=2, k=k)\n",
    "    return structures, mask\n",
    "\n",
    "def new(structures, atomnos):\n",
    "    return new_prune_conformers(structures, atomnos, max_rmsd=2, max_delta=2)\n",
    "\n",
    "def new_prune_conformers(structures, atomnos, max_rmsd=0.5, max_delta=None):\n",
    "    '''\n",
    "    Group structures into k subgroups and remove the similar ones.\n",
    "    Similarity occurs for structures with both RMSD < max_rmsd and\n",
    "    maximum deviation < max_delta.\n",
    "    '''\n",
    "    # xxx=0\n",
    "    max_delta = max_rmsd * 2 if max_delta is None else max_delta\n",
    "\n",
    "    heavy_atoms = (atomnos != 1)\n",
    "    heavy_structures = np.array([structure[heavy_atoms] for structure in structures])\n",
    "\n",
    "    cache_set = set()\n",
    "    final_mask = np.ones(structures.shape[0], dtype=bool)\n",
    "    \n",
    "    for k in (5000, 2000, 1000, 500, 200, 100, 50, 20, 10, 5, 2, 1):\n",
    "        num_active_str = np.count_nonzero(final_mask)\n",
    "        \n",
    "        if k == 1 or 5*k < num_active_str:\n",
    "        # proceed only of there are at least five structures per group\n",
    "\n",
    "            d = len(structures) // k\n",
    "\n",
    "            for step in range(k):\n",
    "            # operating on each of the k subdivisions of the array\n",
    "                if step == k-1:\n",
    "                    l = len(range(d*step, num_active_str))\n",
    "                else:\n",
    "                    l = len(range(d*step, d*(step+1)))\n",
    "\n",
    "                similarity_mat = np.zeros((l, l))\n",
    "\n",
    "                for i_rel in range(l):\n",
    "                    for j_rel in range(i_rel+1,l):\n",
    "\n",
    "                        i_abs = i_rel+(d*step)\n",
    "                        j_abs = j_rel+(d*step)\n",
    "\n",
    "                        if (i_abs, j_abs) not in cache_set:\n",
    "                        # if we have already performed the comparison,\n",
    "                        # structures were not similar and we can skip them\n",
    "\n",
    "                            rmsd, max_dev = rmsd_and_max(heavy_structures[i_abs],\n",
    "                                                         heavy_structures[j_abs])\n",
    "\n",
    "                            if rmsd < max_rmsd and max_dev < max_delta:\n",
    "                                similarity_mat[i_rel,j_rel] = 1\n",
    "                                break\n",
    "                        # else:\n",
    "                        #     xxx+=1\n",
    "\n",
    "                for i_rel, j_rel in zip(*np.where(similarity_mat == False)):\n",
    "                    i_abs = i_rel+(d*step)\n",
    "                    j_abs = j_rel+(d*step)\n",
    "                    cache_set.add((i_abs, j_abs))\n",
    "                    # adding indexes of structures that are considered equal,\n",
    "                    # so as not to repeat computing their RMSD\n",
    "                    # Their index accounts for their position in the initial\n",
    "                    # array (absolute index)\n",
    "\n",
    "                matches = [(i,j) for i,j in zip(*np.where(similarity_mat))]\n",
    "                g = nx.Graph(matches)\n",
    "\n",
    "                subgraphs = [g.subgraph(c) for c in nx.connected_components(g)]\n",
    "                groups = [tuple(graph.nodes) for graph in subgraphs]\n",
    "\n",
    "                best_of_cluster = [sorted(group, key=lambda i: fast_score(structures[i]))[0] for group in groups]\n",
    "                # of each cluster, keep the structure that looks the best\n",
    "\n",
    "                rejects_sets = [set(a) - {b} for a, b in zip(groups, best_of_cluster)]\n",
    "                rejects = []\n",
    "                for s in rejects_sets:\n",
    "                    for i in s:\n",
    "                        rejects.append(i)\n",
    "\n",
    "                for i in rejects:\n",
    "                    abs_index = i + d*step\n",
    "                    final_mask[abs_index] = 0\n",
    "    # return xxx\n",
    "    return structures[final_mask], final_mask\n",
    "\n",
    "def new_prune_enantiomers(structures, atomnos, max_delta=10):\n",
    "    '''\n",
    "    Remove duplicate (enantiomeric) structures based on the\n",
    "    moments of inertia on principal axes. If all three MOI\n",
    "    are within max_delta from another structure, they are\n",
    "    classified as enantiomers and therefore only one of them\n",
    "    is kept.\n",
    "    '''\n",
    "\n",
    "    final_mask = np.ones(structures.shape[0], dtype=bool)\n",
    "    heavy_structures = np.array([structure[atomnos != 1] for structure in structures])\n",
    "    heavy_masses = np.array([pt[a].mass for a in atomnos if a != 1])\n",
    "           \n",
    "    for k in (5000, 2000, 1000, 500, 200, 100, 50, 20, 10, 5, 2, 1):\n",
    "        num_active_str = np.count_nonzero(final_mask)\n",
    "        \n",
    "        if k == 1 or 5*k < num_active_str:\n",
    "        # proceed only of there are at least five structures per group\n",
    "\n",
    "            d = len(structures) // k\n",
    "\n",
    "            for step in range(k):\n",
    "            # operating on each of the k subdivisions of the array\n",
    "                if step == k-1:\n",
    "                    structures_subset = heavy_structures[d*step:]\n",
    "                else:\n",
    "                    structures_subset = heavy_structures[d*step:d*(step+1)]\n",
    "\n",
    "                similarity_mat = get_moi_similarity_matrix_new(structures_subset, heavy_masses, max_delta=max_delta)\n",
    "\n",
    "                matches = [(i,j) for i,j in zip(*np.where(similarity_mat))]\n",
    "                g = nx.Graph(matches)\n",
    "\n",
    "                subgraphs = [g.subgraph(c) for c in nx.connected_components(g)]\n",
    "                groups = [tuple(graph.nodes) for graph in subgraphs]\n",
    "\n",
    "                best_of_cluster = [sorted(group, key=lambda i: fast_score(structures[i]))[0] for group in groups]\n",
    "                # of each cluster, keep the structure that looks the best\n",
    "\n",
    "                rejects_sets = [set(a) - {b} for a, b in zip(groups, best_of_cluster)]\n",
    "                rejects = []\n",
    "                for s in rejects_sets:\n",
    "                    for i in s:\n",
    "                        rejects.append(i)\n",
    "\n",
    "                for i in rejects:\n",
    "                    abs_index = i + d*step\n",
    "                    final_mask[abs_index] = 0\n",
    "                    \n",
    "    return structures[final_mask], final_mask\n",
    "\n",
    "@nb.njit\n",
    "def get_moi_similarity_matrix_new(structures, masses, max_delta=10):\n",
    "    ''''''\n",
    "    l = len(structures)\n",
    "    mat = np.zeros((l,l), dtype=nb.boolean)\n",
    "    for i in range(l):\n",
    "        im_i = get_inertia_moments(structures[i], masses)\n",
    "        for j in range(i+1,l):\n",
    "            im_j = get_inertia_moments(structures[j], masses)\n",
    "            delta = np.abs(im_i - im_j)\n",
    "            if np.all(delta < max_delta):\n",
    "                mat[i,j] = 1\n",
    "                break\n",
    "    return mat"
   ]
  },
  {
   "cell_type": "code",
   "execution_count": null,
   "metadata": {},
   "outputs": [],
   "source": [
    "data = ccread(r'C:\\Users\\ehrma\\Desktop\\TMGA_peptides\\P1_confs.xyz')\n",
    "data.atomcoords.shape"
   ]
  },
  {
   "cell_type": "code",
   "execution_count": null,
   "metadata": {},
   "outputs": [],
   "source": [
    "n = 300"
   ]
  },
  {
   "cell_type": "code",
   "execution_count": null,
   "metadata": {},
   "outputs": [],
   "source": [
    "_, a = old(data.atomcoords[0:n], data.atomnos)\n",
    "a.shape"
   ]
  },
  {
   "cell_type": "code",
   "execution_count": null,
   "metadata": {},
   "outputs": [],
   "source": [
    "_, b = new(data.atomcoords[0:n], data.atomnos)\n",
    "b.shape"
   ]
  },
  {
   "cell_type": "code",
   "execution_count": null,
   "metadata": {},
   "outputs": [],
   "source": [
    "_, a = old(data.atomcoords[0:n], data.atomnos)\n",
    "_, b = new(data.atomcoords[0:n], data.atomnos)\n",
    "np.alltrue(a == b)"
   ]
  },
  {
   "cell_type": "code",
   "execution_count": null,
   "metadata": {},
   "outputs": [],
   "source": [
    "print(f'Kept {np.count_nonzero(b)}/{b.shape[0]}')"
   ]
  },
  {
   "cell_type": "code",
   "execution_count": null,
   "metadata": {},
   "outputs": [],
   "source": [
    "cached = new(data.atomcoords[0:n], data.atomnos)\n",
    "print(f'Cached {cached}/{n*n}')"
   ]
  },
  {
   "cell_type": "code",
   "execution_count": null,
   "metadata": {},
   "outputs": [],
   "source": [
    "from tscode.algebra import get_moi_similarity_matrix\n",
    "def prune_enantiomers_light(structures, atomnos, max_delta=10):\n",
    "    '''\n",
    "    Remove duplicate (enantiomeric) structures based on the\n",
    "    moments of inertia on principal axes. If all three MOI\n",
    "    are within max_delta from another structure, they are\n",
    "    classified as enantiomers and therefore only one of them\n",
    "    is kept.\n",
    "    '''\n",
    "    heavy_structures = np.array([structure[atomnos != 1] for structure in structures])\n",
    "    heavy_masses = np.array([pt[a].mass for a in atomnos if a != 1])\n",
    "\n",
    "    matches = get_moi_similarity_matrix(heavy_structures, heavy_masses, max_delta=max_delta)\n",
    "\n",
    "    g = nx.Graph(matches)\n",
    "\n",
    "    subgraphs = [g.subgraph(c) for c in nx.connected_components(g)]\n",
    "    groups = [tuple(graph.nodes) for graph in subgraphs]\n",
    "\n",
    "    best_of_cluster = [group[0] for group in groups]\n",
    "\n",
    "    rejects_sets = [set(a) - {b} for a, b in zip(groups, best_of_cluster)]\n",
    "    rejects = []\n",
    "    for s in rejects_sets:\n",
    "        for i in s:\n",
    "            rejects.append(i)\n",
    "\n",
    "    mask = np.ones(structures.shape[0], dtype=bool)\n",
    "    for i in rejects:\n",
    "        mask[i] = False\n",
    "\n",
    "    return structures[mask], mask\n"
   ]
  },
  {
   "cell_type": "code",
   "execution_count": null,
   "metadata": {},
   "outputs": [],
   "source": [
    "n = 2500"
   ]
  },
  {
   "cell_type": "code",
   "execution_count": null,
   "metadata": {},
   "outputs": [],
   "source": [
    "%timeit prune_enantiomers(data.atomcoords[0:n], data.atomnos)"
   ]
  },
  {
   "cell_type": "code",
   "execution_count": null,
   "metadata": {},
   "outputs": [],
   "source": [
    "%timeit new_prune_enantiomers(data.atomcoords[0:n], data.atomnos)"
   ]
  },
  {
   "cell_type": "code",
   "execution_count": null,
   "metadata": {},
   "outputs": [],
   "source": [
    "%timeit prune_enantiomers_light(data.atomcoords[0:n], data.atomnos)"
   ]
  },
  {
   "cell_type": "code",
   "execution_count": null,
   "metadata": {},
   "outputs": [],
   "source": [
    "_ = prune_enantiomers(data.atomcoords[0:n], data.atomnos)"
   ]
  },
  {
   "cell_type": "code",
   "execution_count": null,
   "metadata": {},
   "outputs": [],
   "source": [
    "_ = prune_enantiomers_light(data.atomcoords[0:n], data.atomnos)"
   ]
  },
  {
   "cell_type": "markdown",
   "metadata": {},
   "source": [
    "## Testing parallel augmentation/embedding"
   ]
  },
  {
   "cell_type": "code",
   "execution_count": null,
   "metadata": {},
   "outputs": [],
   "source": [
    "from tscode.embedder import Embedder\n",
    "\n",
    "embedder = Embedder(r'C:\\Users\\Nik\\Desktop\\nt383\\P1\\debug\\debug.txt')"
   ]
  },
  {
   "cell_type": "code",
   "execution_count": null,
   "metadata": {},
   "outputs": [],
   "source": [
    "embedder.objects[0].atomcoords.shape"
   ]
  },
  {
   "cell_type": "code",
   "execution_count": null,
   "metadata": {},
   "outputs": [],
   "source": [
    "from tscode.run import RunEmbedding\n",
    "import numpy as np\n",
    "embedder.structures = embedder.objects[0].atomcoords\n",
    "embedder.atomnos = embedder.objects[0].atomnos\n",
    "embedder.constrained_indexes = np.array([[] for _ in embedder.structures])\n",
    "\n",
    "RE = RunEmbedding(embedder)\n",
    "RE.options.rmsd = 0.5\n",
    "RE.options\n",
    "RE.ids"
   ]
  },
  {
   "cell_type": "code",
   "execution_count": null,
   "metadata": {},
   "outputs": [],
   "source": [
    "from tscode.clustered_csearch import csearch\n",
    "RE.structures = csearch(RE.structures[0], RE.atomnos, mode=2)\n",
    "RE.constrained_indexes = np.array([RE.constrained_indexes[0] for _ in RE.structures])"
   ]
  },
  {
   "cell_type": "code",
   "execution_count": null,
   "metadata": {},
   "outputs": [],
   "source": [
    "RE.compenetration_refining()\n",
    "RE.force_field_refining()"
   ]
  },
  {
   "cell_type": "code",
   "execution_count": null,
   "metadata": {},
   "outputs": [],
   "source": [
    "checkpoint = RE.structures, RE.energies, RE.constrained_indexes"
   ]
  },
  {
   "cell_type": "code",
   "execution_count": null,
   "metadata": {},
   "outputs": [],
   "source": [
    " \n",
    "RE.csearch_augmentation()"
   ]
  },
  {
   "cell_type": "code",
   "execution_count": null,
   "metadata": {},
   "outputs": [],
   "source": [
    "for cores in (1, 2, 4 ,8):\n",
    "    RE.structures, RE.energies, RE.constrained_indexes = checkpoint\n",
    "    RE.csearch_augmentation_parallel(max_ncores=cores)"
   ]
  },
  {
   "cell_type": "code",
   "execution_count": null,
   "metadata": {},
   "outputs": [],
   "source": [
    "# Simple R_hemiacetals\n",
    "#  1 core = 12 s\n",
    "#  2 core = 11 s\n",
    "#  4 core = 14 s\n",
    "#  8 core = 21 s\n",
    "\n",
    "# P1 confs (100 confs)\n",
    "#  1 core = 120 s\n",
    "#  2 core = 68 s\n",
    "#  4 core = 47 s\n",
    "#  8 core = 46 s\n",
    "\n",
    "# 4 - the physical cores - seems to be best"
   ]
  },
  {
   "cell_type": "code",
   "execution_count": null,
   "metadata": {},
   "outputs": [],
   "source": [
    "from tscode.embeds import string_embed, string_embed_parallel\n",
    "from tscode.embedder import Embedder\n",
    "embedder = Embedder(r'C:\\Users\\Nik\\Desktop\\nt383\\P1\\debug\\fakeembed.txt')"
   ]
  },
  {
   "cell_type": "code",
   "execution_count": null,
   "metadata": {},
   "outputs": [],
   "source": [
    "coords = embedder.objects[0].atomcoords[0:50]\n",
    "embedder.objects[0].atomcoords = coords\n",
    "embedder.objects[1].atomcoords = coords"
   ]
  },
  {
   "cell_type": "code",
   "execution_count": null,
   "metadata": {},
   "outputs": [],
   "source": [
    "poses = string_embed(embedder)"
   ]
  },
  {
   "cell_type": "code",
   "execution_count": null,
   "metadata": {},
   "outputs": [],
   "source": [
    "embedder.options.procs = 4\n",
    "poses = string_embed_parallel(embedder)"
   ]
  },
  {
   "cell_type": "code",
   "execution_count": null,
   "metadata": {},
   "outputs": [],
   "source": [
    "# P1 confs embed (50 confs)\n",
    "#  1 core = 28 s\n",
    "#  2 core =  s\n",
    "#  4 core =  s\n",
    "#  8 core =  s"
   ]
  },
  {
   "cell_type": "markdown",
   "metadata": {},
   "source": [
    "### Why do all force field opt with gfn scramble?"
   ]
  },
  {
   "cell_type": "code",
   "execution_count": null,
   "metadata": {},
   "outputs": [],
   "source": [
    "from tscode.utils import read_xyz, scramble_check, graphize\n",
    "import numpy as np\n",
    "\n",
    "data = read_xyz(r'C:\\Users\\Nik\\Desktop\\nt383\\P1\\debug\\TSCoDe_embedded_P1_lead.xyz')\n",
    "data.atomcoords.shape"
   ]
  },
  {
   "cell_type": "code",
   "execution_count": null,
   "metadata": {},
   "outputs": [],
   "source": [
    "m1 = read_xyz(r'C:\\Users\\Nik\\Desktop\\nt383\\P1\\debug\\P1.xyz')\n",
    "m2 = read_xyz(r'C:\\Users\\Nik\\Desktop\\nt383\\P1\\debug\\Hemiacetals_Ph.xyz')\n",
    "print(m1.atomcoords.shape)\n",
    "m2.atomcoords.shape"
   ]
  },
  {
   "cell_type": "code",
   "execution_count": null,
   "metadata": {},
   "outputs": [],
   "source": [
    "\n",
    "ci = np.array([[39, 135]])\n",
    "mg = [graphize(m1.atomcoords[0], m1.atomnos), graphize(m2.atomcoords[0], m2.atomnos)]\n",
    "\n",
    "scramble_results = [scramble_check(s, data.atomnos, constrained_indexes=ci, mols_graphs=mg) for s in data.atomcoords]"
   ]
  },
  {
   "cell_type": "code",
   "execution_count": null,
   "metadata": {},
   "outputs": [],
   "source": [
    "np.count_nonzero(scramble_results)"
   ]
  },
  {
   "cell_type": "code",
   "execution_count": null,
   "metadata": {},
   "outputs": [],
   "source": [
    "scramble_results[0:10]"
   ]
  },
  {
   "cell_type": "markdown",
   "metadata": {},
   "source": [
    "## Looking through results"
   ]
  },
  {
   "cell_type": "markdown",
   "metadata": {},
   "source": []
  },
  {
   "cell_type": "code",
   "execution_count": null,
   "metadata": {},
   "outputs": [],
   "source": [
    "from tscode.utils import read_xyz\n",
    "import numpy as np\n",
    "from tscode.algebra import norm_of\n",
    "\n",
    "data = read_xyz(r'C:\\Users\\Nik\\Desktop\\nt383\\P1\\TSCoDe_checkpoint_P1_lead.xyz')\n",
    "data.atomcoords.shape"
   ]
  },
  {
   "cell_type": "code",
   "execution_count": null,
   "metadata": {},
   "outputs": [],
   "source": [
    "from tscode.clustered_csearch import _get_hydrogen_bonds\n",
    "from tscode.utils import graphize\n",
    "\n",
    "ids = [i for i, c in enumerate(data.atomcoords) if 121 in _get_hydrogen_bonds(c, data.atomnos, graphize(c, data.atomnos))]\n",
    "len(ids)"
   ]
  },
  {
   "cell_type": "code",
   "execution_count": null,
   "metadata": {},
   "outputs": [],
   "source": [
    "from tscode.utils import write_xyz\n",
    "\n",
    "with open('recognized')"
   ]
  },
  {
   "cell_type": "markdown",
   "metadata": {},
   "source": [
    "## New similarity criteria: torsion fingerprints"
   ]
  },
  {
   "cell_type": "code",
   "execution_count": null,
   "metadata": {},
   "outputs": [],
   "source": [
    "from tscode.utils import read_xyz, graphize\n",
    "from tscode.graph_manipulations import findPaths\n",
    "from tscode.algebra import dihedral\n",
    "from numba import njit\n",
    "import numpy as np\n",
    "import numba as nb\n",
    "\n",
    "data = read_xyz(r'C:\\Users\\Nik\\Desktop\\nt383\\P1\\P1_confs.xyz')\n",
    "graph = graphize(data.atomcoords[0], data.atomnos)\n",
    "\n",
    "\n",
    "def _get_quadruplets(graph):\n",
    "\n",
    "    allpaths = []\n",
    "    for node in graph:\n",
    "        allpaths.extend(findPaths(graph, node, 3))\n",
    "    # get all possible continuous indexes quadruplets\n",
    "\n",
    "    quadruplets, q_ids = [], []\n",
    "    for path in allpaths:\n",
    "        _, i2, i3, _ = path\n",
    "        q_id = tuple(sorted((i2, i3)))\n",
    "\n",
    "        if (q_id not in q_ids):\n",
    "\n",
    "            quadruplets.append(path)\n",
    "            q_ids.append(q_id)\n",
    "\n",
    "    # Yields non-redundant quadruplets\n",
    "    # Rejects (4,3,2,1) if (1,2,3,4) is present\n",
    "\n",
    "    return np.array(quadruplets)\n",
    "\n",
    "\n",
    "qp = _get_quadruplets(graph)"
   ]
  },
  {
   "cell_type": "code",
   "execution_count": null,
   "metadata": {},
   "outputs": [],
   "source": [
    "\n",
    "# @njit\n",
    "def get_torsion_fingerprint(coords, quadruplets):\n",
    "    out = np.zeros(quadruplets.shape[0])\n",
    "    for i, q in enumerate(quadruplets):\n",
    "        i1, i2, i3, i4 = q\n",
    "        out[i] = dihedral([coords[i1],\n",
    "                           coords[i2],\n",
    "                           coords[i3],\n",
    "                           coords[i4]])\n",
    "    return out\n",
    "qp = np.array(qp)\n",
    "get_torsion_fingerprint(data.atomcoords[0], qp)"
   ]
  },
  {
   "cell_type": "code",
   "execution_count": null,
   "metadata": {},
   "outputs": [],
   "source": [
    "# @njit\n",
    "def tfd_similarity(coords1, coords2, quadruplets, thresh=0):\n",
    "    '''\n",
    "    Return True if the two structure are similar under the torsion fingeprint criteria.\n",
    "    '''\n",
    "\n",
    "    # Get torsion fingerprints for structures\n",
    "    tfd1 = get_torsion_fingerprint(coords1, quadruplets)\n",
    "    tfd2 = get_torsion_fingerprint(coords2, quadruplets)\n",
    "\n",
    "    # Compute their absolute difference\n",
    "    deltas = np.abs(tfd1 - tfd2)\n",
    "\n",
    "    # Correct for rotations over 180 deg\n",
    "    deltas = np.abs(deltas - (deltas > 180) * 360)\n",
    "\n",
    "    if np.sum(deltas) > thresh:\n",
    "        return False\n",
    "        # return np.sum(deltas)\n",
    "\n",
    "    return True\n"
   ]
  },
  {
   "cell_type": "code",
   "execution_count": null,
   "metadata": {},
   "outputs": [],
   "source": [
    "from tscode.clustered_csearch import _get_torsions\n",
    "\n",
    "db = np.array([39, 40])\n",
    "hb = np.array([6, 78])\n",
    "graph_hb = graph.copy()\n",
    "graph_hb.add_edge(*hb)\n",
    "\n",
    "torsions = np.array([t.torsion for t in _get_torsions(graph_hb, db, hb)])\n",
    "print(torsions)\n",
    "\n",
    "res = [(i, tfd_similarity(data.atomcoords[0], c2, torsions)) for i, c2 in enumerate(data.atomcoords)]\n",
    "\n",
    "res = sorted(res, key=lambda x: x[1])\n",
    "res"
   ]
  },
  {
   "cell_type": "code",
   "execution_count": null,
   "metadata": {},
   "outputs": [],
   "source": [
    "res[-2:]"
   ]
  },
  {
   "cell_type": "code",
   "execution_count": null,
   "metadata": {},
   "outputs": [],
   "source": [
    "\n",
    "embed_data = read_xyz(r'C:\\Users\\Nik\\Desktop\\nt383\\P1\\TSCoDe_embedded_P1_lead.xyz')\n",
    "\n",
    "ts_hb = np.array([[6, 78], [39, 135]])\n",
    "graph_ts = graphize(embed_data.atomcoords[0], embed_data.atomnos)\n",
    "graph_ts.add_edge(*hb)\n",
    "\n",
    "ts_torsions = np.array([t.torsion for t in _get_torsions(graph_ts, db, ts_hb)])\n",
    "print(ts_torsions)\n",
    "\n",
    "res = [(i, tfd_similarity(embed_data.atomcoords[0], c2, ts_torsions)) for i, c2 in enumerate(embed_data.atomcoords)]\n",
    "\n",
    "res = sorted(res, key=lambda x: x[1])\n",
    "res\n",
    "\n"
   ]
  },
  {
   "cell_type": "code",
   "execution_count": null,
   "metadata": {},
   "outputs": [],
   "source": [
    "from tscode.python_functions import prune_conformers_tfd\n",
    "import matplotlib.pyplot as plt\n",
    "\n",
    "retained = [1000]\n",
    "threshs = [0, 1, 2, 5, 10]\n",
    "for thresh in threshs[1:]:\n",
    "    pruned, mask = prune_conformers_tfd(embed_data.atomcoords, ts_torsions, thresh=thresh, verbose=True)\n",
    "    retained.append(len(pruned))\n"
   ]
  },
  {
   "cell_type": "code",
   "execution_count": null,
   "metadata": {},
   "outputs": [],
   "source": [
    "plt.plot(threshs[1:], retained[1:])"
   ]
  },
  {
   "cell_type": "code",
   "execution_count": null,
   "metadata": {},
   "outputs": [],
   "source": [
    "from tscode.utils import write_xyz\n",
    "\n",
    "with open('diverse.xyz', 'w') as f:\n",
    "    for s in pruned:\n",
    "        write_xyz(s, embed_data.atomnos, f)"
   ]
  },
  {
   "cell_type": "code",
   "execution_count": null,
   "metadata": {},
   "outputs": [],
   "source": [
    "from tscode.utils import graphize, read_xyz\n",
    "from tscode.graph_manipulations import get_sum_graph\n",
    "\n",
    "m1 = read_xyz(r'C:\\Users\\Nik\\Desktop\\nt383\\P1\\P1.xyz')\n",
    "m2 = read_xyz(r'C:\\Users\\Nik\\Desktop\\nt383\\P1\\hemiacetals_Ph.xyz')\n",
    "\n",
    "m1.graph = graphize(m1.atomcoords[0], m1.atomnos)\n",
    "m2.graph = graphize(m2.atomcoords[0], m2.atomnos)\n"
   ]
  },
  {
   "cell_type": "code",
   "execution_count": null,
   "metadata": {},
   "outputs": [],
   "source": [
    "import networkx as nx\n",
    "import matplotlib.pyplot as plt\n",
    "plt.figure(figsize=(8,8))\n",
    "nx.draw(m1.graph, with_labels=True)"
   ]
  },
  {
   "cell_type": "code",
   "execution_count": null,
   "metadata": {},
   "outputs": [],
   "source": [
    "plt.figure(figsize=(8,8))\n",
    "nx.draw(m2.graph, with_labels=True)"
   ]
  },
  {
   "cell_type": "code",
   "execution_count": null,
   "metadata": {},
   "outputs": [],
   "source": [
    "g = get_sum_graph((m1.graph, m2.graph), [[39, 135]])\n",
    "plt.figure(figsize=(8,8))\n",
    "nx.draw(g, with_labels=True)"
   ]
  },
  {
   "cell_type": "code",
   "execution_count": null,
   "metadata": {},
   "outputs": [],
   "source": [
    "%timeit get_torsion_fingerprint(data.atomcoords[0], torsions)"
   ]
  },
  {
   "cell_type": "code",
   "execution_count": null,
   "metadata": {},
   "outputs": [],
   "source": [
    "get_torsion_fingerprint_jit = njit()(get_torsion_fingerprint)"
   ]
  },
  {
   "cell_type": "code",
   "execution_count": null,
   "metadata": {},
   "outputs": [],
   "source": [
    "%timeit get_torsion_fingerprint_jit(data.atomcoords[0], torsions)"
   ]
  },
  {
   "cell_type": "code",
   "execution_count": null,
   "metadata": {},
   "outputs": [],
   "source": [
    "@njit\n",
    "def get_torsion_fingerprint_2(coords, quadruplets):\n",
    "    return np.array([dihedral(coords[ids]) for ids in quadruplets])"
   ]
  },
  {
   "cell_type": "code",
   "execution_count": null,
   "metadata": {},
   "outputs": [],
   "source": [
    "%timeit get_torsion_fingerprint_2(data.atomcoords[0], torsions)"
   ]
  },
  {
   "cell_type": "code",
   "execution_count": 32,
   "metadata": {},
   "outputs": [
    {
     "data": {
      "text/plain": [
       "(10000, 102, 3)"
      ]
     },
     "execution_count": 32,
     "metadata": {},
     "output_type": "execute_result"
    }
   ],
   "source": [
    "from tscode.utils import read_xyz, graphize\n",
    "from tscode.graph_manipulations import findPaths\n",
    "from tscode.algebra import dihedral\n",
    "from tscode.clustered_csearch import _get_quadruplets\n",
    "from tscode.python_functions import _get_tf_mat\n",
    "from numba import njit\n",
    "import numpy as np\n",
    "import numba as nb\n",
    "\n",
    "data = read_xyz(r'C:\\Users\\Nik\\Desktop\\nt383\\P1\\P1_confs.xyz')\n",
    "graph = graphize(data.atomcoords[0], data.atomnos)\n",
    "q = _get_quadruplets(graph)\n",
    "data.atomcoords = np.concatenate([data.atomcoords for _ in range(10)])\n",
    "data.atomcoords.shape"
   ]
  },
  {
   "cell_type": "code",
   "execution_count": 33,
   "metadata": {},
   "outputs": [
    {
     "name": "stdout",
     "output_type": "stream",
     "text": [
      "755 ms ± 12.6 ms per loop (mean ± std. dev. of 7 runs, 1 loop each)\n"
     ]
    }
   ],
   "source": [
    "%timeit _get_tf_mat(data.atomcoords, q)"
   ]
  },
  {
   "cell_type": "code",
   "execution_count": 34,
   "metadata": {},
   "outputs": [],
   "source": [
    "from tscode.python_functions import get_torsion_fingerprint\n",
    "\n",
    "@njit\n",
    "def _get_tf_mat_njit(structures, quadruplets):\n",
    "    '''\n",
    "    '''\n",
    "    tf_mat = np.empty(shape=(len(structures), len(quadruplets)), dtype=nb.float32)\n",
    "\n",
    "    for i in range(len(structures)):\n",
    "        tf_mat[i] = get_torsion_fingerprint(structures[i], quadruplets)\n",
    "\n",
    "    return tf_mat\n",
    "\n",
    "@njit(parallel=True)\n",
    "def _get_tf_mat_par(structures, quadruplets):\n",
    "    '''\n",
    "    '''\n",
    "    tf_mat = np.empty(shape=(len(structures), len(quadruplets)), dtype=nb.float32)\n",
    "\n",
    "    for i in nb.prange(len(structures)):\n",
    "        tf_mat[i] = get_torsion_fingerprint(structures[i], quadruplets)\n",
    "\n",
    "    return tf_mat\n",
    "\n",
    "@njit(fastmath=True, parallel=True)\n",
    "def _get_tf_mat_fast(structures, quadruplets):\n",
    "    '''\n",
    "    '''\n",
    "    tf_mat = np.empty(shape=(len(structures), len(quadruplets)), dtype=nb.float32)\n",
    "\n",
    "    for i in nb.prange(len(structures)):\n",
    "        tf_mat[i] = get_torsion_fingerprint(structures[i], quadruplets)\n",
    "\n",
    "    return tf_mat"
   ]
  },
  {
   "cell_type": "code",
   "execution_count": 35,
   "metadata": {},
   "outputs": [
    {
     "name": "stdout",
     "output_type": "stream",
     "text": [
      "709 ms ± 16.6 ms per loop (mean ± std. dev. of 7 runs, 1 loop each)\n"
     ]
    }
   ],
   "source": [
    "%timeit _get_tf_mat_njit(data.atomcoords, q)"
   ]
  },
  {
   "cell_type": "code",
   "execution_count": 36,
   "metadata": {},
   "outputs": [
    {
     "name": "stdout",
     "output_type": "stream",
     "text": [
      "475 ms ± 3.93 ms per loop (mean ± std. dev. of 7 runs, 1 loop each)\n"
     ]
    }
   ],
   "source": [
    "%timeit _get_tf_mat_par(data.atomcoords, q)"
   ]
  },
  {
   "cell_type": "code",
   "execution_count": 37,
   "metadata": {},
   "outputs": [
    {
     "name": "stdout",
     "output_type": "stream",
     "text": [
      "475 ms ± 10.7 ms per loop (mean ± std. dev. of 7 runs, 1 loop each)\n"
     ]
    }
   ],
   "source": [
    "%timeit _get_tf_mat_fast(data.atomcoords, q)"
   ]
  },
  {
   "cell_type": "markdown",
   "metadata": {},
   "source": [
    "# Let's see if similar structures are embedded close to one another"
   ]
  },
  {
   "cell_type": "code",
   "execution_count": 40,
   "metadata": {},
   "outputs": [
    {
     "data": {
      "text/plain": [
       "(1000, 151, 3)"
      ]
     },
     "execution_count": 40,
     "metadata": {},
     "output_type": "execute_result"
    }
   ],
   "source": [
    "from tscode.utils import read_xyz, graphize\n",
    "from tscode.clustered_csearch import _get_quadruplets\n",
    "\n",
    "data = read_xyz(r'C:\\Users\\Nik\\Desktop\\nt383\\P1\\TSCoDe_embedded_P1_lead.xyz')\n",
    "data.atomcoords.shape"
   ]
  },
  {
   "cell_type": "code",
   "execution_count": 41,
   "metadata": {},
   "outputs": [],
   "source": [
    "quadruplets = _get_quadruplets(graphize(data.atomcoords[0], data.atomnos))"
   ]
  },
  {
   "cell_type": "code",
   "execution_count": 61,
   "metadata": {},
   "outputs": [
    {
     "name": "stdout",
     "output_type": "stream",
     "text": [
      "Working on subgroups with k=1 (324 candidates left)              \r"
     ]
    }
   ],
   "source": [
    "from tscode.python_functions import tfd_similarity, fast_score\n",
    "import networkx as nx\n",
    "\n",
    "def prune_conformers_tfd_probe(structures, quadruplets, thresh=10, verbose=False):\n",
    "    '''\n",
    "    Removes similar structures by repeatedly grouping them into k\n",
    "    subgroups and removing similar ones. A cache is present to avoid\n",
    "    repeating TFD computations.\n",
    "    \n",
    "    Similarity occurs for structures with a total angle difference\n",
    "    greater than thresh degrees\n",
    "    '''\n",
    "\n",
    "    # Get torsion fingerprints for structures\n",
    "    tf_mat = _get_tf_mat(structures, quadruplets)\n",
    "\n",
    "    cache_set, cache_set_sim = set(), set()\n",
    "    final_mask = np.ones(structures.shape[0], dtype=bool)\n",
    "    \n",
    "    for k in (5e5,  2e5,  1e5,  5e4, 2e4, 1e4,\n",
    "              5000, 2000, 1000, 500, 200, 100,\n",
    "              50,   20,   10,   5,   2,   1):\n",
    "\n",
    "        num_active_str = np.count_nonzero(final_mask)\n",
    "        \n",
    "        if k == 1 or 5*k < num_active_str:\n",
    "        # proceed only of there are at least five structures per group\n",
    "\n",
    "            if verbose:      \n",
    "                print(f'Working on subgroups with k={k} ({num_active_str} candidates left) {\" \"*10}', end='\\r')\n",
    "\n",
    "            d = int(len(structures) // k)\n",
    "\n",
    "            for step in range(int(k)):\n",
    "            # operating on each of the k subdivisions of the array\n",
    "                if step == k-1:\n",
    "                    l = len(range(d*step, num_active_str))\n",
    "                else:\n",
    "                    l = len(range(d*step, int(d*(step+1))))\n",
    "\n",
    "                similarity_mat = np.zeros((l, l))\n",
    "\n",
    "                for i_rel in range(l):\n",
    "                    for j_rel in range(i_rel+1,l):\n",
    "\n",
    "                        i_abs = i_rel+(d*step)\n",
    "                        j_abs = j_rel+(d*step)\n",
    "\n",
    "                        if (i_abs, j_abs) not in cache_set:\n",
    "                        # if we have already performed the comparison,\n",
    "                        # structures were not similar and we can skip them\n",
    "\n",
    "                            if tfd_similarity(tf_mat[i_abs],\n",
    "                                              tf_mat[j_abs],\n",
    "                                              quadruplets=quadruplets,\n",
    "                                              thresh=thresh):\n",
    "\n",
    "                                similarity_mat[i_rel,j_rel] = 1\n",
    "                                break\n",
    "\n",
    "                for i_rel, j_rel in zip(*np.where(similarity_mat == False)):\n",
    "                    i_abs = i_rel+(d*step)\n",
    "                    j_abs = j_rel+(d*step)\n",
    "                    cache_set.add((i_abs, j_abs))\n",
    "                    # adding indexes of structures that are considered equal,\n",
    "                    # so as not to repeat computing their TFD\n",
    "                    # Their index accounts for their position in the initial\n",
    "                    # array (absolute index)\n",
    "\n",
    "                for i_rel, j_rel in zip(*np.where(similarity_mat == True)):\n",
    "                    i_abs = i_rel+(d*step)\n",
    "                    j_abs = j_rel+(d*step)\n",
    "                    cache_set_sim.add((i_abs, j_abs))\n",
    "\n",
    "                matches = [(i,j) for i,j in zip(*np.where(similarity_mat))]\n",
    "                g = nx.Graph(matches)\n",
    "\n",
    "                subgraphs = [g.subgraph(c) for c in nx.connected_components(g)]\n",
    "                groups = [tuple(graph.nodes) for graph in subgraphs]\n",
    "\n",
    "                best_of_cluster = [sorted(group, key=lambda i: fast_score(structures[i]))[0] for group in groups]\n",
    "                # of each cluster, keep the structure that looks the best\n",
    "\n",
    "                rejects_sets = [set(a) - {b} for a, b in zip(groups, best_of_cluster)]\n",
    "                rejects = []\n",
    "                for s in rejects_sets:\n",
    "                    for i in s:\n",
    "                        rejects.append(i)\n",
    "\n",
    "                for i in rejects:\n",
    "                    abs_index = i + d*step\n",
    "                    final_mask[abs_index] = 0\n",
    "\n",
    "    return structures[final_mask], final_mask, cache_set_sim\n",
    "\n",
    "_, _, cache = prune_conformers_tfd_probe(data.atomcoords, quadruplets, verbose=True)"
   ]
  },
  {
   "cell_type": "code",
   "execution_count": 65,
   "metadata": {},
   "outputs": [
    {
     "data": {
      "text/plain": [
       "{(0, 1),\n",
       " (2, 3),\n",
       " (4, 5),\n",
       " (7, 8),\n",
       " (9, 10),\n",
       " (12, 13),\n",
       " (15, 16),\n",
       " (17, 18),\n",
       " (19, 20),\n",
       " (22, 23),\n",
       " (24, 25),\n",
       " (27, 28),\n",
       " (30, 31),\n",
       " (31, 60),\n",
       " (32, 33),\n",
       " (33, 62),\n",
       " (34, 35),\n",
       " (35, 64),\n",
       " (36, 66),\n",
       " (37, 38),\n",
       " (38, 67),\n",
       " (39, 40),\n",
       " (40, 69),\n",
       " (41, 71),\n",
       " (42, 43),\n",
       " (43, 72),\n",
       " (44, 74),\n",
       " (45, 46),\n",
       " (46, 75),\n",
       " (47, 48),\n",
       " (48, 77),\n",
       " (49, 50),\n",
       " (50, 79),\n",
       " (51, 81),\n",
       " (52, 53),\n",
       " (53, 82),\n",
       " (54, 55),\n",
       " (55, 84),\n",
       " (56, 86),\n",
       " (57, 58),\n",
       " (58, 87),\n",
       " (59, 89),\n",
       " (60, 61),\n",
       " (62, 63),\n",
       " (64, 65),\n",
       " (67, 68),\n",
       " (69, 70),\n",
       " (72, 73),\n",
       " (75, 76),\n",
       " (77, 78),\n",
       " (79, 80),\n",
       " (82, 83),\n",
       " (84, 85),\n",
       " (87, 88),\n",
       " (90, 91),\n",
       " (92, 93),\n",
       " (94, 95),\n",
       " (97, 98),\n",
       " (99, 100),\n",
       " (102, 103),\n",
       " (105, 106),\n",
       " (108, 109),\n",
       " (110, 111),\n",
       " (112, 113),\n",
       " (115, 116),\n",
       " (117, 118),\n",
       " (120, 121),\n",
       " (123, 124),\n",
       " (128, 129),\n",
       " (131, 132),\n",
       " (133, 134),\n",
       " (134, 135),\n",
       " (135, 136),\n",
       " (137, 138),\n",
       " (139, 140),\n",
       " (141, 142),\n",
       " (143, 144),\n",
       " (145, 146),\n",
       " (148, 149),\n",
       " (152, 153),\n",
       " (153, 154),\n",
       " (154, 155),\n",
       " (158, 159),\n",
       " (161, 162),\n",
       " (163, 164),\n",
       " (164, 165),\n",
       " (165, 166),\n",
       " (167, 168),\n",
       " (169, 170),\n",
       " (171, 172),\n",
       " (173, 174),\n",
       " (175, 176),\n",
       " (178, 179),\n",
       " (182, 183),\n",
       " (183, 184),\n",
       " (184, 185),\n",
       " (190, 191),\n",
       " (198, 199),\n",
       " (202, 203),\n",
       " (206, 207),\n",
       " (207, 208),\n",
       " (210, 211),\n",
       " (211, 212),\n",
       " (213, 214),\n",
       " (214, 215),\n",
       " (215, 216),\n",
       " (216, 217),\n",
       " (217, 218),\n",
       " (219, 220),\n",
       " (220, 221),\n",
       " (222, 223),\n",
       " (223, 224),\n",
       " (225, 226),\n",
       " (226, 227),\n",
       " (228, 229),\n",
       " (229, 230),\n",
       " (231, 232),\n",
       " (232, 233),\n",
       " (234, 235),\n",
       " (236, 237),\n",
       " (237, 238),\n",
       " (238, 239),\n",
       " (240, 241),\n",
       " (242, 243),\n",
       " (244, 245),\n",
       " (245, 246),\n",
       " (246, 247),\n",
       " (247, 248),\n",
       " (248, 249),\n",
       " (252, 253),\n",
       " (253, 254),\n",
       " (256, 257),\n",
       " (257, 258),\n",
       " (259, 260),\n",
       " (260, 261),\n",
       " (261, 262),\n",
       " (262, 263),\n",
       " (263, 264),\n",
       " (265, 266),\n",
       " (266, 267),\n",
       " (268, 269),\n",
       " (269, 270),\n",
       " (271, 272),\n",
       " (272, 273),\n",
       " (274, 275),\n",
       " (275, 276),\n",
       " (277, 278),\n",
       " (278, 279),\n",
       " (280, 281),\n",
       " (282, 283),\n",
       " (283, 284),\n",
       " (284, 285),\n",
       " (286, 287),\n",
       " (288, 289),\n",
       " (290, 291),\n",
       " (291, 292),\n",
       " (292, 293),\n",
       " (293, 294),\n",
       " (294, 295),\n",
       " (300, 301),\n",
       " (308, 309),\n",
       " (312, 313),\n",
       " (314, 315),\n",
       " (316, 317),\n",
       " (317, 318),\n",
       " (318, 319),\n",
       " (324, 325),\n",
       " (326, 327),\n",
       " (330, 331),\n",
       " (333, 334),\n",
       " (342, 343),\n",
       " (344, 345),\n",
       " (345, 346),\n",
       " (346, 347),\n",
       " (352, 353),\n",
       " (354, 355),\n",
       " (358, 359),\n",
       " (361, 362),\n",
       " (370, 371),\n",
       " (372, 373),\n",
       " (373, 374),\n",
       " (374, 375),\n",
       " (378, 379),\n",
       " (385, 386),\n",
       " (386, 387),\n",
       " (387, 388),\n",
       " (389, 390),\n",
       " (390, 391),\n",
       " (391, 392),\n",
       " (392, 393),\n",
       " (393, 394),\n",
       " (394, 395),\n",
       " (395, 396),\n",
       " (401, 402),\n",
       " (403, 404),\n",
       " (407, 408),\n",
       " (410, 411),\n",
       " (421, 422),\n",
       " (428, 429),\n",
       " (429, 430),\n",
       " (430, 431),\n",
       " (432, 433),\n",
       " (433, 434),\n",
       " (434, 435),\n",
       " (435, 436),\n",
       " (436, 437),\n",
       " (437, 438),\n",
       " (438, 439),\n",
       " (444, 445),\n",
       " (446, 447),\n",
       " (450, 451),\n",
       " (453, 454),\n",
       " (462, 463),\n",
       " (464, 465),\n",
       " (465, 466),\n",
       " (466, 467),\n",
       " (468, 498),\n",
       " (469, 499),\n",
       " (470, 471),\n",
       " (471, 500),\n",
       " (472, 502),\n",
       " (473, 474),\n",
       " (474, 503),\n",
       " (475, 476),\n",
       " (476, 477),\n",
       " (477, 478),\n",
       " (478, 505),\n",
       " (479, 480),\n",
       " (480, 509),\n",
       " (481, 482),\n",
       " (482, 511),\n",
       " (483, 484),\n",
       " (484, 513),\n",
       " (485, 486),\n",
       " (486, 515),\n",
       " (487, 488),\n",
       " (488, 517),\n",
       " (489, 519),\n",
       " (490, 491),\n",
       " (491, 520),\n",
       " (492, 522),\n",
       " (493, 523),\n",
       " (494, 495),\n",
       " (495, 496),\n",
       " (496, 497),\n",
       " (497, 524),\n",
       " (500, 501),\n",
       " (503, 504),\n",
       " (505, 506),\n",
       " (506, 507),\n",
       " (507, 508),\n",
       " (509, 510),\n",
       " (511, 512),\n",
       " (513, 514),\n",
       " (515, 516),\n",
       " (517, 518),\n",
       " (520, 521),\n",
       " (524, 525),\n",
       " (525, 526),\n",
       " (526, 527),\n",
       " (532, 533),\n",
       " (540, 541),\n",
       " (544, 545),\n",
       " (546, 592),\n",
       " (547, 593),\n",
       " (548, 549),\n",
       " (549, 550),\n",
       " (550, 594),\n",
       " (551, 597),\n",
       " (552, 553),\n",
       " (553, 554),\n",
       " (554, 598),\n",
       " (555, 556),\n",
       " (556, 557),\n",
       " (557, 558),\n",
       " (558, 559),\n",
       " (559, 560),\n",
       " (561, 562),\n",
       " (562, 563),\n",
       " (564, 565),\n",
       " (565, 566),\n",
       " (567, 568),\n",
       " (568, 569),\n",
       " (570, 571),\n",
       " (571, 572),\n",
       " (573, 574),\n",
       " (574, 575),\n",
       " (576, 577),\n",
       " (578, 579),\n",
       " (579, 580),\n",
       " (580, 581),\n",
       " (582, 583),\n",
       " (584, 585),\n",
       " (586, 587),\n",
       " (587, 588),\n",
       " (588, 589),\n",
       " (589, 590),\n",
       " (590, 591),\n",
       " (594, 595),\n",
       " (595, 596),\n",
       " (598, 599),\n",
       " (601, 602),\n",
       " (602, 603),\n",
       " (603, 604),\n",
       " (604, 605),\n",
       " (605, 606),\n",
       " (607, 608),\n",
       " (608, 609),\n",
       " (610, 611),\n",
       " (611, 612),\n",
       " (613, 614),\n",
       " (614, 615),\n",
       " (616, 617),\n",
       " (617, 618),\n",
       " (619, 620),\n",
       " (620, 621),\n",
       " (622, 623),\n",
       " (624, 625),\n",
       " (625, 626),\n",
       " (626, 627),\n",
       " (628, 629),\n",
       " (630, 631),\n",
       " (632, 633),\n",
       " (633, 634),\n",
       " (634, 635),\n",
       " (635, 636),\n",
       " (636, 637),\n",
       " (642, 643),\n",
       " (650, 651),\n",
       " (654, 655),\n",
       " (658, 659),\n",
       " (661, 662),\n",
       " (663, 664),\n",
       " (664, 665),\n",
       " (665, 666),\n",
       " (667, 668),\n",
       " (669, 670),\n",
       " (671, 672),\n",
       " (673, 674),\n",
       " (675, 676),\n",
       " (678, 679),\n",
       " (682, 683),\n",
       " (683, 684),\n",
       " (684, 685),\n",
       " (689, 690),\n",
       " (692, 693),\n",
       " (695, 696),\n",
       " (704, 705),\n",
       " (707, 708),\n",
       " (709, 710),\n",
       " (710, 711),\n",
       " (711, 712),\n",
       " (713, 714),\n",
       " (715, 716),\n",
       " (717, 718),\n",
       " (719, 720),\n",
       " (721, 722),\n",
       " (724, 725),\n",
       " (728, 729),\n",
       " (729, 730),\n",
       " (730, 731),\n",
       " (735, 736),\n",
       " (738, 739),\n",
       " (741, 742),\n",
       " (752, 753),\n",
       " (760, 761),\n",
       " (764, 765),\n",
       " (768, 769),\n",
       " (769, 770),\n",
       " (772, 773),\n",
       " (773, 774),\n",
       " (775, 776),\n",
       " (776, 777),\n",
       " (777, 778),\n",
       " (778, 779),\n",
       " (779, 780),\n",
       " (781, 782),\n",
       " (782, 783),\n",
       " (784, 785),\n",
       " (785, 786),\n",
       " (787, 788),\n",
       " (788, 789),\n",
       " (790, 791),\n",
       " (791, 792),\n",
       " (793, 794),\n",
       " (794, 795),\n",
       " (796, 797),\n",
       " (798, 799),\n",
       " (800, 801),\n",
       " (802, 803),\n",
       " (804, 805),\n",
       " (806, 807),\n",
       " (807, 808),\n",
       " (808, 809),\n",
       " (809, 810),\n",
       " (810, 811),\n",
       " (815, 816),\n",
       " (818, 819),\n",
       " (821, 822),\n",
       " (830, 831),\n",
       " (831, 832),\n",
       " (834, 835),\n",
       " (835, 836),\n",
       " (837, 838),\n",
       " (838, 839),\n",
       " (839, 840),\n",
       " (840, 841),\n",
       " (841, 842),\n",
       " (843, 844),\n",
       " (844, 845),\n",
       " (846, 847),\n",
       " (847, 848),\n",
       " (849, 850),\n",
       " (850, 851),\n",
       " (852, 853),\n",
       " (853, 854),\n",
       " (855, 856),\n",
       " (856, 857),\n",
       " (858, 859),\n",
       " (860, 861),\n",
       " (861, 862),\n",
       " (862, 863),\n",
       " (864, 865),\n",
       " (866, 867),\n",
       " (868, 869),\n",
       " (869, 870),\n",
       " (870, 871),\n",
       " (871, 872),\n",
       " (872, 873),\n",
       " (877, 878),\n",
       " (880, 881),\n",
       " (883, 884),\n",
       " (894, 895),\n",
       " (902, 903),\n",
       " (906, 907),\n",
       " (910, 911),\n",
       " (913, 914),\n",
       " (915, 916),\n",
       " (916, 917),\n",
       " (917, 918),\n",
       " (919, 920),\n",
       " (921, 922),\n",
       " (923, 924),\n",
       " (925, 926),\n",
       " (927, 928),\n",
       " (930, 931),\n",
       " (934, 935),\n",
       " (935, 936),\n",
       " (936, 937),\n",
       " (940, 941),\n",
       " (943, 944),\n",
       " (945, 946),\n",
       " (946, 947),\n",
       " (947, 948),\n",
       " (949, 950),\n",
       " (951, 952),\n",
       " (953, 954),\n",
       " (955, 956),\n",
       " (957, 958),\n",
       " (960, 961),\n",
       " (964, 965),\n",
       " (965, 966),\n",
       " (966, 967),\n",
       " (972, 973),\n",
       " (980, 981),\n",
       " (984, 985),\n",
       " (988, 989),\n",
       " (992, 993),\n",
       " (993, 994),\n",
       " (995, 996),\n",
       " (996, 997),\n",
       " (997, 998),\n",
       " (998, 999)}"
      ]
     },
     "execution_count": 65,
     "metadata": {},
     "output_type": "execute_result"
    }
   ],
   "source": [
    "cache"
   ]
  },
  {
   "cell_type": "code",
   "execution_count": 63,
   "metadata": {},
   "outputs": [
    {
     "data": {
      "image/png": "[encoded data removed]",
      "text/plain": [
       "<Figure size 432x288 with 1 Axes>"
      ]
     },
     "metadata": {
      "needs_background": "light"
     },
     "output_type": "display_data"
    }
   ],
   "source": [
    "import matplotlib.pyplot as plt\n",
    "plt.scatter(*zip(*cache))\n",
    "plt.show()"
   ]
  },
  {
   "cell_type": "code",
   "execution_count": 70,
   "metadata": {},
   "outputs": [
    {
     "data": {
      "text/plain": [
       "(array([434.,   0.,   0.,   0.,   0.,   0.,   0.,   0.,   0.,   0.,   0.,\n",
       "          0.,   0.,   0.,   0.,   0.,   0.,   0.,   0.,   0.,   0.,   0.,\n",
       "          0.,   0.,   0.,   0.,   0.,   0.,   0.,   0.,   0.,   0.,   0.,\n",
       "          0.,   0.,   0.,   0.,   0.,   0.,   0.,   0.,   0.,   0.,   0.,\n",
       "          0.,   0.,   0.,   0.,   0.,   0.,   0.,   0.,   0.,   0.,   0.,\n",
       "          0.,   0.,   2.,   0.,   0.,   0.,   0.,  20.,   0.,  12.,   0.,\n",
       "          0.,   0.,   0.,   0.,   0.,   0.,   0.,   0.,   0.,   0.,   0.,\n",
       "          0.,   0.,   0.,   0.,   0.,   0.,   0.,   0.,   0.,   0.,   0.,\n",
       "          0.,   0.,   0.,   0.,   0.,   0.,   0.,   2.,   0.,   0.,   0.,\n",
       "          3.]),\n",
       " array([ 1.  ,  1.45,  1.9 ,  2.35,  2.8 ,  3.25,  3.7 ,  4.15,  4.6 ,\n",
       "         5.05,  5.5 ,  5.95,  6.4 ,  6.85,  7.3 ,  7.75,  8.2 ,  8.65,\n",
       "         9.1 ,  9.55, 10.  , 10.45, 10.9 , 11.35, 11.8 , 12.25, 12.7 ,\n",
       "        13.15, 13.6 , 14.05, 14.5 , 14.95, 15.4 , 15.85, 16.3 , 16.75,\n",
       "        17.2 , 17.65, 18.1 , 18.55, 19.  , 19.45, 19.9 , 20.35, 20.8 ,\n",
       "        21.25, 21.7 , 22.15, 22.6 , 23.05, 23.5 , 23.95, 24.4 , 24.85,\n",
       "        25.3 , 25.75, 26.2 , 26.65, 27.1 , 27.55, 28.  , 28.45, 28.9 ,\n",
       "        29.35, 29.8 , 30.25, 30.7 , 31.15, 31.6 , 32.05, 32.5 , 32.95,\n",
       "        33.4 , 33.85, 34.3 , 34.75, 35.2 , 35.65, 36.1 , 36.55, 37.  ,\n",
       "        37.45, 37.9 , 38.35, 38.8 , 39.25, 39.7 , 40.15, 40.6 , 41.05,\n",
       "        41.5 , 41.95, 42.4 , 42.85, 43.3 , 43.75, 44.2 , 44.65, 45.1 ,\n",
       "        45.55, 46.  ]),\n",
       " <BarContainer object of 100 artists>)"
      ]
     },
     "execution_count": 70,
     "metadata": {},
     "output_type": "execute_result"
    },
    {
     "data": {
      "image/png": "[encoded data removed]",
      "text/plain": [
       "<Figure size 432x288 with 1 Axes>"
      ]
     },
     "metadata": {
      "needs_background": "light"
     },
     "output_type": "display_data"
    }
   ],
   "source": [
    "deltas = [abs(i1-i2) for i1, i2 in cache]\n",
    "plt.hist(deltas, bins=100)"
   ]
  },
  {
   "cell_type": "markdown",
   "metadata": {},
   "source": [
    "### Similar structures seem to be embedded next to each other in string embed. Let's try the new lru_cache algorithm"
   ]
  },
  {
   "cell_type": "code",
   "execution_count": 1,
   "metadata": {},
   "outputs": [
    {
     "name": "stdout",
     "output_type": "stream",
     "text": [
      "\n",
      "             ▁▁▁▁▁▁▁▁▁▁▁▁▁▁▁▁▁▁▁▁▁▁▁▁▁▁▁▁▁▁▁▁▁▁▁\n",
      "            ╱───────────────────────────────────╲\n",
      "           ╱▒░░░░░░░░░░░░░░░░░░░░░░░░░░░░░░░░░░░▒╲\n",
      "       ▒░░░░░░░░░░░░░░░░░░░░░░░░░░░░░░░░░░░░░░░░░░░░▒\n",
      "    ▒░░░░░░░░░░░░░░░░░░░░░░░░░░░░░░░░░░░░░░░░░░░░░░░░░░▒ \n",
      "   ▒░████████╗░██████╗░█████╗░░█████╗░██████╗░███████╗░░░▒\n",
      "   ▒░╚══██╔══╝██╔════╝██╔══██╗██╔══██╗██╔══██╗██╔════╝░░░▒ \n",
      "   ▒░░░░██║░░░╚█████╗░██║░░╚═╝██║░░██║██║░░██║█████╗░░░░░▒  \n",
      "   ▒░░░░██║░░░░╚═══██╗██║░░██╗██║░░██║██║░░██║██╔══╝░░░░░▒   \n",
      "    ▒░░░██║░░░██████╔╝╚█████╔╝╚█████╔╝██████╔╝███████╗░░░▒    \n",
      "   ╱ ▒░░╚═╝░░░╚═════╝░░╚════╝░░╚════╝░╚═════╝░╚══════╝░░▒ ╲\n",
      "  ╱   ▒░░░░░░░░░░░░░░░░░░░░░░░░░░░░░░░░░░░░░░░░░░░░░░░░▒   ╲\n",
      " ╱    ▒░░╔══════════════════════════════════════════╗░░▒    ╲\n",
      " ╲╲    ▒░║  Transition State Conformational Docker  ║░▒    ╱╱   \n",
      "  ╲╲   ▒░║        nicolo.tampellini@yale.edu        ║░▒   ╱╱    \n",
      "   ╲╲  ▒░║                                          ║░▒  ╱╱         \n",
      "    ╲╲ ▒░║     Version    >          0.2.0          ║░▒ ╱╱                                     \n",
      "     ╲╲▒░║      User      >           Nik           ║░▒╱╱                                       \n",
      "      ╲▒░║      Host      >       Nicolò-ASUS       ║░▒╱                                                     \n",
      "       ▒░║      Time      >    Tue Jul  5 22:52     ║░▒                 \n",
      "       ▒░╚══════════════════════════════════════════╝░▒                     \n",
      "        ▒░░░░░░░░░░░░░░░░░░░░░░░░░░░░░░░░░░░░░░░░░░░░▒                             \n",
      "          ╲╲ ▒░░░░░░░░░░░░░░░░░░░░░░░░░░░░░░░░░░▒ ╱╱\n",
      "           ╲╲▁▁▁▁▁▁▁▁▁▁▁▁▁▁▁▁▁▁▁▁▁▁▁▁▁▁▁▁▁▁▁▁▁▁▁▁╱╱                                        \n",
      "           \n",
      "--> Setup performed correctly. 90000 candidates will be generated.\n",
      "\n"
     ]
    }
   ],
   "source": [
    "from tscode.embedder import Embedder\n",
    "\n",
    "embedder = Embedder(r'C:\\Users\\Nik\\Desktop\\nt383\\P1\\string_embed_mock.txt', stamp='debug')\n",
    "embedder.objects[0].atomcoords = embedder.objects[0].atomcoords[0:20]\n",
    "embedder.objects[1].atomcoords = embedder.objects[1].atomcoords[0:20]"
   ]
  },
  {
   "cell_type": "code",
   "execution_count": 2,
   "metadata": {},
   "outputs": [
    {
     "name": "stdout",
     "output_type": "stream",
     "text": [
      "--> Input structures & reactive indexes data:\n",
      "\n",
      "    1. hemiacetals_Ph_confs.xyz -> 45 atoms, 50 conformers\n",
      "        33 -> H(Single Bond, 0.85 A, 1 center)\n",
      "\n",
      "    2. hemiacetals_Ph_confs.xyz -> 45 atoms, 50 conformers\n",
      "        33 -> H(Single Bond, 0.85 A, 1 center)\n",
      "\n",
      "--> Atom pairings imposed are 1: [[33, 78]] (Cumulative index numbering)\n",
      "\n",
      "    1. a - Constraint - 1.7 A\n",
      "       Index 33 (hydrogen) on hemiacetals_Ph_confs\n",
      "       Index 33 (hydrogen) on hemiacetals_Ph_confs\n",
      "\n",
      "--> Calculation options used were:\n",
      "    - calculator                : MOPAC\n",
      "    - clash_thresh              : 1.5\n",
      "    - csearch_aug               : True\n",
      "    - ff_calc                   : OB\n",
      "    - ff_level                  : MMFF94\n",
      "    - ff_opt                    : True\n",
      "    - kcal_thresh               : 20\n",
      "    - max_clashes               : 0\n",
      "    - max_confs                 : 1000\n",
      "    - max_newbonds              : 0\n",
      "    - only_refined              : False\n",
      "    - optimization              : True\n",
      "    - rmsd                      : 0.5\n",
      "    - shrink                    : False\n",
      "    - theory_level              : PM7\n",
      "    - tscode_procs              : 4\n",
      "\n",
      "--> Performing string embed (11.94 M candidates)\n",
      "Embedding structures  |##################################################| 100.0% (1716 found)\n",
      "Generated 1716 transition state candidates (3 m 5.198 s)\n",
      "\n",
      "--> Similarity Processing\n"
     ]
    },
    {
     "ename": "",
     "evalue": "",
     "output_type": "error",
     "traceback": [
      "\u001b[1;31mCanceled future for execute_request message before replies were done"
     ]
    },
    {
     "ename": "",
     "evalue": "",
     "output_type": "error",
     "traceback": [
      "\u001b[1;31mThe Kernel crashed while executing code in the the current cell or a previous cell. Please review the code in the cell(s) to identify a possible cause of the failure. Click <a href='https://aka.ms/vscodeJupyterKernelCrash'>here</a> for more info. View Jupyter <a href='command:jupyter.viewOutput'>log</a> for further details."
     ]
    }
   ],
   "source": [
    "embedder.run()"
   ]
  },
  {
   "cell_type": "code",
   "execution_count": 2,
   "metadata": {},
   "outputs": [
    {
     "data": {
      "text/plain": [
       "19"
      ]
     },
     "execution_count": 2,
     "metadata": {},
     "output_type": "execute_result"
    }
   ],
   "source": [
    "from tscode.utils import write_xyz\n",
    "\n",
    "with open('some_confs.xyz', 'w') as f:\n",
    "    for i, s in enumerate(embedder.objects[0].atomcoords):\n",
    "        write_xyz(s, embedder.objects[0].atomnos, f)\n",
    "\n",
    "i"
   ]
  },
  {
   "cell_type": "markdown",
   "metadata": {},
   "source": [
    "### Let's look at some conformers"
   ]
  },
  {
   "cell_type": "code",
   "execution_count": 1,
   "metadata": {},
   "outputs": [],
   "source": [
    "from tscode.utils import read_xyz\n",
    "from tscode.algebra import norm_of\n",
    "import matplotlib.pyplot as plt\n",
    "\n",
    "data = read_xyz(r'C:\\Users\\Nik\\Desktop\\P2\\urea\\TSCoDe_poses_P2_urea_lead.xyz')\n",
    "dists = [norm_of(c[35]-c[138]) for c in data.atomcoords]"
   ]
  },
  {
   "cell_type": "code",
   "execution_count": 4,
   "metadata": {},
   "outputs": [
    {
     "data": {
      "text/plain": [
       "[<matplotlib.lines.Line2D at 0x1d3deedcd30>]"
      ]
     },
     "execution_count": 4,
     "metadata": {},
     "output_type": "execute_result"
    },
    {
     "data": {
      "image/png": "[encoded data removed]",
      "text/plain": [
       "<Figure size 1152x576 with 1 Axes>"
      ]
     },
     "metadata": {
      "needs_background": "light"
     },
     "output_type": "display_data"
    }
   ],
   "source": [
    "fig = plt.figure(figsize=(16,8))\n",
    "plt.plot(dists[0:20], label='35 138 distance')"
   ]
  },
  {
   "cell_type": "code",
   "execution_count": 5,
   "metadata": {},
   "outputs": [
    {
     "data": {
      "text/plain": [
       "1.7502885928319463"
      ]
     },
     "execution_count": 5,
     "metadata": {},
     "output_type": "execute_result"
    }
   ],
   "source": [
    "import numpy as np\n",
    "np.mean(dists)"
   ]
  },
  {
   "cell_type": "code",
   "execution_count": 6,
   "metadata": {},
   "outputs": [
    {
     "data": {
      "text/plain": [
       "(array([ 16., 107., 153., 108., 169., 170., 124.,  16.,   0.,   1.]),\n",
       " array([1.56508011, 1.61023834, 1.65539656, 1.70055479, 1.74571301,\n",
       "        1.79087124, 1.83602946, 1.88118768, 1.92634591, 1.97150413,\n",
       "        2.01666236]),\n",
       " <BarContainer object of 10 artists>)"
      ]
     },
     "execution_count": 6,
     "metadata": {},
     "output_type": "execute_result"
    },
    {
     "data": {
      "image/png": "[encoded data removed]",
      "text/plain": [
       "<Figure size 432x288 with 1 Axes>"
      ]
     },
     "metadata": {
      "needs_background": "light"
     },
     "output_type": "display_data"
    }
   ],
   "source": [
    "plt.hist(dists)"
   ]
  },
  {
   "cell_type": "code",
   "execution_count": 9,
   "metadata": {},
   "outputs": [],
   "source": [
    "from tscode.hypermolecule_class import align_structures\n",
    "from tscode.utils import write_xyz\n",
    "\n",
    "with open('aligned.xyz', 'w') as f:\n",
    "    for c in align_structures(data.atomcoords, (0, 1, 2, 3, 4)):\n",
    "        write_xyz(c, data.atomnos, f)"
   ]
  },
  {
   "cell_type": "markdown",
   "metadata": {},
   "source": [
    "### pairing thing"
   ]
  },
  {
   "cell_type": "code",
   "execution_count": 23,
   "metadata": {},
   "outputs": [],
   "source": [
    "import re\n",
    "def x(reactive_atoms):\n",
    "    numbers = [int(re.sub('[^0-9]', '', i)) for i in reactive_atoms]\n",
    "    letters = [re.sub('[^a-z]', '', i) for i in reactive_atoms]\n",
    "    count = [letters.count(l) for l in letters]\n",
    "    return tuple([n for n, c in zip(numbers, count) if c == 1])\n",
    "\n",
    "def old(reactive_atoms):\n",
    "    return tuple([int(re.sub('[^0-9]', '', i)) for i in reactive_atoms])"
   ]
  },
  {
   "cell_type": "code",
   "execution_count": 22,
   "metadata": {},
   "outputs": [
    {
     "data": {
      "text/plain": [
       "(16,)"
      ]
     },
     "execution_count": 22,
     "metadata": {},
     "output_type": "execute_result"
    }
   ],
   "source": [
    "x('32a 16b 12a'.split())"
   ]
  },
  {
   "cell_type": "code",
   "execution_count": 25,
   "metadata": {},
   "outputs": [
    {
     "data": {
      "text/plain": [
       "(32,)"
      ]
     },
     "execution_count": 25,
     "metadata": {},
     "output_type": "execute_result"
    }
   ],
   "source": [
    "old('32a'.split())"
   ]
  },
  {
   "cell_type": "markdown",
   "metadata": {},
   "source": [
    "## PES"
   ]
  },
  {
   "cell_type": "code",
   "execution_count": 12,
   "metadata": {},
   "outputs": [],
   "source": [
    "from tscode.utils import read_xyz\n",
    "from tscode.calculators._xtb import xtb_opt, xtb_get_free_energy\n",
    "import os\n",
    "os.chdir('/mnt/c/Users/Nik/Desktop/maleimide/energetics')\n",
    "\n",
    "meoh = read_xyz('MeOH.xyz')\n",
    "sm = read_xyz('sm.xyz')\n",
    "p = read_xyz('p.xyz')\n",
    "hemi = read_xyz('hemiacetal.xyz')"
   ]
  },
  {
   "cell_type": "code",
   "execution_count": 19,
   "metadata": {},
   "outputs": [],
   "source": [
    "meoh_opt, meoh_e, _ = xtb_opt(meoh.atomcoords[0], meoh.atomnos, solvent='ch2cl2')"
   ]
  },
  {
   "cell_type": "code",
   "execution_count": 20,
   "metadata": {},
   "outputs": [],
   "source": [
    "sm_opt, sm_e, _ = xtb_opt(sm.atomcoords[0], sm.atomnos, solvent='ch2cl2')"
   ]
  },
  {
   "cell_type": "code",
   "execution_count": 21,
   "metadata": {},
   "outputs": [],
   "source": [
    "p_opt, p_e, _ = xtb_opt(p.atomcoords[0], p.atomnos, solvent='ch2cl2')"
   ]
  },
  {
   "cell_type": "code",
   "execution_count": 22,
   "metadata": {},
   "outputs": [],
   "source": [
    "hemi_opt, hemi_e, _ = xtb_opt(hemi.atomcoords[0], hemi.atomnos, solvent='ch2cl2')"
   ]
  },
  {
   "cell_type": "code",
   "execution_count": 25,
   "metadata": {},
   "outputs": [
    {
     "name": "stdout",
     "output_type": "stream",
     "text": [
      "sm - 4.594344331744651 kcal/mol\n",
      "hemi - 0.0 kcal/mol\n",
      "p+meoh - 10.064930831780657\n"
     ]
    }
   ],
   "source": [
    "m = min([p_e+meoh_e, sm_e, hemi_e])\n",
    "print(f'sm - {sm_e-m} kcal/mol')\n",
    "print(f'hemi - {hemi_e-m} kcal/mol')\n",
    "print(f'p+meoh - {(p_e+meoh_e)-m}')"
   ]
  },
  {
   "cell_type": "code",
   "execution_count": 17,
   "metadata": {},
   "outputs": [
    {
     "name": "stdout",
     "output_type": "stream",
     "text": [
      "1/4\n",
      "2/4\n",
      "3/4\n",
      "4/4\n",
      "meoh - 43821.488511890995 kcal/mol\n",
      "sm - 3.0178091661582584 kcal/mol\n",
      "p - 5143.317448615453 kcal/mol\n",
      "hemi - 0.0 kcal/mol\n"
     ]
    }
   ],
   "source": [
    "meoh_fe = xtb_get_free_energy(meoh_opt, meoh.atomnos, solvent='ch2cl2')\n",
    "print('1/4')\n",
    "sm_fe = xtb_get_free_energy(sm_opt, sm.atomnos, solvent='ch2cl2')\n",
    "print('2/4')\n",
    "p_fe = xtb_get_free_energy(p_opt, p.atomnos, solvent='ch2cl2')\n",
    "print('3/4')\n",
    "hemi_fe = xtb_get_free_energy(hemi_opt, hemi.atomnos, solvent='ch2cl2')\n",
    "print('4/4')"
   ]
  },
  {
   "cell_type": "code",
   "execution_count": 28,
   "metadata": {},
   "outputs": [
    {
     "name": "stdout",
     "output_type": "stream",
     "text": [
      "sm - 7.360036694226437 kcal/mol\n",
      "hemi - 4.342227528068179 kcal/mol\n",
      "p+meoh - 0.0\n"
     ]
    }
   ],
   "source": [
    "\n",
    "m = min([p_fe+meoh_fe, sm_fe, hemi_fe])\n",
    "print(f'sm - {sm_fe-m} kcal/mol')\n",
    "print(f'hemi - {hemi_fe-m} kcal/mol')\n",
    "print(f'p+meoh - {(p_fe+meoh_fe)-m}')"
   ]
  },
  {
   "cell_type": "code",
   "execution_count": 18,
   "metadata": {},
   "outputs": [],
   "source": [
    "from tscode.utils import write_xyz\n",
    "\n",
    "for s, a, n in zip((meoh_opt, sm_opt, p_opt, hemi_opt), (meoh.atomnos, sm.atomnos, p.atomnos, hemi.atomnos), ('meoh_opt', 'sm_opt', 'p_opt', 'hemi_opt')):\n",
    "    with open(f'{n}.xyz', 'w') as f:\n",
    "        write_xyz(s, a, f)"
   ]
  },
  {
   "cell_type": "code",
   "execution_count": 1,
   "metadata": {},
   "outputs": [
    {
     "data": {
      "text/plain": [
       "228"
      ]
     },
     "execution_count": 1,
     "metadata": {},
     "output_type": "execute_result"
    }
   ],
   "source": [
    "## deleteme\n",
    "from tscode.utils import read_xyz, write_xyz\n",
    "from tscode.algebra import norm_of\n",
    "data = read_xyz(r'C:\\Users\\Nik\\Desktop\\TSCoDe_checkpoint_lead_attack.xyz')\n",
    "len(data.atomcoords)"
   ]
  },
  {
   "cell_type": "code",
   "execution_count": 15,
   "metadata": {},
   "outputs": [
    {
     "data": {
      "text/plain": [
       "224"
      ]
     },
     "execution_count": 15,
     "metadata": {},
     "output_type": "execute_result"
    }
   ],
   "source": [
    "tups = [(i, norm_of(c[48]-c[133])) for i, c in enumerate(data.atomcoords)]\n",
    "i, d = zip(*sorted(tups, key=lambda x: x[1]))\n",
    "i[0]"
   ]
  },
  {
   "cell_type": "code",
   "execution_count": 17,
   "metadata": {},
   "outputs": [],
   "source": [
    "from tscode.hypermolecule_class import align_structures\n",
    "\n",
    "data.atomcoords = align_structures(data.atomcoords, indexes=[48, 133])\n",
    "with open('close.xyz', 'w') as f:\n",
    "    for ids, dd in zip(i, d):\n",
    "        write_xyz(data.atomcoords[ids], data.atomnos, f, f'd={dd} A')"
   ]
  },
  {
   "cell_type": "markdown",
   "metadata": {},
   "source": [
    "## Let's use malloc to see if we have a memory leak"
   ]
  },
  {
   "cell_type": "code",
   "execution_count": 2,
   "metadata": {},
   "outputs": [
    {
     "name": "stdout",
     "output_type": "stream",
     "text": [
      "\n",
      "             ▁▁▁▁▁▁▁▁▁▁▁▁▁▁▁▁▁▁▁▁▁▁▁▁▁▁▁▁▁▁▁▁▁▁▁\n",
      "            ╱───────────────────────────────────╲\n",
      "           ╱▒░░░░░░░░░░░░░░░░░░░░░░░░░░░░░░░░░░░▒╲\n",
      "       ▒░░░░░░░░░░░░░░░░░░░░░░░░░░░░░░░░░░░░░░░░░░░░▒\n",
      "    ▒░░░░░░░░░░░░░░░░░░░░░░░░░░░░░░░░░░░░░░░░░░░░░░░░░░▒ \n",
      "   ▒░████████╗░██████╗░█████╗░░█████╗░██████╗░███████╗░░░▒\n",
      "   ▒░╚══██╔══╝██╔════╝██╔══██╗██╔══██╗██╔══██╗██╔════╝░░░▒ \n",
      "   ▒░░░░██║░░░╚█████╗░██║░░╚═╝██║░░██║██║░░██║█████╗░░░░░▒  \n",
      "   ▒░░░░██║░░░░╚═══██╗██║░░██╗██║░░██║██║░░██║██╔══╝░░░░░▒   \n",
      "    ▒░░░██║░░░██████╔╝╚█████╔╝╚█████╔╝██████╔╝███████╗░░░▒    \n",
      "   ╱ ▒░░╚═╝░░░╚═════╝░░╚════╝░░╚════╝░╚═════╝░╚══════╝░░▒ ╲\n",
      "  ╱   ▒░░░░░░░░░░░░░░░░░░░░░░░░░░░░░░░░░░░░░░░░░░░░░░░░▒   ╲\n",
      " ╱    ▒░░╔══════════════════════════════════════════╗░░▒    ╲\n",
      " ╲╲    ▒░║  Transition State Conformational Docker  ║░▒    ╱╱   \n",
      "  ╲╲   ▒░║        nicolo.tampellini@yale.edu        ║░▒   ╱╱    \n",
      "   ╲╲  ▒░║                                          ║░▒  ╱╱         \n",
      "    ╲╲ ▒░║     Version    >          0.3.0          ║░▒ ╱╱                                     \n",
      "     ╲╲▒░║      User      >          linux          ║░▒╱╱                                       \n",
      "      ╲▒░║      Host      >       Nicolò-ASUS       ║░▒╱                                                     \n",
      "       ▒░║      Time      >    Wed Aug 31 12:41     ║░▒                 \n",
      "       ▒░╚══════════════════════════════════════════╝░▒                     \n",
      "        ▒░░░░░░░░░░░░░░░░░░░░░░░░░░░░░░░░░░░░░░░░░░░░▒                             \n",
      "          ╲╲ ▒░░░░░░░░░░░░░░░░░░░░░░░░░░░░░░░░░░▒ ╱╱\n",
      "           ╲╲▁▁▁▁▁▁▁▁▁▁▁▁▁▁▁▁▁▁▁▁▁▁▁▁▁▁▁▁▁▁▁▁▁▁▁▁╱╱                                        \n",
      "           \n",
      "--> Parsed keywords are:\n",
      "    TSCODEPROCS=1 RMSD=0.3 SOLVENT=CH2CL2 CONFS=10\n",
      "\n"
     ]
    },
    {
     "data": {
      "text/plain": [
       "(2, 105, 3)"
      ]
     },
     "execution_count": 2,
     "metadata": {},
     "output_type": "execute_result"
    }
   ],
   "source": [
    "import tracemalloc\n",
    "\n",
    "from tscode.embedder import Embedder\n",
    "from tscode.clustered_csearch import csearch\n",
    "\n",
    "# embedder = Embedder(r'C:\\Users\\Nik\\Desktop\\debug\\malloc\\input', stamp='debug')\n",
    "embedder = Embedder(r'/mnt/c/Users/Nik/Desktop/debug/malloc/input', stamp='debug')\n",
    "embedder.objects[0].atomcoords.shape"
   ]
  },
  {
   "cell_type": "code",
   "execution_count": 8,
   "metadata": {},
   "outputs": [
    {
     "data": {
      "text/plain": [
       "(2, 105, 3)"
      ]
     },
     "execution_count": 8,
     "metadata": {},
     "output_type": "execute_result"
    }
   ],
   "source": [
    "# does not seem to leak in the conformational search, maybe it does in the augmentation part\n",
    "from tscode.run import RunEmbedding\n",
    "import numpy as np\n",
    "mol = embedder.objects[0]\n",
    "\n",
    "embedder.options.ff_calc = 'XTB'\n",
    "embedder.options.ff_level = 'GFN-FF'\n",
    "\n",
    "re = RunEmbedding(embedder)\n",
    "re.structures = np.array(embedder.objects[0].atomcoords)\n",
    "re.atomnos = mol.atomnos\n",
    "re.constrained_indexes = np.array([[]])\n",
    "re.energies = np.array([])\n",
    "\n",
    "re.structures.shape"
   ]
  },
  {
   "cell_type": "code",
   "execution_count": 9,
   "metadata": {},
   "outputs": [
    {
     "name": "stdout",
     "output_type": "stream",
     "text": [
      "--> Performing conformational augmentation of TS candidates warmup\n",
      "Performing CSearch 2/2  |##################################################| 100.0%           )\n",
      "Conformational augmentation completed - generated 50 new conformers (1.247 s)\n",
      "\n"
     ]
    }
   ],
   "source": [
    "\n",
    "re.csearch_augmentation(text='warmup', max_structs=100)"
   ]
  },
  {
   "cell_type": "code",
   "execution_count": 11,
   "metadata": {},
   "outputs": [
    {
     "name": "stdout",
     "output_type": "stream",
     "text": [
      "--> Performing conformational augmentation of TS candidates (step 1/3)\n",
      "Performing CSearch 103/103  |##################################################| 100.0%           ted)\n",
      "Conformational augmentation completed - generated 102 new conformers (1 m 13.395 s)\n",
      "\n",
      "\n",
      "--> Checkpoint output - Wrote 205 TS structures to TSCoDe_checkpoint_debug.xyz file before FF optimization.\n",
      "\n",
      "--> Structure optimization (GFN-FF/ch2cl2 level via XTB)\n",
      "/home/linux/miniconda3/lib/python3.8/copy.py:230: size=806 KiB (+289 KiB), count=4326 (+1551), average=191 B\n",
      "<__array_function__ internals>:5: size=849 KiB (+268 KiB), count=105 (+24), average=8275 B\n",
      "/home/linux/miniconda3/lib/python3.8/copy.py:227: size=292 KiB (+106 KiB), count=4677 (+1701), average=64 B\n",
      "/home/linux/miniconda3/lib/python3.8/tracemalloc.py:532: size=193 KiB (+106 KiB), count=3583 (+1898), average=55 B\n",
      "/home/linux/miniconda3/lib/python3.8/site-packages/pygments/lexer.py:511: size=7328 B (-51.4 KiB), count=121 (-855), average=61 B\n"
     ]
    }
   ],
   "source": [
    "tracemalloc.start()\n",
    "s = tracemalloc.take_snapshot()\n",
    "\n",
    "############################################################\n",
    "\n",
    "try:\n",
    "    # re.csearch_augmentation(text='tracemalloc', max_structs=100)\n",
    "    re.csearch_augmentation_routine()\n",
    "except KeyboardInterrupt:\n",
    "    pass\n",
    "\n",
    "############################################################\n",
    "\n",
    "lines = []\n",
    "top_stats = tracemalloc.take_snapshot().compare_to(s, 'lineno')\n",
    "for stat in top_stats[:5]:\n",
    "    lines.append(str(stat))\n",
    "print(\"\\n\".join(lines))"
   ]
  },
  {
   "cell_type": "code",
   "execution_count": 14,
   "metadata": {},
   "outputs": [
    {
     "name": "stdout",
     "output_type": "stream",
     "text": [
      "ERROR: Could not find file /tmp/ipykernel_941/3919469545.py\n",
      "--> Performing conformational augmentation of TS candidates (step 1/3)\n",
      "Performing CSearch 28/205  |######--------------------------------------------| 13.2% (27 generated)\r"
     ]
    }
   ],
   "source": [
    "from memory_profiler import profile\n",
    "\n",
    "@profile\n",
    "def wrapper(*args, **kwargs):\n",
    "    return re.csearch_augmentation_routine()\n",
    "    \n",
    "try:\n",
    "    # re.csearch_augmentation(text='tracemalloc', max_structs=100)\n",
    "    wrapper()\n",
    "except KeyboardInterrupt:\n",
    "    pass"
   ]
  },
  {
   "cell_type": "code",
   "execution_count": 19,
   "metadata": {},
   "outputs": [
    {
     "data": {
      "text/plain": [
       "[<matplotlib.lines.Line2D at 0x7f02f90ad490>]"
      ]
     },
     "execution_count": 19,
     "metadata": {},
     "output_type": "execute_result"
    },
    {
     "data": {
      "image/png": "[encoded data removed]",
      "text/plain": [
       "<Figure size 1152x576 with 1 Axes>"
      ]
     },
     "metadata": {
      "needs_background": "light"
     },
     "output_type": "display_data"
    }
   ],
   "source": [
    "import matplotlib.pyplot as plt\n",
    "\n",
    "with open(r'/mnt/c/Users/Nik/Desktop/Coding/TSCoDe/tscode/mprofile_20220831160841.dat', 'r') as f:\n",
    "    lines = f.readlines()\n",
    "\n",
    "T, Y = [], []\n",
    "for line in lines[1:]:\n",
    "    _, y, t = line.split()\n",
    "    Y.append(float(y))\n",
    "    T.append(float(t))\n",
    "\n",
    "T = np.array(T)\n",
    "T -= np.min(T)\n",
    "\n",
    "fig = plt.figure(figsize=(16,8))\n",
    "plt.plot(T, Y)"
   ]
  },
  {
   "cell_type": "code",
   "execution_count": 20,
   "metadata": {},
   "outputs": [
    {
     "data": {
      "text/plain": [
       "(249, 154, 3)"
      ]
     },
     "execution_count": 20,
     "metadata": {},
     "output_type": "execute_result"
    }
   ],
   "source": [
    "## Crazy idea: average angle in embedded structures dictates axis?\n",
    "from tscode.utils import read_xyz\n",
    "\n",
    "data = read_xyz(r'/mnt/c/Users/Nik/Desktop/lead_attack/TSCoDe_checkpoint_lead_attack.xyz')\n",
    "data.atomcoords.shape"
   ]
  },
  {
   "cell_type": "code",
   "execution_count": 21,
   "metadata": {},
   "outputs": [
    {
     "data": {
      "text/plain": [
       "array([35.69588422, 46.3243366 , 41.08701178, 41.30324427, 50.4724347 ])"
      ]
     },
     "execution_count": 21,
     "metadata": {},
     "output_type": "execute_result"
    }
   ],
   "source": [
    "from tscode.algebra import dihedral\n",
    "import numpy as np\n",
    "import matplotlib.pyplot as plt\n",
    "angles = np.array([dihedral(c[[107, 108, 131, 114]]) for c in data.atomcoords])\n",
    "angles[0:5]"
   ]
  },
  {
   "cell_type": "code",
   "execution_count": 22,
   "metadata": {},
   "outputs": [
    {
     "data": {
      "text/plain": [
       "(array([25.,  5.,  0.,  0.,  0., 10., 84., 99., 25.,  1.]),\n",
       " array([-65.70397612, -48.26262328, -30.82127044, -13.3799176 ,\n",
       "          4.06143524,  21.50278808,  38.94414092,  56.38549376,\n",
       "         73.8268466 ,  91.26819944, 108.70955227]),\n",
       " <BarContainer object of 10 artists>)"
      ]
     },
     "execution_count": 22,
     "metadata": {},
     "output_type": "execute_result"
    },
    {
     "data": {
      "image/png": "[encoded data removed]",
      "text/plain": [
       "<Figure size 432x288 with 1 Axes>"
      ]
     },
     "metadata": {
      "needs_background": "light"
     },
     "output_type": "display_data"
    }
   ],
   "source": [
    "plt.hist(angles)"
   ]
  },
  {
   "cell_type": "code",
   "execution_count": 23,
   "metadata": {},
   "outputs": [
    {
     "data": {
      "text/plain": [
       "44.24234563191296"
      ]
     },
     "execution_count": 23,
     "metadata": {},
     "output_type": "execute_result"
    }
   ],
   "source": [
    "np.mean(angles)"
   ]
  },
  {
   "cell_type": "code",
   "execution_count": 25,
   "metadata": {},
   "outputs": [
    {
     "data": {
      "text/plain": [
       "32.76020239664593"
      ]
     },
     "execution_count": 25,
     "metadata": {},
     "output_type": "execute_result"
    }
   ],
   "source": [
    "weights = np.linspace(1, 0.5, num=len(angles))\n",
    "np.mean([a*w for a, w in zip(angles, weights)])"
   ]
  },
  {
   "cell_type": "code",
   "execution_count": 11,
   "metadata": {},
   "outputs": [
    {
     "data": {
      "text/plain": [
       "array([[0, 1, 2],\n",
       "       [2, 3, 4],\n",
       "       [3, 4, 5],\n",
       "       [4, 5, 6]])"
      ]
     },
     "execution_count": 11,
     "metadata": {},
     "output_type": "execute_result"
    }
   ],
   "source": [
    "from tscode.utils import rotate_dihedral\n",
    "import numpy as np\n",
    "\n",
    "a = np.array([[1, 2, 3],\n",
    "              [2, 3, 4],\n",
    "              [3, 4, 5],\n",
    "              [4, 5, 6],])\n",
    "\n",
    "b = rotate_dihedral(a.copy(), [0, 1, 2,3], 90)\n",
    "b"
   ]
  },
  {
   "cell_type": "code",
   "execution_count": 12,
   "metadata": {},
   "outputs": [
    {
     "data": {
      "text/plain": [
       "array([[1, 2, 3],\n",
       "       [2, 3, 4],\n",
       "       [3, 4, 5],\n",
       "       [4, 5, 6]])"
      ]
     },
     "execution_count": 12,
     "metadata": {},
     "output_type": "execute_result"
    }
   ],
   "source": [
    "a"
   ]
  },
  {
   "cell_type": "code",
   "execution_count": null,
   "metadata": {},
   "outputs": [],
   "source": []
  }
 ],
 "metadata": {
  "kernelspec": {
   "display_name": "Python 3.8.10 ('base')",
   "language": "python",
   "name": "python3"
  },
  "language_info": {
   "codemirror_mode": {
    "name": "ipython",
    "version": 3
   },
   "file_extension": ".py",
   "mimetype": "text/x-python",
   "name": "python",
   "nbconvert_exporter": "python",
   "pygments_lexer": "ipython3",
   "version": "3.8.10"
  },
  "orig_nbformat": 4,
  "vscode": {
   "interpreter": {
    "hash": "422f1aa206118b9971a857b28e0a49927c5d286f30fdcfc2308e1ad607d060af"
   }
  }
 },
 "nbformat": 4,
 "nbformat_minor": 2
}
