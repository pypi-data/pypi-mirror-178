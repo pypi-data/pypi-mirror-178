{
 "cells": [
  {
   "cell_type": "markdown",
   "id": "1a5989fe",
   "metadata": {},
   "source": [
    "# Define Schema for reducing NDP data\n",
    "This notebook should be copied into the lowest level directory that contains all of the data you wish to process in this session. A schema file is a JSON formatted file that will inform ndpReduce how to process data from a single sample. As\n",
    "a result, each sample will have its own unique schema file. \n",
    "\n",
    "Processing multiple samples will be done most efficiently through iterating the schema creation process in this notebook.\n",
    "In particular, if you are using a common set of background and reference data, a new schema file only requires modification\n",
    "of the sample data and monitor fields. One should be able to iterate through large data sets in this manner, but we will \n",
    "see if that is true (yet)."
   ]
  },
  {
   "cell_type": "code",
   "execution_count": 3,
   "id": "042b958a-a92a-4162-9648-0abeb18dd770",
   "metadata": {},
   "outputs": [],
   "source": [
    "%load_ext autoreload\n",
    "%autoreload 2"
   ]
  },
  {
   "cell_type": "code",
   "execution_count": 6,
   "id": "25f5ba6f",
   "metadata": {},
   "outputs": [],
   "source": [
    "import json\n",
    "import os\n",
    "from pprint import pprint\n",
    "from ndp import schema"
   ]
  },
  {
   "cell_type": "markdown",
   "id": "184b0765",
   "metadata": {},
   "source": [
    "## Define a new schema\n",
    "The schema function returns an \"object\" that has the schema template. There is a default template loaded, but the user should tailor the schema to their needs. \n",
    "\n",
    "Users can store and load prior schemas as starting points to avoid filling out the whole form each time. There is nothing preventing you from saving a schema over a prior schema, so watch out with file naming during a save schema operation!!!"
   ]
  },
  {
   "cell_type": "code",
   "execution_count": 7,
   "id": "f992a9b1",
   "metadata": {},
   "outputs": [],
   "source": [
    "heat0x = schema()"
   ]
  },
  {
   "cell_type": "code",
   "execution_count": 8,
   "id": "75ea7a5a",
   "metadata": {},
   "outputs": [
    {
     "name": "stdout",
     "output_type": "stream",
     "text": [
      "{'Absolute': {'Abundance': 0.0,\n",
      "              'Atom': '',\n",
      "              'Branch Frac': 0.0,\n",
      "              'Cross Sec': 0.0,\n",
      "              'Ref Abundance': 0.196,\n",
      "              'Ref Atom': 'B',\n",
      "              'Ref Conc': 5220000000000000.0,\n",
      "              'Ref Conc Uncert': 30000000000000.0,\n",
      "              'Ref Cross Sec': 3600.48},\n",
      " 'Bgd Dat': {'Files': '', 'Path': ''},\n",
      " 'Bgd Mon': {'Files': '', 'Path': ''},\n",
      " 'Bin': 1,\n",
      " 'Corr': [],\n",
      " 'Eval': {'Type': 'TRIM'},\n",
      " 'Load': ['Sam Dat'],\n",
      " 'Norm': [],\n",
      " 'Operations': ['Load', 'Bin', 'Save'],\n",
      " 'Ref Dat': {'Files': '', 'Path': ''},\n",
      " 'Ref Mon': {'Files': '', 'Path': ''},\n",
      " 'Sam Dat': {'Files': '', 'Path': ''},\n",
      " 'Sam Mon': {'Files': '', 'Path': ''},\n",
      " 'Save': {'Columns': ['Channels', 'Counts'],\n",
      "          'Filename': 'ndp_default.csv',\n",
      "          'Path': ''},\n",
      " 'TRIM': []}\n"
     ]
    }
   ],
   "source": [
    "pprint(heat0x.schema)"
   ]
  },
  {
   "cell_type": "markdown",
   "id": "9252eec4",
   "metadata": {},
   "source": [
    "## Optional Step: Load Schema from File\n",
    "The prior step defines the class object, but it also defines the structure of the schema with most fields empty. You can either load them up using the commands later in this notebook, or you could load a similar schema file here and only change the parts specific to this sample."
   ]
  },
  {
   "cell_type": "code",
   "execution_count": 9,
   "id": "68c41a67",
   "metadata": {},
   "outputs": [],
   "source": [
    "#with open('schema.json', 'r') as f:\n",
    "#    sample = json.load(f)\n",
    "    \n",
    "#pprint(sample)"
   ]
  },
  {
   "cell_type": "markdown",
   "id": "6a5802b1",
   "metadata": {},
   "source": [
    "## Define the operations and their parameters, then print to confirm\n",
    "The 'Operations' field determines which operations will be applied to the data. Operations that are not used do not need values in the related parameters sections, but if you have values there they will be ignored. For example, if you are not subtracting background ('Correct' operations), you do not need a list of background data files or background monitor files. You also do not need to define what types of files are being corrected ('Corr' field)."
   ]
  },
  {
   "cell_type": "code",
   "execution_count": 10,
   "id": "28eab59c",
   "metadata": {},
   "outputs": [],
   "source": [
    "heat0x.schema['Operations'] = ['Eval', 'Load', 'Norm', 'Correct', 'Absolute', 'Bin', 'Save']\n",
    "heat0x.schema['Eval'] = ['TRIM']\n",
    "heat0x.schema['Load'] = ['Sam Dat', 'Sam Mon', 'Bgd Dat', 'Bgd Mon', 'Ref Dat', 'Ref Mon']\n",
    "heat0x.schema['Norm'] = ['Sam', 'Ref', 'Bgd']\n",
    "heat0x.schema['Corr'] = ['Sam', 'Ref']\n",
    "heat0x.schema['Absolute']['Atom'] = 'B'\n",
    "heat0x.schema['Absolute']['Cross Sec'] = 3600.48\n",
    "heat0x.schema['Absolute']['Abundance'] = 0.196\n",
    "heat0x.schema['Absolute']['Ref Conc'] = 5.22e15\n",
    "heat0x.schema['Absolute']['Ref Conc Uncert'] = 3e13\n",
    "heat0x.schema['Absolute']['Branch Frac'] = 0.94\n",
    "heat0x.schema['Bin'] = 21\n",
    "heat0x.schema['Save']['Columns'] = ['Channels', 'Energy', 'Depth', 'Counts', 'Atoms/cm2', 'Atoms/cm2 Uncert', 'Atoms/cm3', 'Atoms/cm3 Uncert']"
   ]
  },
  {
   "cell_type": "markdown",
   "id": "835d8984",
   "metadata": {},
   "source": [
    "## TRIM Files\n",
    "Define the path and the file tag for the TRIM files.\n",
    "The file tag is a string that is common to all the TRIM files.\n",
    "Examples - \".txt\" if all the files have that suffix, or \"\" if all files in the directory"
   ]
  },
  {
   "cell_type": "code",
   "execution_count": null,
   "id": "16e77c70",
   "metadata": {},
   "outputs": [],
   "source": [
    "path = os.getcwd() + '/TRIM/'\n",
    "filetag = '.txt'\n",
    "heat0x.add_TRIMlayer(path, filetag)\n",
    "\n",
    "#path = os.getcwd() + '/TRIM/'\n",
    "#filetag = '.txt'\n",
    "#heat0x.add_TRIMlayer(path, filetag)\n",
    "\n",
    "#path = os.getcwd() + '/TRIM/'\n",
    "#filetag = '.txt'\n",
    "#heat0x.add_TRIMlayer(path, filetag)"
   ]
  },
  {
   "cell_type": "markdown",
   "id": "994b5802",
   "metadata": {},
   "source": [
    "## Background Files\n",
    "Define the path and the file tag for the background data files.\n",
    "The file tag is a string that is common to all the desired files.\n",
    "Examples - \".txt\" if all the files have that suffix, or \"\" if all files in the directory"
   ]
  },
  {
   "cell_type": "code",
   "execution_count": 7,
   "id": "fde0760d",
   "metadata": {},
   "outputs": [],
   "source": [
    "path = os.getcwd() + '/Background Al2O3/Lynx 1 - Master Data/'\n",
    "filetag = ''\n",
    "heat0x.schema['Bgd Dat']['Path'] = path\n",
    "heat0x.schema['Bgd Dat']['Files'] = heat0x.get_filelist(path, filetag)"
   ]
  },
  {
   "cell_type": "code",
   "execution_count": 8,
   "id": "865dbbf8",
   "metadata": {},
   "outputs": [],
   "source": [
    "path = os.getcwd() + '/Background Al2O3/Lynx 3 - Monitor Data/'\n",
    "filetag = ''\n",
    "heat0x.schema['Bgd Mon']['Path'] = path\n",
    "heat0x.schema['Bgd Mon']['Files'] = heat0x.get_filelist(path, filetag)"
   ]
  },
  {
   "cell_type": "markdown",
   "id": "8edeac44",
   "metadata": {},
   "source": [
    "## Reference Files\n",
    "Define the path and the file tag for the reference data files.\n",
    "The file tag is a string that is common to all the desired files.\n",
    "Examples - \".txt\" if all the files have that suffix, or \"\" if all files in the directory"
   ]
  },
  {
   "cell_type": "code",
   "execution_count": 9,
   "id": "0fb8ca04",
   "metadata": {},
   "outputs": [],
   "source": [
    "path = os.getcwd() + '/Reference Data N6/Lynx 1 - Master Data/'\n",
    "filetag = ''\n",
    "heat0x.schema['Ref Dat']['Path'] = path\n",
    "heat0x.schema['Ref Dat']['Files'] = heat0x.get_filelist(path, filetag)"
   ]
  },
  {
   "cell_type": "code",
   "execution_count": 10,
   "id": "f44bbdab",
   "metadata": {},
   "outputs": [],
   "source": [
    "path = os.getcwd() + '/Reference Data N6/Lynx 3 - Monitor Data/'\n",
    "filetag = ''\n",
    "heat0x.schema['Ref Mon']['Path'] = path\n",
    "heat0x.schema['Ref Mon']['Files'] = heat0x.get_filelist(path, filetag)"
   ]
  },
  {
   "cell_type": "markdown",
   "id": "f5f9669d",
   "metadata": {},
   "source": [
    "## Sample Data Files\n",
    "Define the path and the file tag for the sample data files.\n",
    "The file tag is a string that is common to all the desired files.\n",
    "Examples - \".txt\" if all the files have that suffix, or \"\" if all files in the directory"
   ]
  },
  {
   "cell_type": "code",
   "execution_count": 11,
   "id": "3046f614",
   "metadata": {},
   "outputs": [],
   "source": [
    "path = os.getcwd() + '/Sample Data Cr2O3/Lynx 1 - Master Data/'\n",
    "filetag = ''\n",
    "heat0x.schema['Sam Dat']['Path'] = path\n",
    "heat0x.schema['Sam Dat']['Files'] = heat0x.get_filelist(path, filetag)"
   ]
  },
  {
   "cell_type": "code",
   "execution_count": 12,
   "id": "4492328e",
   "metadata": {},
   "outputs": [],
   "source": [
    "path = os.getcwd() + '/Sample Data Cr2O3/Lynx 3 - Monitor Data/'\n",
    "filetag = ''\n",
    "heat0x.schema['Sam Mon']['Path'] = path\n",
    "heat0x.schema['Sam Mon']['Files'] = heat0x.get_filelist(path, filetag)"
   ]
  },
  {
   "cell_type": "code",
   "execution_count": 13,
   "id": "e1a1ef0b",
   "metadata": {},
   "outputs": [],
   "source": [
    "heat0x.schema['Save']['Path'] = os.getcwd()\n",
    "heat0x.schema['Save']['Filename'] = 'heat0x.csv'"
   ]
  },
  {
   "cell_type": "markdown",
   "id": "ad814426",
   "metadata": {},
   "source": [
    "## Save Schema"
   ]
  },
  {
   "cell_type": "code",
   "execution_count": 14,
   "id": "1c0eef7b",
   "metadata": {},
   "outputs": [],
   "source": [
    "heat0x.save_schema('heat0x.json')"
   ]
  },
  {
   "cell_type": "code",
   "execution_count": 15,
   "id": "bcafd532",
   "metadata": {},
   "outputs": [
    {
     "name": "stdout",
     "output_type": "stream",
     "text": [
      "{'Absolute': {'Abundance': 0.196,\n",
      "              'Atom': 'B',\n",
      "              'Branch Frac': 0.94,\n",
      "              'Cross Sec': 3600.48,\n",
      "              'Ref Abundance': 0.196,\n",
      "              'Ref Atom': 'B',\n",
      "              'Ref Conc': 5220000000000000.0,\n",
      "              'Ref Conc Uncert': 30000000000000.0,\n",
      "              'Ref Cross Sec': 3600.48},\n",
      " 'Bgd Dat': {'Files': ['190810_Binek_Blnk_Cr2O3_3mm036.spe',\n",
      "                       '190810_Binek_Blnk_Cr2O3_3mm036_001.spe',\n",
      "                       '190810_Binek_Blnk_Cr2O3_3mm036_002.spe',\n",
      "                       '190810_Binek_Blnk_Cr2O3_3mm036_003.spe'],\n",
      "             'Path': 'C:\\\\Users\\\\rljones\\\\Documents\\\\NDP Data\\\\Cr2O3 two '\n",
      "                     'heats/Background Al2O3/Lynx 1 - Master Data/'},\n",
      " 'Bgd Mon': {'Files': ['190810_Binek_Blnk_Cr2O3_3mm038.spe',\n",
      "                       '190810_Binek_Blnk_Cr2O3_3mm038_001.spe',\n",
      "                       '190810_Binek_Blnk_Cr2O3_3mm038_002.spe',\n",
      "                       '190810_Binek_Blnk_Cr2O3_3mm038_003.spe'],\n",
      "             'Path': 'C:\\\\Users\\\\rljones\\\\Documents\\\\NDP Data\\\\Cr2O3 two '\n",
      "                     'heats/Background Al2O3/Lynx 3 - Monitor Data/'},\n",
      " 'Bin': 21,\n",
      " 'Corr': ['Sam', 'Ref'],\n",
      " 'Eval': ['TRIM'],\n",
      " 'Load': ['Sam Dat', 'Sam Mon', 'Bgd Dat', 'Bgd Mon', 'Ref Dat', 'Ref Mon'],\n",
      " 'Norm': ['Sam', 'Ref', 'Bgd'],\n",
      " 'Operations': ['Eval', 'Load', 'Norm', 'Correct', 'Absolute', 'Bin', 'Save'],\n",
      " 'Ref Dat': {'Files': ['190731_Binek_N6c_3mm018.spe',\n",
      "                       '190731_Binek_N6c_3mm018_001.spe',\n",
      "                       '190731_Binek_N6c_3mm018_002.spe'],\n",
      "             'Path': 'C:\\\\Users\\\\rljones\\\\Documents\\\\NDP Data\\\\Cr2O3 two '\n",
      "                     'heats/Reference Data N6/Lynx 1 - Master Data/'},\n",
      " 'Ref Mon': {'Files': ['190731_Binek_N6c_3mm020.spe',\n",
      "                       '190731_Binek_N6c_3mm020_001.spe',\n",
      "                       '190731_Binek_N6c_3mm020_002.spe'],\n",
      "             'Path': 'C:\\\\Users\\\\rljones\\\\Documents\\\\NDP Data\\\\Cr2O3 two '\n",
      "                     'heats/Reference Data N6/Lynx 3 - Monitor Data/'},\n",
      " 'Sam Dat': {'Files': ['190718_Binek_B14115K_1smp_5mm033_022.spe',\n",
      "                       '190718_Binek_B14115K_1smp_5mm033_023.spe',\n",
      "                       '190718_Binek_B14115K_1smp_5mm033_024.spe',\n",
      "                       '190718_Binek_B14115K_1smp_5mm033_025.spe',\n",
      "                       '190718_Binek_B14115K_1smp_5mm033_026.spe',\n",
      "                       '190718_Binek_B14115K_1smp_5mm033_027.spe',\n",
      "                       '190718_Binek_B14115K_1smp_5mm033_028.spe',\n",
      "                       '190718_Binek_B14115K_1smp_5mm033_029.spe',\n",
      "                       '190718_Binek_B14115K_1smp_5mm033_030.spe',\n",
      "                       '190718_Binek_B14115K_1smp_5mm033_031.spe'],\n",
      "             'Path': 'C:\\\\Users\\\\rljones\\\\Documents\\\\NDP Data\\\\Cr2O3 two '\n",
      "                     'heats/Sample Data Cr2O3/Lynx 1 - Master Data/'},\n",
      " 'Sam Mon': {'Files': ['190718_Binek_B14115K_1smp_5mm035_022.spe',\n",
      "                       '190718_Binek_B14115K_1smp_5mm035_023.spe',\n",
      "                       '190718_Binek_B14115K_1smp_5mm035_024.spe',\n",
      "                       '190718_Binek_B14115K_1smp_5mm035_025.spe',\n",
      "                       '190718_Binek_B14115K_1smp_5mm035_026.spe',\n",
      "                       '190718_Binek_B14115K_1smp_5mm035_027.spe',\n",
      "                       '190718_Binek_B14115K_1smp_5mm035_028.spe',\n",
      "                       '190718_Binek_B14115K_1smp_5mm035_029.spe',\n",
      "                       '190718_Binek_B14115K_1smp_5mm035_030.spe',\n",
      "                       '190718_Binek_B14115K_1smp_5mm035_031.spe'],\n",
      "             'Path': 'C:\\\\Users\\\\rljones\\\\Documents\\\\NDP Data\\\\Cr2O3 two '\n",
      "                     'heats/Sample Data Cr2O3/Lynx 3 - Monitor Data/'},\n",
      " 'Save': {'Columns': ['Channels',\n",
      "                      'Energy',\n",
      "                      'Depth',\n",
      "                      'Counts',\n",
      "                      'Atoms/cm2',\n",
      "                      'Atoms/cm2 Uncert',\n",
      "                      'Atoms/cm3',\n",
      "                      'Atoms/cm3 Uncert'],\n",
      "          'Filename': 'heat0x.csv',\n",
      "          'Path': 'C:\\\\Users\\\\rljones\\\\Documents\\\\NDP Data\\\\Cr2O3 two heats'},\n",
      " 'TRIM': [{'Files': ['10 nm Cr2O3 alpha.txt',\n",
      "                     '100 nm Cr2O3 alpha.txt',\n",
      "                     '150 nm Cr2O3 alpha.txt',\n",
      "                     '200 nm Cr2O3 alpha.txt',\n",
      "                     '25 nm Cr2O3 alpha.txt',\n",
      "                     '300 nm Cr2O3 alpha.txt',\n",
      "                     '400 nm Cr2O3 alpha.txt',\n",
      "                     '50 nm Cr2O3 alpha.txt'],\n",
      "           'Path': 'C:\\\\Users\\\\rljones\\\\Documents\\\\NDP Data\\\\Cr2O3 two '\n",
      "                   'heats/TRIM/'}]}\n"
     ]
    }
   ],
   "source": [
    "pprint(heat0x.schema)"
   ]
  }
 ],
 "metadata": {
  "kernelspec": {
   "display_name": "ndp",
   "language": "python",
   "name": "ndp"
  },
  "language_info": {
   "codemirror_mode": {
    "name": "ipython",
    "version": 3
   },
   "file_extension": ".py",
   "mimetype": "text/x-python",
   "name": "python",
   "nbconvert_exporter": "python",
   "pygments_lexer": "ipython3",
   "version": "3.11.0"
  }
 },
 "nbformat": 4,
 "nbformat_minor": 5
}
