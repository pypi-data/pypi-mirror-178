{
 "cells": [
  {
   "cell_type": "markdown",
   "metadata": {},
   "source": [
    "# Reducing Neutron Depth Profiling Data\n",
    "A Jupyter notebook designed to work through NDP data using the\n",
    "python package ndpReduce\n",
    "\n",
    "Copy this notebook and the related \"Schema.ipynb\" into the lowest level \n",
    "directory that contains the ndp data you wish to process. \n",
    "\n",
    "This notebook relies on input from a schema.json file, created with\n",
    "a separate notebook titled \"Schema.ipynb\". You should work through that\n",
    "notebook before running this code."
   ]
  },
  {
   "cell_type": "code",
   "execution_count": 3,
   "metadata": {
    "scrolled": true
   },
   "outputs": [],
   "source": [
    "import numpy as np\n",
    "import matplotlib.pyplot as plt\n",
    "from pprint import pprint\n",
    "from ndp import ndpData\n",
    "\n",
    "#These are just print options I set so I can print data objects, do not affect calculations\n",
    "np.set_printoptions(threshold=40)\n",
    "np.set_printoptions(precision=10)\n",
    "np.set_printoptions(suppress=True)"
   ]
  },
  {
   "cell_type": "markdown",
   "metadata": {},
   "source": [
    "## Run NDPReduce\n",
    "First, create the class and give it a name. We create a new object for each sample, so the name can be something representative of the sample (i.e. heat1 or heat2). If you plan to look at the data in another application, the name is aribtrary as it will die when you close this notebook. But remember, the cells below will need to be changed to reflect your choice of name of the data set. "
   ]
  },
  {
   "cell_type": "code",
   "execution_count": 2,
   "metadata": {
    "scrolled": true
   },
   "outputs": [],
   "source": [
    "# Create instance for this sample\n",
    "ndp = ndp.ndpData()\n",
    "\n",
    "# Load instrument configuration\n",
    "ndp.readconfig('c:/Users/rljones/Documents/GitHub/ndp/config/config.json')\n",
    "\n",
    "# Run your schema\n",
    "ndp.runschema('heat0x.json')"
   ]
  },
  {
   "cell_type": "markdown",
   "metadata": {},
   "source": [
    "## Plot and Print Data"
   ]
  },
  {
   "cell_type": "code",
   "execution_count": 3,
   "metadata": {},
   "outputs": [
    {
     "data": {
      "image/png": "[encoded data removed]",
      "text/plain": [
       "<Figure size 432x288 with 1 Axes>"
      ]
     },
     "metadata": {
      "needs_background": "light"
     },
     "output_type": "display_data"
    }
   ],
   "source": [
    "#Plot TRIM data and the polynomial fit of the data\n",
    "yval = ndp.TRIM['Depth']\n",
    "xval = ndp.TRIM['Energy']\n",
    "\n",
    "a, b, c = ndp.TRIM['Coeffs']\n",
    "yfit = a*xval*xval + b*xval + c\n",
    "\n",
    "title = ndp.TRIM['Material'][0]\n",
    "\n",
    "fig, ax = plt.subplots()\n",
    "\n",
    "ax.set_title(title)\n",
    "\n",
    "ax.set_xlabel('Energy (KeV)')\n",
    "ax.set_ylabel('Depth (nm)')\n",
    "ax.plot(xval, yval, marker = 'x', linestyle='None')\n",
    "ax.plot(xval, yfit, marker = 'None', linestyle='-')\n",
    "\n",
    "plt.show()"
   ]
  },
  {
   "cell_type": "code",
   "execution_count": 4,
   "metadata": {},
   "outputs": [
    {
     "name": "stdout",
     "output_type": "stream",
     "text": [
      "{'Beam Energy': 1472.35,\n",
      " 'Calib Coeffs': [0.7144, -12.45],\n",
      " 'Configuration': 'Default',\n",
      " 'Mon Peak Channels': [1900, 2901],\n",
      " 'Num Channels': 4096,\n",
      " 'Zero Channel': 2077}\n"
     ]
    }
   ],
   "source": [
    "# Print the instrument configuration\n",
    "pprint(ndp.instrument)"
   ]
  },
  {
   "cell_type": "code",
   "execution_count": 5,
   "metadata": {},
   "outputs": [
    {
     "name": "stdout",
     "output_type": "stream",
     "text": [
      "{'Coeffs': array([  -0.0001885984,   -1.2389363512, 2232.9359758187]),\n",
      " 'Depth': array([  0.          ,  10.1070775849, 100.1149602066, 150.1151533625,\n",
      "       200.1152888528,  25.1061837579, 300.1152689681, 400.115773818 ,\n",
      "        50.1120760598]),\n",
      " 'Energy': array([1472.35 , 1466.694, 1416.164, 1387.879, 1359.507, 1458.294,\n",
      "       1302.011, 1243.826, 1444.274]),\n",
      " 'Layers': [{'Files': ['10 nm Cr2O3 alpha.txt',\n",
      "                       '100 nm Cr2O3 alpha.txt',\n",
      "                       '150 nm Cr2O3 alpha.txt',\n",
      "                       '200 nm Cr2O3 alpha.txt',\n",
      "                       '25 nm Cr2O3 alpha.txt',\n",
      "                       '300 nm Cr2O3 alpha.txt',\n",
      "                       '400 nm Cr2O3 alpha.txt',\n",
      "                       '50 nm Cr2O3 alpha.txt'],\n",
      "             'Path': 'C:\\\\Users\\\\rljones\\\\Documents\\\\NDP Data\\\\Cr2O3 two '\n",
      "                     'heats/TRIM/'}],\n",
      " 'Material': [' Cr2O3(  100 A)',\n",
      "              ' Cr2O3( 1000 A)',\n",
      "              ' Cr2O3( 1500 A)',\n",
      "              ' Cr2O3( 2000 A)',\n",
      "              ' Cr2O3(  250 A)',\n",
      "              ' Cr2O3( 3000 A)',\n",
      "              ' Cr2O3( 4000 A)',\n",
      "              ' Cr2O3(  500 A)'],\n",
      " 'Type': 'TRIM'}\n"
     ]
    }
   ],
   "source": [
    "# Print the TRIM data\n",
    "pprint(ndp.TRIM)"
   ]
  },
  {
   "cell_type": "code",
   "execution_count": 6,
   "metadata": {},
   "outputs": [
    {
     "name": "stdout",
     "output_type": "stream",
     "text": [
      "{'Bgd Dat': {'Counts': array([0., 0., 0., ..., 0., 0., 0.]),\n",
      "             'Counts/Dt': array([0., 0., 0., ..., 0., 0., 0.]),\n",
      "             'Counts/Dt Uncert': array([0., 0., 0., ..., 0., 0., 0.]),\n",
      "             'Datetime': datetime.datetime(2010, 8, 1, 15, 46, 9),\n",
      "             'Detector': ['Lynx-01-Master',\n",
      "                          'Lynx-01-Master',\n",
      "                          'Lynx-01-Master',\n",
      "                          'Lynx-01-Master'],\n",
      "             'Dt ratio': 0.9996392183225701,\n",
      "             'Files': ['190810_Binek_Blnk_Cr2O3_3mm036.spe',\n",
      "                       '190810_Binek_Blnk_Cr2O3_3mm036_001.spe',\n",
      "                       '190810_Binek_Blnk_Cr2O3_3mm036_002.spe',\n",
      "                       '190810_Binek_Blnk_Cr2O3_3mm036_003.spe'],\n",
      "             'Labels': ['190810_Binek_Blnk_Cr2O3_3mm',\n",
      "                        '190810_Binek_Blnk_Cr2O3_3mm',\n",
      "                        '190810_Binek_Blnk_Cr2O3_3mm',\n",
      "                        '190810_Binek_Blnk_Cr2O3_3mm'],\n",
      "             'Live Time': 28788.19,\n",
      "             'Monitor': 87488.03793626602,\n",
      "             'Monitor Uncert': 295.78376888576224,\n",
      "             'Norm Cts': array([0., 0., 0., ..., 0., 0., 0.]),\n",
      "             'Norm Cts Uncert': array([0., 0., 0., ..., 0., 0., 0.]),\n",
      "             'Operations': ['Channel Sum', 'Deadtime Scaled', 'Normalized'],\n",
      "             'Path': 'C:\\\\Users\\\\rljones\\\\Documents\\\\NDP Data\\\\Cr2O3 two '\n",
      "                     'heats/Background Al2O3/Lynx 1 - Master Data/',\n",
      "             'Real Time': 28798.579999999998},\n",
      " 'Bgd Mon': {'Counts': array([0., 0., 0., ..., 0., 0., 0.]),\n",
      "             'Counts/Dt': array([0., 0., 0., ..., 0., 0., 0.]),\n",
      "             'Counts/Dt Uncert': array([0., 0., 0., ..., 0., 0., 0.]),\n",
      "             'Datetime': datetime.datetime(2010, 8, 1, 18, 14, 16),\n",
      "             'Detector': ['Lynx-03-Slave',\n",
      "                          'Lynx-03-Slave',\n",
      "                          'Lynx-03-Slave',\n",
      "                          'Lynx-03-Slave'],\n",
      "             'Dt ratio': 0.999965275981292,\n",
      "             'Files': ['190810_Binek_Blnk_Cr2O3_3mm038.spe',\n",
      "                       '190810_Binek_Blnk_Cr2O3_3mm038_001.spe',\n",
      "                       '190810_Binek_Blnk_Cr2O3_3mm038_002.spe',\n",
      "                       '190810_Binek_Blnk_Cr2O3_3mm038_003.spe'],\n",
      "             'Labels': ['190810_Binek_Blnk_Cr2O3_3mm',\n",
      "                        '190810_Binek_Blnk_Cr2O3_3mm',\n",
      "                        '190810_Binek_Blnk_Cr2O3_3mm',\n",
      "                        '190810_Binek_Blnk_Cr2O3_3mm'],\n",
      "             'Live Time': 28797.510000000002,\n",
      "             'Operations': ['Channel Sum', 'Deadtime Scaled'],\n",
      "             'Path': 'C:\\\\Users\\\\rljones\\\\Documents\\\\NDP Data\\\\Cr2O3 two '\n",
      "                     'heats/Background Al2O3/Lynx 3 - Monitor Data/',\n",
      "             'Real Time': 28798.510000000002},\n",
      " 'Ref Dat': {'Abundance': 0.196,\n",
      "             'Atom': 'B',\n",
      "             'Conc': 5220000000000000.0,\n",
      "             'Conc Uncert': 30000000000000.0,\n",
      "             'Corr Cts': array([0., 0., 0., ..., 0., 0., 0.]),\n",
      "             'Corr Cts Uncert': array([0., 0., 0., ..., 0., 0., 0.]),\n",
      "             'Counts': array([0., 0., 0., ..., 0., 0., 0.]),\n",
      "             'Counts/Dt': array([0., 0., 0., ..., 0., 0., 0.]),\n",
      "             'Counts/Dt Uncert': array([0., 0., 0., ..., 0., 0., 0.]),\n",
      "             'Cross Sec': 3600.48,\n",
      "             'Datetime': datetime.datetime(2031, 7, 1, 11, 42, 54),\n",
      "             'Detector': ['Lynx-01-Master', 'Lynx-01-Master', 'Lynx-01-Master'],\n",
      "             'Dt ratio': 0.9997036892997114,\n",
      "             'Files': ['190731_Binek_N6c_3mm018.spe',\n",
      "                       '190731_Binek_N6c_3mm018_001.spe',\n",
      "                       '190731_Binek_N6c_3mm018_002.spe'],\n",
      "             'Labels': ['190731_Binek_N6c_3mm',\n",
      "                        '190731_Binek_N6c_3mm',\n",
      "                        '190731_Binek_N6c_3mm'],\n",
      "             'Live Time': 21592.550000000003,\n",
      "             'Monitor': 64678.07275337164,\n",
      "             'Monitor Uncert': 254.3188407361351,\n",
      "             'Norm Cts': array([0., 0., 0., ..., 0., 0., 0.]),\n",
      "             'Norm Cts Uncert': array([0., 0., 0., ..., 0., 0., 0.]),\n",
      "             'Operations': ['Channel Sum',\n",
      "                            'Deadtime Scaled',\n",
      "                            'Normalized',\n",
      "                            'Corrected',\n",
      "                            'Integrated Peaks'],\n",
      "             'Path': 'C:\\\\Users\\\\rljones\\\\Documents\\\\NDP Data\\\\Cr2O3 two '\n",
      "                     'heats/Reference Data N6/Lynx 1 - Master Data/',\n",
      "             'Real Time': 21598.95,\n",
      "             'alpha': 0.014127513954530999,\n",
      "             'alpha Uncert': 0.00048172092154534686,\n",
      "             'alpha*': 0.20461168952417325,\n",
      "             'alpha* Uncert': 0.001794199348263165},\n",
      " 'Ref Mon': {'Counts': array([0., 0., 0., ..., 0., 0., 0.]),\n",
      "             'Counts/Dt': array([0., 0., 0., ..., 0., 0., 0.]),\n",
      "             'Counts/Dt Uncert': array([0., 0., 0., ..., 0., 0., 0.]),\n",
      "             'Datetime': datetime.datetime(2031, 7, 1, 14, 11),\n",
      "             'Detector': ['Lynx-03-Slave', 'Lynx-03-Slave', 'Lynx-03-Slave'],\n",
      "             'Dt ratio': 0.9991948932434923,\n",
      "             'Files': ['190731_Binek_N6c_3mm020.spe',\n",
      "                       '190731_Binek_N6c_3mm020_001.spe',\n",
      "                       '190731_Binek_N6c_3mm020_002.spe'],\n",
      "             'Labels': ['190731_Binek_N6c_3mm',\n",
      "                        '190731_Binek_N6c_3mm',\n",
      "                        '190731_Binek_N6c_3mm'],\n",
      "             'Live Time': 21582.23,\n",
      "             'Operations': ['Channel Sum', 'Deadtime Scaled'],\n",
      "             'Path': 'C:\\\\Users\\\\rljones\\\\Documents\\\\NDP Data\\\\Cr2O3 two '\n",
      "                     'heats/Reference Data N6/Lynx 3 - Monitor Data/',\n",
      "             'Real Time': 21599.62},\n",
      " 'Sam Dat': {'Abundance': 0.196,\n",
      "             'Atom': 'B',\n",
      "             'Atoms/cm2': array([0., 0., 0., ..., 0., 0., 0.]),\n",
      "             'Atoms/cm2 Binned': array([ 3.7115149174e+11,  2.4743432782e+11, -6.9020971255e+11, ...,\n",
      "        0.0000000000e+00,  0.0000000000e+00,  0.0000000000e+00]),\n",
      "             'Atoms/cm2 Binned Uncert': array([2.1429819996e+11, 1.7497374757e+11, 4.4707323819e+11, ...,\n",
      "       0.0000000000e+00, 0.0000000000e+00, 0.0000000000e+00]),\n",
      "             'Atoms/cm2 Uncert': array([0., 0., 0., ..., 0., 0., 0.]),\n",
      "             'Atoms/cm3': array([-0.,  0.,  0., ...,  0.,  0.,  0.]),\n",
      "             'Atoms/cm3 Binned': array([ 4.1960202822e+18,  2.7822076404e+18, -7.7224766474e+18, ...,\n",
      "        0.0000000000e+00,  0.0000000000e+00,  0.0000000000e+00]),\n",
      "             'Atoms/cm3 Binned Uncert': array([2.4257560442e+18, 1.9699019600e+18, 5.0194718184e+18, ...,\n",
      "       0.0000000000e+00, 0.0000000000e+00, 0.0000000000e+00]),\n",
      "             'Atoms/cm3 Uncert': array([-0.,  0.,  0., ...,  0.,  0.,  0.]),\n",
      "             'Branch Frac': 0.94,\n",
      "             'Corr Cts': array([0., 0., 0., ..., 0., 0., 0.]),\n",
      "             'Corr Cts Uncert': array([0., 0., 0., ..., 0., 0., 0.]),\n",
      "             'Counts': array([0., 0., 0., ..., 0., 0., 0.]),\n",
      "             'Counts Binned': array([0.1428571429, 0.0952380952, 0.2857142857, ..., 0.          ,\n",
      "       0.          , 0.          ]),\n",
      "             'Counts/Dt': array([0., 0., 0., ..., 0., 0., 0.]),\n",
      "             'Counts/Dt Uncert': array([0., 0., 0., ..., 0., 0., 0.]),\n",
      "             'Cross Sec': 3600.48,\n",
      "             'Datetime': datetime.datetime(2019, 7, 1, 4, 46, 3),\n",
      "             'Detector': ['Lynx-01-Master',\n",
      "                          'Lynx-01-Master',\n",
      "                          'Lynx-01-Master',\n",
      "                          'Lynx-01-Master',\n",
      "                          'Lynx-01-Master',\n",
      "                          'Lynx-01-Master',\n",
      "                          'Lynx-01-Master',\n",
      "                          'Lynx-01-Master',\n",
      "                          'Lynx-01-Master',\n",
      "                          'Lynx-01-Master'],\n",
      "             'Dt ratio': 0.9996327012572065,\n",
      "             'Files': ['190718_Binek_B14115K_1smp_5mm033_022.spe',\n",
      "                       '190718_Binek_B14115K_1smp_5mm033_023.spe',\n",
      "                       '190718_Binek_B14115K_1smp_5mm033_024.spe',\n",
      "                       '190718_Binek_B14115K_1smp_5mm033_025.spe',\n",
      "                       '190718_Binek_B14115K_1smp_5mm033_026.spe',\n",
      "                       '190718_Binek_B14115K_1smp_5mm033_027.spe',\n",
      "                       '190718_Binek_B14115K_1smp_5mm033_028.spe',\n",
      "                       '190718_Binek_B14115K_1smp_5mm033_029.spe',\n",
      "                       '190718_Binek_B14115K_1smp_5mm033_030.spe',\n",
      "                       '190718_Binek_B14115K_1smp_5mm033_031.spe'],\n",
      "             'Labels': ['190718_Binek_B14115K_1smp_5mm',\n",
      "                        '190718_Binek_B14115K_1smp_5mm',\n",
      "                        '190718_Binek_B14115K_1smp_5mm',\n",
      "                        '190718_Binek_B14115K_1smp_5mm',\n",
      "                        '190718_Binek_B14115K_1smp_5mm',\n",
      "                        '190718_Binek_B14115K_1smp_5mm',\n",
      "                        '190718_Binek_B14115K_1smp_5mm',\n",
      "                        '190718_Binek_B14115K_1smp_5mm',\n",
      "                        '190718_Binek_B14115K_1smp_5mm',\n",
      "                        '190718_Binek_B14115K_1smp_5mm'],\n",
      "             'Live Time': 17989.640000000003,\n",
      "             'Monitor': 53317.08917850474,\n",
      "             'Monitor Uncert': 230.90493537060817,\n",
      "             'Norm Cts': array([0., 0., 0., ..., 0., 0., 0.]),\n",
      "             'Norm Cts Uncert': array([0., 0., 0., ..., 0., 0., 0.]),\n",
      "             'Operations': ['Channel Sum',\n",
      "                            'Deadtime Scaled',\n",
      "                            'Normalized',\n",
      "                            'Corrected',\n",
      "                            'Scaled to Reference'],\n",
      "             'Path': 'C:\\\\Users\\\\rljones\\\\Documents\\\\NDP Data\\\\Cr2O3 two '\n",
      "                     'heats/Sample Data Cr2O3/Lynx 1 - Master Data/',\n",
      "             'Real Time': 17996.25},\n",
      " 'Sam Mon': {'Counts': array([0., 0., 0., ..., 0., 0., 0.]),\n",
      "             'Counts/Dt': array([0., 0., 0., ..., 0., 0., 0.]),\n",
      "             'Counts/Dt Uncert': array([0., 0., 0., ..., 0., 0., 0.]),\n",
      "             'Datetime': datetime.datetime(2019, 7, 1, 7, 13, 50),\n",
      "             'Detector': ['Lynx-03-Slave',\n",
      "                          'Lynx-03-Slave',\n",
      "                          'Lynx-03-Slave',\n",
      "                          'Lynx-03-Slave',\n",
      "                          'Lynx-03-Slave',\n",
      "                          'Lynx-03-Slave',\n",
      "                          'Lynx-03-Slave',\n",
      "                          'Lynx-03-Slave',\n",
      "                          'Lynx-03-Slave',\n",
      "                          'Lynx-03-Slave'],\n",
      "             'Dt ratio': 0.9973350162078609,\n",
      "             'Files': ['190718_Binek_B14115K_1smp_5mm035_022.spe',\n",
      "                       '190718_Binek_B14115K_1smp_5mm035_023.spe',\n",
      "                       '190718_Binek_B14115K_1smp_5mm035_024.spe',\n",
      "                       '190718_Binek_B14115K_1smp_5mm035_025.spe',\n",
      "                       '190718_Binek_B14115K_1smp_5mm035_026.spe',\n",
      "                       '190718_Binek_B14115K_1smp_5mm035_027.spe',\n",
      "                       '190718_Binek_B14115K_1smp_5mm035_028.spe',\n",
      "                       '190718_Binek_B14115K_1smp_5mm035_029.spe',\n",
      "                       '190718_Binek_B14115K_1smp_5mm035_030.spe',\n",
      "                       '190718_Binek_B14115K_1smp_5mm035_031.spe'],\n",
      "             'Labels': ['190718_Binek_B14115K_1smp_5mm',\n",
      "                        '190718_Binek_B14115K_1smp_5mm',\n",
      "                        '190718_Binek_B14115K_1smp_5mm',\n",
      "                        '190718_Binek_B14115K_1smp_5mm',\n",
      "                        '190718_Binek_B14115K_1smp_5mm',\n",
      "                        '190718_Binek_B14115K_1smp_5mm',\n",
      "                        '190718_Binek_B14115K_1smp_5mm',\n",
      "                        '190718_Binek_B14115K_1smp_5mm',\n",
      "                        '190718_Binek_B14115K_1smp_5mm',\n",
      "                        '190718_Binek_B14115K_1smp_5mm'],\n",
      "             'Live Time': 17937.170000000002,\n",
      "             'Operations': ['Channel Sum', 'Deadtime Scaled'],\n",
      "             'Path': 'C:\\\\Users\\\\rljones\\\\Documents\\\\NDP Data\\\\Cr2O3 two '\n",
      "                     'heats/Sample Data Cr2O3/Lynx 3 - Monitor Data/',\n",
      "             'Real Time': 17985.100000000002}}\n"
     ]
    }
   ],
   "source": [
    "# Print the Sample, Reference, and Background Data\n",
    "pprint(ndp.data)"
   ]
  },
  {
   "cell_type": "code",
   "execution_count": 7,
   "metadata": {},
   "outputs": [
    {
     "data": {
      "image/png": "[encoded data removed]",
      "text/plain": [
       "<Figure size 432x288 with 3 Axes>"
      ]
     },
     "metadata": {
      "needs_background": "light"
     },
     "output_type": "display_data"
    }
   ],
   "source": [
    "#Plot the three data original data sets (summed and deadtime corrected) \n",
    "fig, axs = plt.subplots(3, 1, sharex=True)\n",
    "\n",
    "fig.suptitle('Sample, Background, Reference')\n",
    "\n",
    "axs[0].set_ylabel('Sample')\n",
    "axs[0].plot(ndp.detector[\"Energy\"], ndp.data[\"Sam Dat\"][\"Counts\"])\n",
    "axs[0].set_yscale('log')\n",
    "\n",
    "axs[1].set_ylabel('Background')\n",
    "axs[1].plot(ndp.detector[\"Energy\"], ndp.data[\"Bgd Dat\"][\"Counts\"])\n",
    "axs[1].set_yscale('log')\n",
    "\n",
    "axs[2].set_ylabel('Reference')\n",
    "axs[2].plot(ndp.detector[\"Energy\"], ndp.data[\"Ref Dat\"][\"Counts\"])\n",
    "axs[2].set_yscale('log')\n",
    "axs[2].set_xlabel('Energy (keV)')\n",
    "plt.show()"
   ]
  },
  {
   "cell_type": "code",
   "execution_count": 8,
   "metadata": {},
   "outputs": [
    {
     "data": {
      "image/png": "[encoded data removed]",
      "text/plain": [
       "<Figure size 432x288 with 1 Axes>"
      ]
     },
     "metadata": {
      "needs_background": "light"
     },
     "output_type": "display_data"
    }
   ],
   "source": [
    "# Plot the main result of the measurement\n",
    "fig, ax = plt.subplots()\n",
    "\n",
    "ax.set_title('Atoms/cm2 vs. Depth')\n",
    "ax.set_ylabel('10B Atoms/cm2')\n",
    "ax.set_xlabel('Depth (nm)')\n",
    "ax.plot(ndp.detector[\"Depth Binned\"], ndp.data[\"Sam Dat\"][\"Atoms/cm2 Binned\"])\n",
    "ax.set_yscale('linear')\n",
    "ax.set_xlim(0, 3000)\n",
    "#ax.set_ylim(0, 1e16)\n",
    "plt.show()"
   ]
  },
  {
   "cell_type": "code",
   "execution_count": null,
   "metadata": {},
   "outputs": [],
   "source": []
  }
 ],
 "metadata": {
  "kernelspec": {
   "display_name": "ndp",
   "language": "python",
   "name": "ndp"
  },
  "language_info": {
   "codemirror_mode": {
    "name": "ipython",
    "version": 3
   },
   "file_extension": ".py",
   "mimetype": "text/x-python",
   "name": "python",
   "nbconvert_exporter": "python",
   "pygments_lexer": "ipython3",
   "version": "3.11.0"
  }
 },
 "nbformat": 4,
 "nbformat_minor": 4
}
